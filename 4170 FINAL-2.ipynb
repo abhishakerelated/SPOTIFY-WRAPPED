{
 "cells": [
  {
   "cell_type": "markdown",
   "metadata": {},
   "source": [
    "# SPOTIFY WRAP \n",
    "by ABHISHEK SHRESTHA"
   ]
  },
  {
   "cell_type": "markdown",
   "metadata": {},
   "source": [
    "                                                                             DATA VISUALIZATION CIS 4170"
   ]
  },
  {
   "cell_type": "code",
   "execution_count": 2,
   "metadata": {},
   "outputs": [
    {
     "name": "stdout",
     "output_type": "stream",
     "text": [
      "Requirement already up-to-date: spotipy in /opt/anaconda3/lib/python3.8/site-packages (2.18.0)\n",
      "Requirement already satisfied, skipping upgrade: requests>=2.25.0 in /opt/anaconda3/lib/python3.8/site-packages (from spotipy) (2.25.1)\n",
      "Requirement already satisfied, skipping upgrade: six>=1.15.0 in /opt/anaconda3/lib/python3.8/site-packages (from spotipy) (1.15.0)\n",
      "Requirement already satisfied, skipping upgrade: urllib3>=1.26.0 in /opt/anaconda3/lib/python3.8/site-packages (from spotipy) (1.26.4)\n",
      "Requirement already satisfied, skipping upgrade: idna<3,>=2.5 in /opt/anaconda3/lib/python3.8/site-packages (from requests>=2.25.0->spotipy) (2.10)\n",
      "Requirement already satisfied, skipping upgrade: chardet<5,>=3.0.2 in /opt/anaconda3/lib/python3.8/site-packages (from requests>=2.25.0->spotipy) (3.0.4)\n",
      "Requirement already satisfied, skipping upgrade: certifi>=2017.4.17 in /opt/anaconda3/lib/python3.8/site-packages (from requests>=2.25.0->spotipy) (2020.6.20)\n",
      "Note: you may need to restart the kernel to use updated packages.\n"
     ]
    }
   ],
   "source": [
    "pip install spotipy --upgrade #install spotipy packages "
   ]
  },
  {
   "cell_type": "code",
   "execution_count": 3,
   "metadata": {},
   "outputs": [
    {
     "name": "stdout",
     "output_type": "stream",
     "text": [
      "Requirement already up-to-date: spotify in /opt/anaconda3/lib/python3.8/site-packages (0.10.2)\n",
      "Requirement already satisfied, skipping upgrade: backoff<2.0.0,>=1.10.0 in /opt/anaconda3/lib/python3.8/site-packages (from spotify) (1.10.0)\n",
      "Requirement already satisfied, skipping upgrade: aiohttp<4.0,>=3.6 in /opt/anaconda3/lib/python3.8/site-packages (from spotify) (3.7.4.post0)\n",
      "Requirement already satisfied, skipping upgrade: attrs>=17.3.0 in /opt/anaconda3/lib/python3.8/site-packages (from aiohttp<4.0,>=3.6->spotify) (19.3.0)\n",
      "Requirement already satisfied, skipping upgrade: chardet<5.0,>=2.0 in /opt/anaconda3/lib/python3.8/site-packages (from aiohttp<4.0,>=3.6->spotify) (3.0.4)\n",
      "Requirement already satisfied, skipping upgrade: multidict<7.0,>=4.5 in /opt/anaconda3/lib/python3.8/site-packages (from aiohttp<4.0,>=3.6->spotify) (5.1.0)\n",
      "Requirement already satisfied, skipping upgrade: typing-extensions>=3.6.5 in /opt/anaconda3/lib/python3.8/site-packages (from aiohttp<4.0,>=3.6->spotify) (3.7.4.2)\n",
      "Requirement already satisfied, skipping upgrade: yarl<2.0,>=1.0 in /opt/anaconda3/lib/python3.8/site-packages (from aiohttp<4.0,>=3.6->spotify) (1.6.3)\n",
      "Requirement already satisfied, skipping upgrade: async-timeout<4.0,>=3.0 in /opt/anaconda3/lib/python3.8/site-packages (from aiohttp<4.0,>=3.6->spotify) (3.0.1)\n",
      "Requirement already satisfied, skipping upgrade: idna>=2.0 in /opt/anaconda3/lib/python3.8/site-packages (from yarl<2.0,>=1.0->aiohttp<4.0,>=3.6->spotify) (2.10)\n",
      "Note: you may need to restart the kernel to use updated packages.\n"
     ]
    }
   ],
   "source": [
    "pip install -U spotify #install spotify packages "
   ]
  },
  {
   "cell_type": "code",
   "execution_count": 4,
   "metadata": {},
   "outputs": [
    {
     "name": "stdout",
     "output_type": "stream",
     "text": [
      "Collecting git+https://github.com/mental32/spotify.py\n",
      "  Cloning https://github.com/mental32/spotify.py to /private/var/folders/pw/_6j6q7ls25j338ppymdlzq8c0000gn/T/pip-req-build-2t7xvxqs\n",
      "  Running command git clone -q https://github.com/mental32/spotify.py /private/var/folders/pw/_6j6q7ls25j338ppymdlzq8c0000gn/T/pip-req-build-2t7xvxqs\n",
      "  Installing build dependencies ... \u001b[?25ldone\n",
      "\u001b[?25h  Getting requirements to build wheel ... \u001b[?25ldone\n",
      "\u001b[?25h    Preparing wheel metadata ... \u001b[?25ldone\n",
      "\u001b[?25hRequirement already satisfied, skipping upgrade: aiohttp<4.0,>=3.6 in /opt/anaconda3/lib/python3.8/site-packages (from spotify==0.10.2) (3.7.4.post0)\n",
      "Requirement already satisfied, skipping upgrade: backoff<2.0.0,>=1.10.0 in /opt/anaconda3/lib/python3.8/site-packages (from spotify==0.10.2) (1.10.0)\n",
      "Requirement already satisfied, skipping upgrade: multidict<7.0,>=4.5 in /opt/anaconda3/lib/python3.8/site-packages (from aiohttp<4.0,>=3.6->spotify==0.10.2) (5.1.0)\n",
      "Requirement already satisfied, skipping upgrade: chardet<5.0,>=2.0 in /opt/anaconda3/lib/python3.8/site-packages (from aiohttp<4.0,>=3.6->spotify==0.10.2) (3.0.4)\n",
      "Requirement already satisfied, skipping upgrade: typing-extensions>=3.6.5 in /opt/anaconda3/lib/python3.8/site-packages (from aiohttp<4.0,>=3.6->spotify==0.10.2) (3.7.4.2)\n",
      "Requirement already satisfied, skipping upgrade: async-timeout<4.0,>=3.0 in /opt/anaconda3/lib/python3.8/site-packages (from aiohttp<4.0,>=3.6->spotify==0.10.2) (3.0.1)\n",
      "Requirement already satisfied, skipping upgrade: attrs>=17.3.0 in /opt/anaconda3/lib/python3.8/site-packages (from aiohttp<4.0,>=3.6->spotify==0.10.2) (19.3.0)\n",
      "Requirement already satisfied, skipping upgrade: yarl<2.0,>=1.0 in /opt/anaconda3/lib/python3.8/site-packages (from aiohttp<4.0,>=3.6->spotify==0.10.2) (1.6.3)\n",
      "Requirement already satisfied, skipping upgrade: idna>=2.0 in /opt/anaconda3/lib/python3.8/site-packages (from yarl<2.0,>=1.0->aiohttp<4.0,>=3.6->spotify==0.10.2) (2.10)\n",
      "Building wheels for collected packages: spotify\n",
      "  Building wheel for spotify (PEP 517) ... \u001b[?25ldone\n",
      "\u001b[?25h  Created wheel for spotify: filename=spotify-0.10.2-py3-none-any.whl size=49752 sha256=f7385d1b66b8767b6e1a1c88c2326e32d6917b3db4cc4ace81fd0dcb6fa67597\n",
      "  Stored in directory: /private/var/folders/pw/_6j6q7ls25j338ppymdlzq8c0000gn/T/pip-ephem-wheel-cache-86q5w6ry/wheels/25/d6/5a/d28469ea92284c93647d0998504cb196019e61f1d33b0c8493\n",
      "Successfully built spotify\n",
      "Installing collected packages: spotify\n",
      "  Attempting uninstall: spotify\n",
      "    Found existing installation: spotify 0.10.2\n",
      "    Uninstalling spotify-0.10.2:\n",
      "      Successfully uninstalled spotify-0.10.2\n",
      "Successfully installed spotify-0.10.2\n",
      "Note: you may need to restart the kernel to use updated packages.\n"
     ]
    }
   ],
   "source": [
    "pip install -U git+https://github.com/mental32/spotify.py #egg=spotify"
   ]
  },
  {
   "cell_type": "code",
   "execution_count": 5,
   "metadata": {},
   "outputs": [],
   "source": [
    "import pandas as pd \n",
    "import numpy as np \n",
    "import json\n",
    "import datetime\n",
    "from datetime import timedelta "
   ]
  },
  {
   "cell_type": "code",
   "execution_count": 6,
   "metadata": {},
   "outputs": [],
   "source": [
    "import matplotlib.pyplot as plt\n",
    "import seaborn as sns"
   ]
  },
  {
   "cell_type": "code",
   "execution_count": 7,
   "metadata": {},
   "outputs": [
    {
     "data": {
      "text/html": [
       "        <script type=\"text/javascript\">\n",
       "        window.PlotlyConfig = {MathJaxConfig: 'local'};\n",
       "        if (window.MathJax) {MathJax.Hub.Config({SVG: {font: \"STIX-Web\"}});}\n",
       "        if (typeof require !== 'undefined') {\n",
       "        require.undef(\"plotly\");\n",
       "        requirejs.config({\n",
       "            paths: {\n",
       "                'plotly': ['https://cdn.plot.ly/plotly-latest.min']\n",
       "            }\n",
       "        });\n",
       "        require(['plotly'], function(Plotly) {\n",
       "            window._Plotly = Plotly;\n",
       "        });\n",
       "        }\n",
       "        </script>\n",
       "        "
      ]
     },
     "metadata": {},
     "output_type": "display_data"
    }
   ],
   "source": [
    "import plotly.express as px\n",
    "from plotly.offline import download_plotlyjs, init_notebook_mode, plot, iplot\n",
    "init_notebook_mode(connected=True)\n",
    "import plotly.graph_objects as go"
   ]
  },
  {
   "cell_type": "code",
   "execution_count": 8,
   "metadata": {},
   "outputs": [],
   "source": [
    "#import webbrowswer\n",
    "\n",
    "import spotipy.util as util\n",
    "from spotipy.oauth2 import SpotifyClientCredentials\n",
    "import spotify.sync as spotify "
   ]
  },
  {
   "cell_type": "markdown",
   "metadata": {},
   "source": [
    "Importing JSON file to a DataFrame "
   ]
  },
  {
   "cell_type": "code",
   "execution_count": 9,
   "metadata": {},
   "outputs": [
    {
     "name": "stdout",
     "output_type": "stream",
     "text": [
      "[{'endTime': '2020-05-09 00:00', 'artistName': 'Alessia Cara', 'trackName': 'Out Of Love', 'msPlayed': 2922}]\n"
     ]
    }
   ],
   "source": [
    "#Import the data from a json file \n",
    "\n",
    "with open('StreamingHistory0.json', encoding='utf8') as f: data = json.load(f)\n",
    "print(data[:1])"
   ]
  },
  {
   "cell_type": "code",
   "execution_count": 10,
   "metadata": {},
   "outputs": [],
   "source": [
    "#Convert from json to a dataframe \n",
    "\n",
    "streamingHistory0 = pd.DataFrame()\n",
    "def extract_json_value(column_name):\n",
    "    return [i[column_name] for i in data]\n",
    "\n",
    "streamingHistory0['artist_name'] = extract_json_value('artistName')\n",
    "streamingHistory0['track_name'] = extract_json_value('trackName')\n",
    "streamingHistory0['ms_played'] = extract_json_value('msPlayed')\n",
    "streamingHistory0['end_time'] = extract_json_value('endTime')"
   ]
  },
  {
   "cell_type": "code",
   "execution_count": 11,
   "metadata": {},
   "outputs": [
    {
     "name": "stdout",
     "output_type": "stream",
     "text": [
      "<class 'pandas.core.frame.DataFrame'>\n",
      "RangeIndex: 10000 entries, 0 to 9999\n",
      "Data columns (total 4 columns):\n",
      " #   Column       Non-Null Count  Dtype \n",
      "---  ------       --------------  ----- \n",
      " 0   artist_name  10000 non-null  object\n",
      " 1   track_name   10000 non-null  object\n",
      " 2   ms_played    10000 non-null  int64 \n",
      " 3   end_time     10000 non-null  object\n",
      "dtypes: int64(1), object(3)\n",
      "memory usage: 312.6+ KB\n"
     ]
    }
   ],
   "source": [
    "streamingHistory0.info()"
   ]
  },
  {
   "cell_type": "code",
   "execution_count": 12,
   "metadata": {},
   "outputs": [
    {
     "name": "stdout",
     "output_type": "stream",
     "text": [
      "[{'endTime': '2020-08-13 12:47', 'artistName': 'Roddy Ricch', 'trackName': 'The Box', 'msPlayed': 81514}]\n"
     ]
    }
   ],
   "source": [
    "#Import the data from a json file \n",
    "\n",
    "with open('StreamingHistory1.json', encoding='utf8') as f: data = json.load(f)\n",
    "print(data[:1])"
   ]
  },
  {
   "cell_type": "code",
   "execution_count": 13,
   "metadata": {},
   "outputs": [],
   "source": [
    "#Convert from json to a dataframe \n",
    "\n",
    "streamingHistory1 = pd.DataFrame()\n",
    "def extract_json_value(column_name):\n",
    "    return [i[column_name] for i in data]\n",
    "\n",
    "streamingHistory1['artist_name'] = extract_json_value('artistName')\n",
    "streamingHistory1['track_name'] = extract_json_value('trackName')\n",
    "streamingHistory1['ms_played'] = extract_json_value('msPlayed')\n",
    "streamingHistory1['end_time'] = extract_json_value('endTime')"
   ]
  },
  {
   "cell_type": "code",
   "execution_count": 14,
   "metadata": {},
   "outputs": [
    {
     "name": "stdout",
     "output_type": "stream",
     "text": [
      "<class 'pandas.core.frame.DataFrame'>\n",
      "RangeIndex: 10000 entries, 0 to 9999\n",
      "Data columns (total 4 columns):\n",
      " #   Column       Non-Null Count  Dtype \n",
      "---  ------       --------------  ----- \n",
      " 0   artist_name  10000 non-null  object\n",
      " 1   track_name   10000 non-null  object\n",
      " 2   ms_played    10000 non-null  int64 \n",
      " 3   end_time     10000 non-null  object\n",
      "dtypes: int64(1), object(3)\n",
      "memory usage: 312.6+ KB\n"
     ]
    }
   ],
   "source": [
    "streamingHistory1.info()"
   ]
  },
  {
   "cell_type": "code",
   "execution_count": 15,
   "metadata": {},
   "outputs": [
    {
     "name": "stdout",
     "output_type": "stream",
     "text": [
      "[{'endTime': '2021-03-20 23:11', 'artistName': 'BIA', 'trackName': 'FREE BIA (1ST DAY OUT)', 'msPlayed': 2730}]\n"
     ]
    }
   ],
   "source": [
    "#Import the data from a json file \n",
    "\n",
    "with open('StreamingHistory2.json', encoding='utf8') as f: data = json.load(f)\n",
    "print(data[:1])"
   ]
  },
  {
   "cell_type": "code",
   "execution_count": 16,
   "metadata": {},
   "outputs": [],
   "source": [
    "#Convert from json to a dataframe \n",
    "\n",
    "streamingHistory2 = pd.DataFrame()\n",
    "def extract_json_value(column_name):\n",
    "    return [i[column_name] for i in data]\n",
    "\n",
    "streamingHistory2['artist_name'] = extract_json_value('artistName')\n",
    "streamingHistory2['track_name'] = extract_json_value('trackName')\n",
    "streamingHistory2['ms_played'] = extract_json_value('msPlayed')\n",
    "streamingHistory2['end_time'] = extract_json_value('endTime')"
   ]
  },
  {
   "cell_type": "code",
   "execution_count": 17,
   "metadata": {},
   "outputs": [
    {
     "name": "stdout",
     "output_type": "stream",
     "text": [
      "<class 'pandas.core.frame.DataFrame'>\n",
      "RangeIndex: 6901 entries, 0 to 6900\n",
      "Data columns (total 4 columns):\n",
      " #   Column       Non-Null Count  Dtype \n",
      "---  ------       --------------  ----- \n",
      " 0   artist_name  6901 non-null   object\n",
      " 1   track_name   6901 non-null   object\n",
      " 2   ms_played    6901 non-null   int64 \n",
      " 3   end_time     6901 non-null   object\n",
      "dtypes: int64(1), object(3)\n",
      "memory usage: 215.8+ KB\n"
     ]
    }
   ],
   "source": [
    "streamingHistory2.info()"
   ]
  },
  {
   "cell_type": "markdown",
   "metadata": {},
   "source": [
    "Merging Three Data Sets"
   ]
  },
  {
   "cell_type": "code",
   "execution_count": 18,
   "metadata": {},
   "outputs": [],
   "source": [
    "streamingHistory = streamingHistory0.append(streamingHistory1).append(streamingHistory2)"
   ]
  },
  {
   "cell_type": "code",
   "execution_count": 19,
   "metadata": {},
   "outputs": [
    {
     "data": {
      "text/html": [
       "<div>\n",
       "<style scoped>\n",
       "    .dataframe tbody tr th:only-of-type {\n",
       "        vertical-align: middle;\n",
       "    }\n",
       "\n",
       "    .dataframe tbody tr th {\n",
       "        vertical-align: top;\n",
       "    }\n",
       "\n",
       "    .dataframe thead th {\n",
       "        text-align: right;\n",
       "    }\n",
       "</style>\n",
       "<table border=\"1\" class=\"dataframe\">\n",
       "  <thead>\n",
       "    <tr style=\"text-align: right;\">\n",
       "      <th></th>\n",
       "      <th>artist_name</th>\n",
       "      <th>track_name</th>\n",
       "      <th>ms_played</th>\n",
       "      <th>end_time</th>\n",
       "    </tr>\n",
       "  </thead>\n",
       "  <tbody>\n",
       "    <tr>\n",
       "      <th>0</th>\n",
       "      <td>Alessia Cara</td>\n",
       "      <td>Out Of Love</td>\n",
       "      <td>2922</td>\n",
       "      <td>2020-05-09 00:00</td>\n",
       "    </tr>\n",
       "    <tr>\n",
       "      <th>1</th>\n",
       "      <td>rum.gold</td>\n",
       "      <td>Save You</td>\n",
       "      <td>112725</td>\n",
       "      <td>2020-05-09 00:00</td>\n",
       "    </tr>\n",
       "    <tr>\n",
       "      <th>2</th>\n",
       "      <td>Lewis Capaldi</td>\n",
       "      <td>Bruises</td>\n",
       "      <td>5942</td>\n",
       "      <td>2020-05-09 00:02</td>\n",
       "    </tr>\n",
       "    <tr>\n",
       "      <th>3</th>\n",
       "      <td>XXXTENTACION</td>\n",
       "      <td>Everybody Dies In Their Nightmares</td>\n",
       "      <td>95466</td>\n",
       "      <td>2020-05-09 00:02</td>\n",
       "    </tr>\n",
       "    <tr>\n",
       "      <th>4</th>\n",
       "      <td>Calum Scott</td>\n",
       "      <td>Dancing On My Own</td>\n",
       "      <td>618</td>\n",
       "      <td>2020-05-09 00:02</td>\n",
       "    </tr>\n",
       "    <tr>\n",
       "      <th>...</th>\n",
       "      <td>...</td>\n",
       "      <td>...</td>\n",
       "      <td>...</td>\n",
       "      <td>...</td>\n",
       "    </tr>\n",
       "    <tr>\n",
       "      <th>6896</th>\n",
       "      <td>Sushant KC</td>\n",
       "      <td>Sathi</td>\n",
       "      <td>215073</td>\n",
       "      <td>2021-05-09 22:48</td>\n",
       "    </tr>\n",
       "    <tr>\n",
       "      <th>6897</th>\n",
       "      <td>Sushant KC</td>\n",
       "      <td>Satayera</td>\n",
       "      <td>224396</td>\n",
       "      <td>2021-05-09 22:52</td>\n",
       "    </tr>\n",
       "    <tr>\n",
       "      <th>6898</th>\n",
       "      <td>Sushant KC</td>\n",
       "      <td>Mausam</td>\n",
       "      <td>199466</td>\n",
       "      <td>2021-05-09 22:55</td>\n",
       "    </tr>\n",
       "    <tr>\n",
       "      <th>6899</th>\n",
       "      <td>Sushant KC</td>\n",
       "      <td>Satayera</td>\n",
       "      <td>373366</td>\n",
       "      <td>2021-05-09 23:02</td>\n",
       "    </tr>\n",
       "    <tr>\n",
       "      <th>6900</th>\n",
       "      <td>Sushant KC</td>\n",
       "      <td>Mausam</td>\n",
       "      <td>161535</td>\n",
       "      <td>2021-05-09 23:04</td>\n",
       "    </tr>\n",
       "  </tbody>\n",
       "</table>\n",
       "<p>26901 rows × 4 columns</p>\n",
       "</div>"
      ],
      "text/plain": [
       "        artist_name                          track_name  ms_played  \\\n",
       "0      Alessia Cara                         Out Of Love       2922   \n",
       "1          rum.gold                            Save You     112725   \n",
       "2     Lewis Capaldi                             Bruises       5942   \n",
       "3      XXXTENTACION  Everybody Dies In Their Nightmares      95466   \n",
       "4       Calum Scott                   Dancing On My Own        618   \n",
       "...             ...                                 ...        ...   \n",
       "6896     Sushant KC                               Sathi     215073   \n",
       "6897     Sushant KC                            Satayera     224396   \n",
       "6898     Sushant KC                              Mausam     199466   \n",
       "6899     Sushant KC                            Satayera     373366   \n",
       "6900     Sushant KC                              Mausam     161535   \n",
       "\n",
       "              end_time  \n",
       "0     2020-05-09 00:00  \n",
       "1     2020-05-09 00:00  \n",
       "2     2020-05-09 00:02  \n",
       "3     2020-05-09 00:02  \n",
       "4     2020-05-09 00:02  \n",
       "...                ...  \n",
       "6896  2021-05-09 22:48  \n",
       "6897  2021-05-09 22:52  \n",
       "6898  2021-05-09 22:55  \n",
       "6899  2021-05-09 23:02  \n",
       "6900  2021-05-09 23:04  \n",
       "\n",
       "[26901 rows x 4 columns]"
      ]
     },
     "execution_count": 19,
     "metadata": {},
     "output_type": "execute_result"
    }
   ],
   "source": [
    "streamingHistory"
   ]
  },
  {
   "cell_type": "markdown",
   "metadata": {},
   "source": [
    "To Time Stamp format "
   ]
  },
  {
   "cell_type": "code",
   "execution_count": 20,
   "metadata": {},
   "outputs": [
    {
     "data": {
      "text/html": [
       "<div>\n",
       "<style scoped>\n",
       "    .dataframe tbody tr th:only-of-type {\n",
       "        vertical-align: middle;\n",
       "    }\n",
       "\n",
       "    .dataframe tbody tr th {\n",
       "        vertical-align: top;\n",
       "    }\n",
       "\n",
       "    .dataframe thead th {\n",
       "        text-align: right;\n",
       "    }\n",
       "</style>\n",
       "<table border=\"1\" class=\"dataframe\">\n",
       "  <thead>\n",
       "    <tr style=\"text-align: right;\">\n",
       "      <th></th>\n",
       "      <th>artist_name</th>\n",
       "      <th>track_name</th>\n",
       "      <th>ms_played</th>\n",
       "      <th>end_time</th>\n",
       "    </tr>\n",
       "  </thead>\n",
       "  <tbody>\n",
       "    <tr>\n",
       "      <th>0</th>\n",
       "      <td>Alessia Cara</td>\n",
       "      <td>Out Of Love</td>\n",
       "      <td>2922</td>\n",
       "      <td>2020-05-09 00:00:00</td>\n",
       "    </tr>\n",
       "    <tr>\n",
       "      <th>1</th>\n",
       "      <td>rum.gold</td>\n",
       "      <td>Save You</td>\n",
       "      <td>112725</td>\n",
       "      <td>2020-05-09 00:00:00</td>\n",
       "    </tr>\n",
       "    <tr>\n",
       "      <th>2</th>\n",
       "      <td>Lewis Capaldi</td>\n",
       "      <td>Bruises</td>\n",
       "      <td>5942</td>\n",
       "      <td>2020-05-09 00:02:00</td>\n",
       "    </tr>\n",
       "    <tr>\n",
       "      <th>3</th>\n",
       "      <td>XXXTENTACION</td>\n",
       "      <td>Everybody Dies In Their Nightmares</td>\n",
       "      <td>95466</td>\n",
       "      <td>2020-05-09 00:02:00</td>\n",
       "    </tr>\n",
       "    <tr>\n",
       "      <th>4</th>\n",
       "      <td>Calum Scott</td>\n",
       "      <td>Dancing On My Own</td>\n",
       "      <td>618</td>\n",
       "      <td>2020-05-09 00:02:00</td>\n",
       "    </tr>\n",
       "    <tr>\n",
       "      <th>5</th>\n",
       "      <td>Alessia Cara</td>\n",
       "      <td>Out Of Love</td>\n",
       "      <td>2922</td>\n",
       "      <td>2020-05-09 00:02:00</td>\n",
       "    </tr>\n",
       "  </tbody>\n",
       "</table>\n",
       "</div>"
      ],
      "text/plain": [
       "     artist_name                          track_name  ms_played  \\\n",
       "0   Alessia Cara                         Out Of Love       2922   \n",
       "1       rum.gold                            Save You     112725   \n",
       "2  Lewis Capaldi                             Bruises       5942   \n",
       "3   XXXTENTACION  Everybody Dies In Their Nightmares      95466   \n",
       "4    Calum Scott                   Dancing On My Own        618   \n",
       "5   Alessia Cara                         Out Of Love       2922   \n",
       "\n",
       "             end_time  \n",
       "0 2020-05-09 00:00:00  \n",
       "1 2020-05-09 00:00:00  \n",
       "2 2020-05-09 00:02:00  \n",
       "3 2020-05-09 00:02:00  \n",
       "4 2020-05-09 00:02:00  \n",
       "5 2020-05-09 00:02:00  "
      ]
     },
     "execution_count": 20,
     "metadata": {},
     "output_type": "execute_result"
    }
   ],
   "source": [
    "#Converting end_time to timestamp format\n",
    "\n",
    "streamingHistory['end_time'] = pd.to_datetime(streamingHistory['end_time'])\n",
    "streamingHistory.head(6)"
   ]
  },
  {
   "cell_type": "code",
   "execution_count": 21,
   "metadata": {},
   "outputs": [
    {
     "data": {
      "text/plain": [
       "artist_name            object\n",
       "track_name             object\n",
       "ms_played               int64\n",
       "end_time       datetime64[ns]\n",
       "dtype: object"
      ]
     },
     "execution_count": 21,
     "metadata": {},
     "output_type": "execute_result"
    }
   ],
   "source": [
    "streamingHistory.dtypes"
   ]
  },
  {
   "cell_type": "code",
   "execution_count": 22,
   "metadata": {},
   "outputs": [
    {
     "data": {
      "text/html": [
       "<div>\n",
       "<style scoped>\n",
       "    .dataframe tbody tr th:only-of-type {\n",
       "        vertical-align: middle;\n",
       "    }\n",
       "\n",
       "    .dataframe tbody tr th {\n",
       "        vertical-align: top;\n",
       "    }\n",
       "\n",
       "    .dataframe thead th {\n",
       "        text-align: right;\n",
       "    }\n",
       "</style>\n",
       "<table border=\"1\" class=\"dataframe\">\n",
       "  <thead>\n",
       "    <tr style=\"text-align: right;\">\n",
       "      <th></th>\n",
       "      <th>artist_name</th>\n",
       "      <th>track_name</th>\n",
       "      <th>ms_played</th>\n",
       "      <th>end_time</th>\n",
       "    </tr>\n",
       "  </thead>\n",
       "  <tbody>\n",
       "    <tr>\n",
       "      <th>0</th>\n",
       "      <td>Alessia Cara</td>\n",
       "      <td>Out Of Love</td>\n",
       "      <td>2922</td>\n",
       "      <td>2020-05-09 00:00:00</td>\n",
       "    </tr>\n",
       "    <tr>\n",
       "      <th>1</th>\n",
       "      <td>rum.gold</td>\n",
       "      <td>Save You</td>\n",
       "      <td>112725</td>\n",
       "      <td>2020-05-09 00:00:00</td>\n",
       "    </tr>\n",
       "    <tr>\n",
       "      <th>2</th>\n",
       "      <td>Lewis Capaldi</td>\n",
       "      <td>Bruises</td>\n",
       "      <td>5942</td>\n",
       "      <td>2020-05-09 00:02:00</td>\n",
       "    </tr>\n",
       "    <tr>\n",
       "      <th>3</th>\n",
       "      <td>XXXTENTACION</td>\n",
       "      <td>Everybody Dies In Their Nightmares</td>\n",
       "      <td>95466</td>\n",
       "      <td>2020-05-09 00:02:00</td>\n",
       "    </tr>\n",
       "    <tr>\n",
       "      <th>4</th>\n",
       "      <td>Calum Scott</td>\n",
       "      <td>Dancing On My Own</td>\n",
       "      <td>618</td>\n",
       "      <td>2020-05-09 00:02:00</td>\n",
       "    </tr>\n",
       "  </tbody>\n",
       "</table>\n",
       "</div>"
      ],
      "text/plain": [
       "     artist_name                          track_name  ms_played  \\\n",
       "0   Alessia Cara                         Out Of Love       2922   \n",
       "1       rum.gold                            Save You     112725   \n",
       "2  Lewis Capaldi                             Bruises       5942   \n",
       "3   XXXTENTACION  Everybody Dies In Their Nightmares      95466   \n",
       "4    Calum Scott                   Dancing On My Own        618   \n",
       "\n",
       "             end_time  \n",
       "0 2020-05-09 00:00:00  \n",
       "1 2020-05-09 00:00:00  \n",
       "2 2020-05-09 00:02:00  \n",
       "3 2020-05-09 00:02:00  \n",
       "4 2020-05-09 00:02:00  "
      ]
     },
     "execution_count": 22,
     "metadata": {},
     "output_type": "execute_result"
    }
   ],
   "source": [
    "streamingHistory = streamingHistory.sort_values(by=['end_time'], ascending = True)\n",
    "streamingHistory.head()"
   ]
  },
  {
   "cell_type": "markdown",
   "metadata": {},
   "source": [
    "Converting end_time to Week Days"
   ]
  },
  {
   "cell_type": "code",
   "execution_count": 26,
   "metadata": {},
   "outputs": [],
   "source": [
    "def get_week_endpoints(df):\n",
    "    days = df['end_time'].weekday()\n",
    "    week_start = df['end_time'] - timedelta(days)\n",
    "    week_end = week_start + timedelta(days=6)\n",
    "    df['Week'] = str(week_start.strftime('%Y/%m/%d')) + ' - ' + str(week_end.strftime('%Y/%m/%d'))\n",
    "    return df"
   ]
  },
  {
   "cell_type": "code",
   "execution_count": 27,
   "metadata": {},
   "outputs": [],
   "source": [
    "#streamingHistory['week'] = streaming_hist['endTime'].dt.week\n",
    "streamingHistory = streamingHistory.apply(lambda x: get_week_endpoints(x), axis =1)"
   ]
  },
  {
   "cell_type": "code",
   "execution_count": 28,
   "metadata": {},
   "outputs": [],
   "source": [
    "streamingPlot = streamingHistory.groupby(by=['Week'], as_index=False)['ms_played'].agg(sum)\n",
    "streamingPlot['mean'] = np.mean(streamingPlot.ms_played)                                                                                   "
   ]
  },
  {
   "cell_type": "code",
   "execution_count": 29,
   "metadata": {},
   "outputs": [],
   "source": [
    "import matplotlib.pyplot as plt"
   ]
  },
  {
   "cell_type": "code",
   "execution_count": 32,
   "metadata": {},
   "outputs": [],
   "source": [
    "def count_avg_plot(df, X, Y, title,  Z=None):\n",
    "    ax = df.plot(x=X, y=Y, legend=False, figsize=(15,10), fontsize = 12, title=title, rot = 45, marker = 'o')\n",
    "    ax.grid(True)\n",
    "    ax.set_ylabel(Y)\n",
    "    #ax.annotate(\"Point 1\", (43, 91249856))\n",
    "    ax.text(43, 91249856,'Average Minutes Played',horizontalalignment='right', fontsize = 'small')\n",
    "    ax.title.set_size(20)\n",
    "    if Z:\n",
    "        ax2 = ax.twinx()\n",
    "        ax2.set_ylabel(Z)\n",
    "        df.plot(x=X, y=Z, ax=ax2, legend=False, color=\"r\", linestyle='--', fontsize=15).grid(False)\n",
    "        ax2.get_yaxis().set_visible(False)\n",
    "        ax.figure.legend(loc=4)\n",
    "        #ax.xticks(fontsize=14)\n",
    "    plt.show()"
   ]
  },
  {
   "cell_type": "code",
   "execution_count": 33,
   "metadata": {},
   "outputs": [
    {
     "data": {
      "image/png": "[encoded data removed]",
      "text/plain": [
       "<Figure size 1080x720 with 2 Axes>"
      ]
     },
     "metadata": {
      "needs_background": "light"
     },
     "output_type": "display_data"
    }
   ],
   "source": [
    "count_avg_plot(streamingPlot, 'Week', 'ms_played', 'Streaming History 2020-2021', 'mean')"
   ]
  },
  {
   "cell_type": "markdown",
   "metadata": {},
   "source": [
    "Seperating types into Music or Podcast"
   ]
  },
  {
   "cell_type": "code",
   "execution_count": 34,
   "metadata": {},
   "outputs": [],
   "source": [
    "streamingHistory = streamingHistory[streamingHistory.ms_played > 10000]"
   ]
  },
  {
   "cell_type": "code",
   "execution_count": 35,
   "metadata": {},
   "outputs": [],
   "source": [
    "streamingHistory.sort_values(by=['end_time'], ascending=True).head()\n",
    "quarantine = streamingHistory.loc[streamingHistory.end_time > '2020-03-11']\n",
    "regular = streamingHistory.loc[streamingHistory.end_time < '2020-03-11']"
   ]
  },
  {
   "cell_type": "code",
   "execution_count": 36,
   "metadata": {},
   "outputs": [],
   "source": [
    "pods = np.unique(quarantine[quarantine.ms_played > 720000]['artist_name'])\n",
    "quarantine['Type'] = np.where(quarantine.artist_name.isin(pods), 'Podcast', 'Music')"
   ]
  },
  {
   "cell_type": "code",
   "execution_count": 37,
   "metadata": {},
   "outputs": [
    {
     "name": "stdout",
     "output_type": "stream",
     "text": [
      "21 Savage\n",
      "6LACK\n",
      "Alex Rose\n",
      "Behind The Peaks Podcast\n",
      "Between Good & Evil\n",
      "Bore You To Sleep - Sleep Stories for Adults\n",
      "Call Her Daddy\n",
      "Canada Soccer Nation Podcast\n",
      "Chilling Tales for Dark Nights: A Horror Anthology and Scary Stories Series Podcast\n",
      "Creepy\n",
      "Dark Histories\n",
      "Dr. Ramdesh\n",
      "Duncan Trussell Family Hour\n",
      "Female Criminals\n",
      "Future\n",
      "GRM Daily\n",
      "Get Sleepy: Sleep meditation and stories\n",
      "Gianni\n",
      "Guided Sleep Meditations\n",
      "Gunna\n",
      "H3 Podcast\n",
      "History Hyenas with Chris Distefano and Yannis Pappas\n",
      "Huncho Jack\n",
      "In Remembrance of John Lewis\n",
      "Joe rogan\n",
      "Lil Baby\n",
      "Lore\n",
      "Migos\n",
      "Mithoon\n",
      "Morbid: A True Crime Podcast\n",
      "Nightmare Society\n",
      "Nothing much happens; bedtime stories to help you sleep\n",
      "Pop Smoke\n",
      "Raveena\n",
      "Russ Millions\n",
      "SLEEP MEDITATION Lauren Ostrowski Fenton\n",
      "Scare You To Sleep\n",
      "Scary Stories & Rain\n",
      "Scary Story Podcast\n",
      "Sleep Tight Stories - Bedtime Stories for Kids\n",
      "Sleep With Me\n",
      "Sleepy\n",
      "Solved Murders: True Crime Mysteries\n",
      "Super Soul\n",
      "TED Radio Hour\n",
      "Tales\n",
      "The Joe Rogan Experience\n",
      "The Michelle Obama Podcast\n",
      "The NoSleep Podcast\n",
      "The Official Fantasy Premier League Podcast\n",
      "The Psychology Podcast with Scott Barry Kaufman\n",
      "The Tiny Meat Gang Podcast\n",
      "Therapy for Black Girls\n",
      "You're Wrong About\n",
      "Zane and Heath: Unfiltered\n"
     ]
    }
   ],
   "source": [
    "for val in pods:\n",
    "    print(val)"
   ]
  },
  {
   "cell_type": "code",
   "execution_count": 38,
   "metadata": {},
   "outputs": [
    {
     "data": {
      "text/html": [
       "<div>\n",
       "<style scoped>\n",
       "    .dataframe tbody tr th:only-of-type {\n",
       "        vertical-align: middle;\n",
       "    }\n",
       "\n",
       "    .dataframe tbody tr th {\n",
       "        vertical-align: top;\n",
       "    }\n",
       "\n",
       "    .dataframe thead th {\n",
       "        text-align: right;\n",
       "    }\n",
       "</style>\n",
       "<table border=\"1\" class=\"dataframe\">\n",
       "  <thead>\n",
       "    <tr style=\"text-align: right;\">\n",
       "      <th></th>\n",
       "      <th>artist_name</th>\n",
       "      <th>track_name</th>\n",
       "      <th>ms_played</th>\n",
       "      <th>end_time</th>\n",
       "      <th>Week</th>\n",
       "      <th>Type</th>\n",
       "    </tr>\n",
       "  </thead>\n",
       "  <tbody>\n",
       "  </tbody>\n",
       "</table>\n",
       "</div>"
      ],
      "text/plain": [
       "Empty DataFrame\n",
       "Columns: [artist_name, track_name, ms_played, end_time, Week, Type]\n",
       "Index: []"
      ]
     },
     "execution_count": 38,
     "metadata": {},
     "output_type": "execute_result"
    }
   ],
   "source": [
    "regular['Type'] = np.where(regular.artist_name.isin(pods), 'Podcast', 'Music')\n",
    "quarantine['Type'] = np.where(quarantine.artist_name.isin(pods), 'Podcast', 'Music')\n",
    "regular.head()"
   ]
  },
  {
   "cell_type": "code",
   "execution_count": 39,
   "metadata": {},
   "outputs": [
    {
     "data": {
      "text/plain": [
       "1029"
      ]
     },
     "execution_count": 39,
     "metadata": {},
     "output_type": "execute_result"
    }
   ],
   "source": [
    "regular_artists_music = np.unique(regular[regular.Type.isin(['Music'])]['artist_name'].values)\n",
    "regular_pods = np.unique(regular[regular.Type.isin(['Podcast'])]['artist_name'].values)\n",
    "\n",
    "qtine_artists_music  = np.unique(quarantine[quarantine.Type.isin(['Music'])]['artist_name'].values)\n",
    "\n",
    "qtine_pods  = np.unique(quarantine[quarantine.Type.isin(['Podcast'])]['artist_name'].values)\n",
    "\n",
    "new_discoveries_music = [artist for artist in qtine_artists_music if artist not in regular_artists_music]\n",
    "len(np.unique(new_discoveries_music))"
   ]
  },
  {
   "cell_type": "code",
   "execution_count": 40,
   "metadata": {},
   "outputs": [
    {
     "data": {
      "text/plain": [
       "1029"
      ]
     },
     "execution_count": 40,
     "metadata": {},
     "output_type": "execute_result"
    }
   ],
   "source": [
    "len(qtine_artists_music)"
   ]
  },
  {
   "cell_type": "code",
   "execution_count": 41,
   "metadata": {},
   "outputs": [
    {
     "data": {
      "text/plain": [
       "['$NOT',\n",
       " '$teven Cannon',\n",
       " '$uicideboy$',\n",
       " '03 Greedo',\n",
       " '070 Shake',\n",
       " '100 gecs',\n",
       " '1974 A.D',\n",
       " '1nonly',\n",
       " '1takejay',\n",
       " '2 Chainz',\n",
       " '2013 Loud Speakers',\n",
       " '22Gz',\n",
       " '24kGoldn',\n",
       " '2Pac',\n",
       " '3 Doors Down',\n",
       " '3MFrench',\n",
       " '50 Cent',\n",
       " '53 Thieves',\n",
       " '6ix9ine',\n",
       " '88GLAM',\n",
       " '88rising',\n",
       " '92914',\n",
       " 'A Boogie Wit da Hoodie',\n",
       " 'A$AP Ferg',\n",
       " 'A$AP Mob',\n",
       " 'A$AP Rocky',\n",
       " 'AC/DC',\n",
       " 'ADP',\n",
       " 'AFKAP',\n",
       " 'AJ Tracey',\n",
       " 'AM',\n",
       " 'AUDREY NUNA',\n",
       " 'AURORA',\n",
       " 'Aaliyah',\n",
       " 'Aaron Rimbui',\n",
       " 'Abra Cadabra',\n",
       " 'Absofacto',\n",
       " 'Adekunle Gold',\n",
       " 'Adele',\n",
       " 'Aftertheparty',\n",
       " 'Afterthought',\n",
       " 'Aitch',\n",
       " 'Akon',\n",
       " 'Alabama Shakes',\n",
       " 'Alex Isley',\n",
       " 'Ali Gatie',\n",
       " 'Alice Longyu Gao',\n",
       " 'Alicia Keys',\n",
       " 'Alina Baraz',\n",
       " 'Alka Yagnik',\n",
       " 'Almondmilkhunni',\n",
       " 'AlunaGeorge',\n",
       " 'Ama Lou',\n",
       " 'Amaal Mallik',\n",
       " 'Amber Mark',\n",
       " 'Ambjaay',\n",
       " 'Aminé',\n",
       " 'Amrit Gurung',\n",
       " 'Amy Winehouse',\n",
       " 'Andazification',\n",
       " 'Anderson .Paak',\n",
       " 'Andy Mineo',\n",
       " 'Antônio Carlos Jobim',\n",
       " 'Anuel AA',\n",
       " 'Apluus Enterprises',\n",
       " 'Apoc Krysis',\n",
       " 'Apollo1027',\n",
       " 'Arctic Monkeys',\n",
       " 'Argent',\n",
       " 'Ari Lennox',\n",
       " 'Ariana Grande',\n",
       " 'Aries',\n",
       " 'Arijit Singh',\n",
       " 'Arin Ray',\n",
       " 'Arizona Zervas',\n",
       " 'Ashanti',\n",
       " 'Ashnikko',\n",
       " 'Asian Doll',\n",
       " 'Audrey Mika',\n",
       " 'Avelino',\n",
       " 'Avicii',\n",
       " 'Ay Em',\n",
       " 'Ayanis',\n",
       " 'Ayo Britain',\n",
       " 'Aystar',\n",
       " 'Ayush Gauchan',\n",
       " 'AzChike',\n",
       " 'B Young',\n",
       " 'B-8eight',\n",
       " 'B.o.B',\n",
       " 'BERWYN',\n",
       " 'BIA',\n",
       " 'BIGBABYGUCCI',\n",
       " 'BRKN',\n",
       " 'BROCKHAMPTON',\n",
       " 'BRS Kash',\n",
       " 'Baba G Society',\n",
       " 'Baby Bash',\n",
       " 'Baby Keem',\n",
       " 'Bad Bunny',\n",
       " 'Badshah',\n",
       " 'Bahamas',\n",
       " 'Baka Not Nice',\n",
       " 'Bali Baby',\n",
       " 'Bankrol Hayden',\n",
       " 'Bankroll Freddie',\n",
       " 'Barbara Lewis',\n",
       " 'Bas',\n",
       " 'Bazzi',\n",
       " 'Bea Miller',\n",
       " 'Beach House',\n",
       " 'Beast Coast',\n",
       " 'Becky G',\n",
       " 'Beenie Man',\n",
       " 'Belly',\n",
       " 'Belly Squad',\n",
       " 'Benny The Butcher',\n",
       " 'Berna',\n",
       " 'Berner',\n",
       " 'Beyoncé',\n",
       " 'Big K.R.I.T.',\n",
       " 'Big Pun',\n",
       " 'Big Sean',\n",
       " 'Big Zuu',\n",
       " 'Bikhs',\n",
       " 'Billie Eilish',\n",
       " 'Billie Holiday',\n",
       " 'Bipul Chettri',\n",
       " 'Birdy',\n",
       " 'Blac Youngsta',\n",
       " 'Black Eyed Peas',\n",
       " 'Blade Brown',\n",
       " 'Bladee',\n",
       " 'Blanco',\n",
       " 'Blizz Vito',\n",
       " 'BlocBoy JB',\n",
       " 'Blu',\n",
       " 'Blue Ivy',\n",
       " 'Blue Wednesday',\n",
       " 'BlueBucksClan',\n",
       " 'Blueface',\n",
       " 'Bluesss',\n",
       " 'Blxst',\n",
       " 'Bob Marley & The Wailers',\n",
       " 'Bobby Helms',\n",
       " 'Bobby Shmurda',\n",
       " 'Bon Jovi',\n",
       " 'Boom Clap Bachelors',\n",
       " 'Boosie Badazz',\n",
       " 'Boyce Avenue',\n",
       " 'Bratia Stereo',\n",
       " 'Bratty',\n",
       " 'Brenda Lee',\n",
       " 'Brent Faiyaz',\n",
       " 'Brianna Perry',\n",
       " 'Bruce Hornsby',\n",
       " 'Bruno Mars',\n",
       " 'Bryan Adams',\n",
       " 'Bryson Tiller',\n",
       " 'Bullet For My Valentine',\n",
       " 'Bun B',\n",
       " 'Burna Boy',\n",
       " 'Busta Rhymes',\n",
       " 'CHASE B',\n",
       " 'CJ',\n",
       " 'CUT_',\n",
       " 'Calboy',\n",
       " 'Caleon Fox',\n",
       " 'Calpurnia',\n",
       " 'Calvin Harris',\n",
       " 'Camila Cabello',\n",
       " 'Cardi B',\n",
       " 'Carla Bruni',\n",
       " 'Carlito Lagangzz',\n",
       " 'Carlos Rivera',\n",
       " 'Carnage',\n",
       " 'Casanova',\n",
       " 'Cassie',\n",
       " 'Cautious Clay',\n",
       " 'Central Cee',\n",
       " 'Chance the Rapper',\n",
       " 'Chantel Jeffries',\n",
       " 'Charlotte Day Wilson',\n",
       " 'Charlotte Lawrence',\n",
       " 'Che Ecru',\n",
       " 'Che Lingo',\n",
       " 'Cheat Codes',\n",
       " 'Chedda Da Connect',\n",
       " 'Chief Keef',\n",
       " 'Childish Gambino',\n",
       " 'Childish Major',\n",
       " 'Chinese Kitty',\n",
       " 'Chip',\n",
       " 'Chirag Khadka',\n",
       " 'Chloe x Halle',\n",
       " 'Choker',\n",
       " 'Choppy Chan',\n",
       " 'Chris Brown',\n",
       " 'Christina Aguilera',\n",
       " 'Ciara',\n",
       " 'Cigarettes After Sex',\n",
       " 'City Girls',\n",
       " 'Clairo',\n",
       " 'Classics IV',\n",
       " 'Claude Debussy',\n",
       " 'Cleo Sol',\n",
       " 'Coca Vango',\n",
       " 'Coi Leray',\n",
       " 'Col3trane',\n",
       " 'Collie Buddz',\n",
       " 'Comethazine',\n",
       " 'Common',\n",
       " 'Conan Gray',\n",
       " 'Conradfrmdaaves',\n",
       " 'Conway the Machine',\n",
       " 'Coolio',\n",
       " 'Cousin Stizz',\n",
       " 'Cradle Of Filth',\n",
       " 'Cruel Santino',\n",
       " 'Cuban Doll',\n",
       " 'Cuco',\n",
       " 'Curly Savv',\n",
       " 'Curren$y',\n",
       " 'Curtis Waters',\n",
       " 'Cyn',\n",
       " 'Cyndi Lauper',\n",
       " 'D Double E',\n",
       " 'D Power Diesle',\n",
       " \"D'Angelo\",\n",
       " 'D-Block Europe',\n",
       " 'D-Nice',\n",
       " 'D. Savage',\n",
       " 'D3szn',\n",
       " 'DCX',\n",
       " 'DDG',\n",
       " 'DIVINE',\n",
       " 'DJ Khaled',\n",
       " 'DJ Scheme',\n",
       " 'DJ Snake',\n",
       " 'DUSTY LOCANE',\n",
       " 'Da Beatfreakz',\n",
       " 'DaBaby',\n",
       " 'DaVido',\n",
       " 'Dadju',\n",
       " 'Dalai Lama',\n",
       " \"Dan Carlin's Hardcore History\",\n",
       " 'Danger Incorporated',\n",
       " 'DaniLeigh',\n",
       " 'Daniel Caesar',\n",
       " 'Daniela Andrade',\n",
       " 'Darkoo',\n",
       " 'Daryl Hall & John Oates',\n",
       " 'Dave',\n",
       " 'Daveed Diggs',\n",
       " 'David Guetta',\n",
       " 'Dayvi',\n",
       " \"Deante' Hitchcock\",\n",
       " 'Demun Jones',\n",
       " 'Desiigner',\n",
       " \"Destiny's Child\",\n",
       " 'Devin Dawson',\n",
       " 'DigDat',\n",
       " 'Digga D',\n",
       " 'Dillan Witherow',\n",
       " 'Diplo',\n",
       " 'Dire Straits',\n",
       " 'Doja Cat',\n",
       " 'Dolly Parton',\n",
       " 'Dom Kennedy',\n",
       " 'Dominic Fike',\n",
       " 'Don Toliver',\n",
       " 'Dontcry',\n",
       " 'Dr. Bobby Banner, MPC',\n",
       " 'Drake',\n",
       " 'Drakeo the Ruler',\n",
       " 'Drako',\n",
       " \"Dre'es\",\n",
       " 'Dreamville',\n",
       " 'Dreezy',\n",
       " 'Dua Lipa',\n",
       " 'Dua Saleh',\n",
       " 'Duckwrth',\n",
       " 'Duke Dumont',\n",
       " 'Duvy',\n",
       " 'E-40',\n",
       " 'EARTHGANG',\n",
       " 'ENNY',\n",
       " 'Eagles',\n",
       " 'Eartha Kitt',\n",
       " 'Ed Sheeran',\n",
       " 'Edson Faiolli',\n",
       " 'Ella Fitzgerald',\n",
       " 'Ella Mai',\n",
       " 'Elvis Presley',\n",
       " 'Emily Watts',\n",
       " 'Eminem',\n",
       " 'Emotional Oranges',\n",
       " 'Eric Bellinger',\n",
       " 'Erica Banks',\n",
       " 'Erykah Badu',\n",
       " 'Eryn Allen Kane',\n",
       " 'Estelle',\n",
       " 'Etta Bond',\n",
       " 'EyeOnEyez',\n",
       " 'Eyez',\n",
       " 'FIL BO RIVA',\n",
       " 'FKA twigs',\n",
       " 'FUR',\n",
       " 'Fabolous',\n",
       " 'Famous Dex',\n",
       " 'Far East Movement',\n",
       " 'Farhan Akhtar',\n",
       " 'Farruko',\n",
       " 'Fat Joe',\n",
       " 'Felly',\n",
       " 'Feng Suave',\n",
       " 'Fergie',\n",
       " 'Fetty Wap',\n",
       " 'Fiona Apple',\n",
       " 'Five Foreign',\n",
       " 'Fivio Foreign',\n",
       " 'Fleetwood Mac',\n",
       " 'Flipp Dinero',\n",
       " 'Flo Milli',\n",
       " 'Flying Lotus',\n",
       " 'Foogiano',\n",
       " 'Frank Ocean',\n",
       " 'Freddie Gibbs',\n",
       " 'Fredo',\n",
       " 'Fredo Bang',\n",
       " 'Free Nationals',\n",
       " 'French Montana',\n",
       " 'Frenetik',\n",
       " 'Frisco',\n",
       " 'Fugees',\n",
       " 'Futuristic',\n",
       " 'G Herbo',\n",
       " 'G-Eazy',\n",
       " 'G4 Boyz',\n",
       " 'GeeYou',\n",
       " 'Geko',\n",
       " 'Gesaffelstein',\n",
       " 'Ghetts',\n",
       " 'Ghost Killer Track',\n",
       " 'Giggs',\n",
       " \"Gilbert O'Sullivan\",\n",
       " 'Giveon',\n",
       " 'Glass Animals',\n",
       " 'GoldLink',\n",
       " 'Good Gas',\n",
       " 'Gotye',\n",
       " 'Greentea Peng',\n",
       " 'Grimes',\n",
       " 'Gryffin',\n",
       " 'Guapdad 4000',\n",
       " 'Gucci Mane',\n",
       " 'Guided Meditation Maestro',\n",
       " 'GuiltyBeatz',\n",
       " 'Gully',\n",
       " \"Guns N' Roses\",\n",
       " 'Guvna B',\n",
       " 'Gyanu Rana',\n",
       " 'Gym Class Heroes',\n",
       " 'H.E.R.',\n",
       " 'Haiyti',\n",
       " 'Half Pint',\n",
       " 'Hardy Caprio',\n",
       " 'Harriette',\n",
       " 'Harry Styles',\n",
       " 'Headie One',\n",
       " 'Hey Violet',\n",
       " 'Hoobastank',\n",
       " 'Hooverphonic',\n",
       " 'Hope Tala',\n",
       " 'Hot Chip',\n",
       " 'Houdini',\n",
       " 'Hozier',\n",
       " 'IAMDDB',\n",
       " 'Iamdoechii',\n",
       " 'Iamlevibloom',\n",
       " 'Iamsu!',\n",
       " 'Idina Menzel',\n",
       " 'Imran Khan',\n",
       " 'India.Arie',\n",
       " 'Internet Money',\n",
       " 'Iron Maiden',\n",
       " 'Isaiah Rashad',\n",
       " 'Ivorian Doll',\n",
       " 'J Balvin',\n",
       " 'J Hus',\n",
       " 'J. Cole',\n",
       " 'J.I the Prince of N.Y',\n",
       " 'J.Robb',\n",
       " 'JACKBOYS',\n",
       " 'JAY-Z',\n",
       " 'JAY1',\n",
       " 'JB Scofield',\n",
       " 'JID',\n",
       " 'JJ',\n",
       " 'Jack Harlow',\n",
       " 'Jacquees',\n",
       " 'Jaden',\n",
       " 'Jae Trill',\n",
       " 'Jai Paul',\n",
       " 'Jake Gusto',\n",
       " 'Jakob Ahlbom',\n",
       " 'James Blake',\n",
       " 'James Vincent McMorrow',\n",
       " 'Jamila Woods',\n",
       " 'Jarline',\n",
       " 'Jason Dhakal',\n",
       " 'Jay Electronica',\n",
       " 'Jay Rock',\n",
       " 'JayDaYoungan',\n",
       " 'Jazmine Sullivan',\n",
       " 'Jeet Gannguli',\n",
       " 'Jeezy',\n",
       " 'Jekalyn Carr',\n",
       " 'Jelani Ameer',\n",
       " 'Jen Awad',\n",
       " 'Jenevieve',\n",
       " 'Jennifer Lopez',\n",
       " 'Jeremih',\n",
       " 'Jermaine Dupri',\n",
       " 'Jerreau',\n",
       " 'Jerry Byrd',\n",
       " 'Jesse',\n",
       " 'Jessie Reyez',\n",
       " 'Jesus Honcho',\n",
       " 'Jhené Aiko',\n",
       " 'Jimmy the Human',\n",
       " 'Jme',\n",
       " 'Joe Moses',\n",
       " 'Joey Bada$$',\n",
       " 'Joey Trap',\n",
       " 'John Legend',\n",
       " 'John Lennon',\n",
       " 'John Petrucci',\n",
       " 'Johnny Stimson',\n",
       " 'Joji',\n",
       " 'Jorja Smith',\n",
       " 'Joy Crookes',\n",
       " 'Joyce Wrice',\n",
       " 'Joyner Lucas',\n",
       " 'Jucee Froot',\n",
       " 'Juice Menace',\n",
       " 'Juice WRLD',\n",
       " 'Juniore',\n",
       " 'Jurnee Smollett-Bell',\n",
       " 'Justin Bieber',\n",
       " 'Justin Timberlake',\n",
       " 'Justine Skye',\n",
       " 'Jye',\n",
       " 'K CAMP',\n",
       " 'K$upreme',\n",
       " 'K-Trap',\n",
       " 'K27',\n",
       " 'KAROL G',\n",
       " 'KAY2B',\n",
       " 'KAYTRANADA',\n",
       " 'KIDS SEE GHOSTS',\n",
       " 'KILLY',\n",
       " 'KOLATERAL',\n",
       " 'KR$NA',\n",
       " 'KSI',\n",
       " 'KYLE',\n",
       " 'Kaash Paige',\n",
       " 'Kacey Musgraves',\n",
       " 'Kaecee',\n",
       " 'Kalan.FrFr',\n",
       " 'Kali Prasad Baskota',\n",
       " 'Kali Uchis',\n",
       " 'Kamaiyah',\n",
       " 'Kamal.',\n",
       " 'Kanye West',\n",
       " 'Kap G',\n",
       " 'Kari Faux',\n",
       " 'Karma Band',\n",
       " 'Kash Doll',\n",
       " 'Katy Perry',\n",
       " 'Kayzo',\n",
       " 'Kehlani',\n",
       " 'Kelis',\n",
       " 'KenTheMan',\n",
       " 'Kendrick Lamar',\n",
       " 'Kenny Allstar',\n",
       " 'Kenzie Smith Piano',\n",
       " 'Kevin Abstract',\n",
       " 'Kevin Gates',\n",
       " 'Kevin Lyttle',\n",
       " 'Key Glock',\n",
       " 'Keyshia Cole',\n",
       " 'Khalid',\n",
       " 'Kiana Ledé',\n",
       " 'Kid Cudi',\n",
       " 'King Combs',\n",
       " 'King Princess',\n",
       " 'Knucks',\n",
       " 'Knxwledge',\n",
       " 'Kodak Black',\n",
       " 'Koffee',\n",
       " 'Kool John',\n",
       " 'Kossisko',\n",
       " 'Krept & Konan',\n",
       " 'Kris Wu',\n",
       " 'Kris Yute',\n",
       " 'KwolleM',\n",
       " 'Kyle Dion',\n",
       " 'L0key Wavey',\n",
       " 'LD',\n",
       " 'LIL Rock Look',\n",
       " 'LION BABE',\n",
       " 'LO LA',\n",
       " 'LUCKI',\n",
       " 'Labrinth',\n",
       " 'Lady A',\n",
       " 'Lady Gaga',\n",
       " 'Lana Del Rey',\n",
       " 'Lancey Foux',\n",
       " 'Larry June',\n",
       " 'Lava La Rue',\n",
       " 'Leikeli47',\n",
       " 'Leona Lewis',\n",
       " 'Lethal Bizzle',\n",
       " 'Leven Kali',\n",
       " 'LightSkinKeisha',\n",
       " 'Lil Buddha',\n",
       " 'Lil Donald',\n",
       " 'Lil Durk',\n",
       " 'Lil Eazzyy',\n",
       " 'Lil Gnar',\n",
       " 'Lil Gotit',\n",
       " 'Lil Keed',\n",
       " 'Lil Milly',\n",
       " 'Lil Mosey',\n",
       " 'Lil Nas X',\n",
       " 'Lil Peep',\n",
       " 'Lil Pump',\n",
       " 'Lil Skies',\n",
       " 'Lil Tecca',\n",
       " 'Lil Tjay',\n",
       " 'Lil Uzi Vert',\n",
       " 'Lil Wayne',\n",
       " 'Lil Yachty',\n",
       " 'Linkin Park',\n",
       " 'Little Dragon',\n",
       " 'Little Eva',\n",
       " 'Little Simz',\n",
       " 'Lizzo',\n",
       " 'Logic',\n",
       " 'Logicminds',\n",
       " 'Loka',\n",
       " 'Lonny X',\n",
       " 'Lorde',\n",
       " 'Loski',\n",
       " 'Louis The Child',\n",
       " 'Lucky Daye',\n",
       " 'Lucy Park',\n",
       " 'Ludacris',\n",
       " 'Ludwig van Beethoven',\n",
       " 'Lykke Li',\n",
       " 'M Huncho',\n",
       " \"M'Way\",\n",
       " 'M1llionz',\n",
       " 'M24',\n",
       " 'MARINA',\n",
       " 'MC Kevin o Chris',\n",
       " 'MC STAN',\n",
       " 'MC Solaar',\n",
       " 'MEDIKAL',\n",
       " 'MF DOOM',\n",
       " 'MIKE',\n",
       " 'MIST',\n",
       " 'MO3',\n",
       " 'Mabel',\n",
       " 'Mac DeMarco',\n",
       " 'Mac Miller',\n",
       " 'MadeinTYO',\n",
       " 'Madonna',\n",
       " 'Mae Muller',\n",
       " 'Mahalia',\n",
       " 'Majid Jordan',\n",
       " 'Major Lazer',\n",
       " 'Maluma',\n",
       " 'Manas Ghale',\n",
       " 'Manga Saint Hilare',\n",
       " 'Manny Norté',\n",
       " 'Marci Phonix',\n",
       " 'Marcos Valle',\n",
       " 'Mariah Carey',\n",
       " 'Mariah the Scientist',\n",
       " 'Marlon Craft',\n",
       " 'Marshmello',\n",
       " 'Marsicans',\n",
       " 'Masego',\n",
       " 'Masked Wolf',\n",
       " 'Mastermind',\n",
       " 'Masters of Binaurality',\n",
       " 'Matoma',\n",
       " 'Matt Champion',\n",
       " 'Maverick Sabre',\n",
       " 'Maxo Kream',\n",
       " 'Meek Mill',\n",
       " 'Megan Thee Stallion',\n",
       " 'Melii',\n",
       " 'Melody Gardot',\n",
       " 'Memphis Bleek',\n",
       " 'Mensa',\n",
       " 'Mereba',\n",
       " 'Metallica',\n",
       " 'Metro Boomin',\n",
       " 'Mffdave',\n",
       " 'Michael Bublé',\n",
       " 'Mickey Avalon',\n",
       " 'Miguel',\n",
       " 'Mike Posner',\n",
       " 'Mila J',\n",
       " 'Miley Cyrus',\n",
       " 'Miraa May',\n",
       " 'Missy Elliott',\n",
       " 'Mitski',\n",
       " 'MoStack',\n",
       " 'MoThoro',\n",
       " 'Moko',\n",
       " 'Money Man',\n",
       " 'Moneybagg Yo',\n",
       " 'Monique Lawz',\n",
       " 'Morgan James',\n",
       " 'Morrisson',\n",
       " 'Mos Def',\n",
       " 'Mozzy',\n",
       " 'Mr Eazi',\n",
       " 'Ms. Lauryn Hill',\n",
       " 'Mulatto',\n",
       " \"Mumbai's Finest\",\n",
       " 'Mustard',\n",
       " 'My Chemical Romance',\n",
       " 'My Life',\n",
       " 'NAV',\n",
       " 'NGHTMRE',\n",
       " 'NIKI',\n",
       " 'NLE Choppa',\n",
       " 'NSG',\n",
       " 'NYC Menace',\n",
       " 'Nafe Smallz',\n",
       " 'Nahir',\n",
       " 'Najja Iman',\n",
       " 'Nancy Whang',\n",
       " 'Nao',\n",
       " 'Nas',\n",
       " 'Nasty Ninja',\n",
       " 'Nebu Kiniza',\n",
       " 'Neetesh Jung Kunwar',\n",
       " 'Nelly',\n",
       " 'Nepsydaz',\n",
       " 'Nia Sultana',\n",
       " 'Nicki Minaj',\n",
       " 'Nines',\n",
       " 'Nipsey Hussle',\n",
       " 'No Fatigue',\n",
       " 'Noah Cyrus',\n",
       " 'Noga Erez',\n",
       " 'Noname',\n",
       " 'Normani',\n",
       " 'NorthSideBenji',\n",
       " 'Not3s',\n",
       " 'O.T. Genasis',\n",
       " 'ODIE',\n",
       " 'OFB',\n",
       " 'OG Mano',\n",
       " 'OG Ron C',\n",
       " 'OJ Da Juiceman',\n",
       " 'OMB Bloodbath',\n",
       " 'OMB Peezy',\n",
       " 'Octavian',\n",
       " 'Odd Future',\n",
       " 'Of Monsters and Men',\n",
       " 'Offset',\n",
       " \"Olivia O'Brien\",\n",
       " 'Olivia Rodrigo',\n",
       " 'Omah Lay',\n",
       " 'Omar Apollo',\n",
       " 'Omarion',\n",
       " 'One Acen',\n",
       " 'Orion Sun',\n",
       " 'Osibih',\n",
       " 'Oumou Sangaré',\n",
       " 'Ozuna',\n",
       " 'PACkmaN',\n",
       " 'PARADISE RISING',\n",
       " 'PARTYNEXTDOOR',\n",
       " 'Pa Salieu',\n",
       " 'Paramore',\n",
       " 'Pardison Fontaine',\n",
       " 'Paris Shadows',\n",
       " 'Peach Pit',\n",
       " 'Phiroj Shyangden',\n",
       " 'Phish',\n",
       " 'Phony Ppl',\n",
       " 'Phora',\n",
       " 'Pia Mia',\n",
       " 'Piero Umiliani',\n",
       " 'Pink Floyd',\n",
       " 'Pink Martini',\n",
       " 'Pink Sweat$',\n",
       " 'Pi’erre Bourne',\n",
       " 'Pkltheshaboy',\n",
       " 'Playboi Carti',\n",
       " 'PnB Rock',\n",
       " 'Polo G',\n",
       " 'Pooh Shiesty',\n",
       " 'Popcaan',\n",
       " 'Popp Hunna',\n",
       " 'Post Malone',\n",
       " 'Potter Payper',\n",
       " 'Pouya',\n",
       " 'Preservation Hall Jazz Band',\n",
       " 'Princess Nokia',\n",
       " 'Pritam',\n",
       " 'Pusha T',\n",
       " 'QARAN',\n",
       " 'Quality Control',\n",
       " 'Quando Rondo',\n",
       " 'Quavo',\n",
       " 'Queen',\n",
       " 'Queen Key',\n",
       " 'Queens of the Stone Age',\n",
       " 'Quin Nfn',\n",
       " 'Quinn XCII',\n",
       " 'REASON',\n",
       " 'RIMON',\n",
       " 'RINI',\n",
       " 'RNZ: Voice of the Iceberg',\n",
       " 'ROSALÍA',\n",
       " 'Rae Sremmurd',\n",
       " 'Raftaar',\n",
       " 'Rah Swish',\n",
       " 'Raku-Nu',\n",
       " 'Ramirez',\n",
       " 'Ramz',\n",
       " 'Ranveer Singh',\n",
       " 'Ray LaMontagne',\n",
       " 'Reese LAFLARE',\n",
       " 'Rejjie Snow',\n",
       " 'Relaxing Tibetan Singing Bowls',\n",
       " 'Rema',\n",
       " 'Remo Drive',\n",
       " 'Resse Raway',\n",
       " 'Rett Madison',\n",
       " 'Rex Orange County',\n",
       " 'Rich Gang',\n",
       " 'Rich Homie Quan',\n",
       " 'Rich The Kid',\n",
       " 'Rick Ross',\n",
       " 'Rico Nasty',\n",
       " 'Rihanna',\n",
       " 'Rina Sawayama',\n",
       " 'RisklTaker360',\n",
       " 'Rita Ora',\n",
       " 'River Tiber',\n",
       " 'Rob Markman',\n",
       " 'Rod Wave',\n",
       " 'Roddy Ricch',\n",
       " 'Rohit John Chettri',\n",
       " 'Rohit Shakya',\n",
       " 'Ron Suno',\n",
       " 'Roy Ayers Ubiquity',\n",
       " 'Roy Woods',\n",
       " 'Russ',\n",
       " 'Rvssian',\n",
       " 'Ryan Trey',\n",
       " 'SAINt JHN',\n",
       " 'SAYGRACE',\n",
       " 'SL',\n",
       " 'SLANDER',\n",
       " 'SYML',\n",
       " 'SZA',\n",
       " 'Saaff',\n",
       " 'Saba',\n",
       " 'Sabrina Claudio',\n",
       " 'Sachin-Jigar',\n",
       " 'SahBabii',\n",
       " 'Sally Sossa',\n",
       " 'Sam Smith',\n",
       " 'Sampa the Great',\n",
       " 'Saweetie',\n",
       " 'ScHoolboy Q',\n",
       " 'Scrim',\n",
       " 'Sean Kingston',\n",
       " 'Sean Paul',\n",
       " 'Selena Gomez',\n",
       " 'Serena Isioma',\n",
       " 'Shaggy',\n",
       " 'Shashwot Khadka',\n",
       " 'Sheck Wes',\n",
       " 'Sheff G',\n",
       " 'Shetalké',\n",
       " 'Shordie Shordie',\n",
       " 'Shoreline Mafia',\n",
       " 'Shygirl',\n",
       " 'SiR',\n",
       " 'Sidhu Moose Wala',\n",
       " 'Simon Jefferis',\n",
       " 'SimxSantana',\n",
       " 'Sin Squad (SS)',\n",
       " 'Sinead Harnett',\n",
       " 'Sister Nancy',\n",
       " 'Skepta',\n",
       " 'Ski Mask The Slump God',\n",
       " 'Skiibii',\n",
       " 'Skip Marley',\n",
       " 'Skizzy Mars',\n",
       " 'Skrillex',\n",
       " 'Sleepy Hallow',\n",
       " 'Slum Village',\n",
       " 'Small Doses with Amanda Seales',\n",
       " 'Smiley',\n",
       " 'Smily',\n",
       " 'Smino',\n",
       " 'Smoke Boys',\n",
       " 'Smoke Dawg',\n",
       " 'Smokepurpp',\n",
       " \"Smoove'L\",\n",
       " 'Snoh Aalegra',\n",
       " 'Snoop Dogg',\n",
       " 'So Icy Girlz',\n",
       " 'SoFaygo',\n",
       " 'Solange',\n",
       " 'Sonam Topden',\n",
       " 'Sonder',\n",
       " 'Soul For Real',\n",
       " \"Spooky Boo's Creepypasta, True Scary Stories, Paranormal, and True Crime Podcast\",\n",
       " 'SpotemGottem',\n",
       " 'Spotify',\n",
       " 'Stan Getz',\n",
       " 'StaySolidRocky',\n",
       " 'Steel Banglez',\n",
       " 'Stefflon Don',\n",
       " 'Steve Chana',\n",
       " 'Steve Lacy',\n",
       " 'Steve Tyrell',\n",
       " 'Stevie Nicks',\n",
       " 'Still Woozy',\n",
       " 'Stormzy',\n",
       " 'Stunna 4 Vegas',\n",
       " 'Sublime',\n",
       " 'Summer Walker',\n",
       " 'Surf Curse',\n",
       " 'Sushant KC',\n",
       " 'Swae Lee',\n",
       " 'Swifta Beater',\n",
       " 'Sybyr',\n",
       " 'Sérgio Mendes',\n",
       " 'T.I.',\n",
       " 'T9ine',\n",
       " 'TEK.LUN',\n",
       " 'THE SCOTTS',\n",
       " 'TJ Porter',\n",
       " 'TLC',\n",
       " 'TOKYO’S REVENGE',\n",
       " 'TWENTY88',\n",
       " 'Tainy',\n",
       " 'Takeoff',\n",
       " 'Takeover',\n",
       " 'Tame Impala',\n",
       " 'Tanishk Bagchi',\n",
       " 'Tay2xs',\n",
       " 'Taylor Swift',\n",
       " 'Tee Grizzley',\n",
       " 'Teedra Moses',\n",
       " 'Teeway',\n",
       " 'Tekno',\n",
       " 'Temani',\n",
       " 'Teyana Taylor',\n",
       " 'Thalia',\n",
       " 'The 1975',\n",
       " 'The Axe',\n",
       " 'The Blackbyrds',\n",
       " 'The Carters',\n",
       " 'The Chainsmokers',\n",
       " 'The Cranberries',\n",
       " 'The Eddy',\n",
       " 'The Game',\n",
       " 'The Honest Guys',\n",
       " 'The Internet',\n",
       " 'The King Cody',\n",
       " 'The Kudu',\n",
       " 'The Lumineers',\n",
       " 'The Notorious B.I.G.',\n",
       " 'The Plug',\n",
       " 'The Shacks',\n",
       " 'The Smiths',\n",
       " 'The Strokes',\n",
       " 'The Uglyz',\n",
       " 'The Walden Brothers',\n",
       " 'The Weeknd',\n",
       " 'Therapy Chat',\n",
       " 'Thundercat',\n",
       " 'TiaCorine',\n",
       " 'Tiagz',\n",
       " 'Tibetan Singing Bowls',\n",
       " 'Tierra Whack',\n",
       " 'Tiger Goods',\n",
       " 'Tinashe',\n",
       " 'Tinie Tempah',\n",
       " 'Tink',\n",
       " 'Tion Wayne',\n",
       " 'Tiwa Savage',\n",
       " 'Tizzy Stackz',\n",
       " 'Tokyo Jetz',\n",
       " 'Tom Misch',\n",
       " 'Tom Zanetti',\n",
       " 'Tommy B',\n",
       " 'Tomppabeats',\n",
       " 'Toosii',\n",
       " 'Topic',\n",
       " 'Tora-i',\n",
       " 'Tory Lanez',\n",
       " 'Tove Lo',\n",
       " 'Towerz',\n",
       " 'Tr4gic',\n",
       " 'Trae Tha Truth',\n",
       " 'Travis Scott',\n",
       " 'Tray Tray',\n",
       " 'Trevor Daniel',\n",
       " 'Trey Songz',\n",
       " 'Trippie Redd',\n",
       " 'Trizzac',\n",
       " 'Troy Ave',\n",
       " 'Turbo',\n",
       " 'Ty Dolla $ign',\n",
       " 'TyDaGod',\n",
       " 'Tyga',\n",
       " 'Tyla Yaweh',\n",
       " 'Tyler, The Creator',\n",
       " 'UKNWN',\n",
       " 'UMI',\n",
       " 'Ufo361',\n",
       " 'Uk Drill',\n",
       " 'Unknown Artist',\n",
       " 'Unknown T',\n",
       " 'UnoTheActivist',\n",
       " 'Urgent Care with Joel Kim Booster + Mitra Jouhari',\n",
       " 'Usher',\n",
       " 'VTEN',\n",
       " 'Valee',\n",
       " 'Vedo',\n",
       " 'Vegedream',\n",
       " 'Vek',\n",
       " 'Victor Internet',\n",
       " 'Victoria Monét',\n",
       " 'Vince Staples',\n",
       " 'Vishal-Shekhar',\n",
       " 'WESTSIDE BOOGIE',\n",
       " 'WILLOW',\n",
       " 'WSJ Minute Briefing',\n",
       " 'Waka Flocka Flame',\n",
       " 'Wale',\n",
       " 'Wavy Navy Pooh',\n",
       " 'Welcome to Night Vale',\n",
       " 'Wet',\n",
       " 'Whitney Houston',\n",
       " 'Wifisfuneral',\n",
       " 'Wiz Khalifa',\n",
       " 'WizKid',\n",
       " 'Wolftyla',\n",
       " 'XXXTENTACION',\n",
       " 'Xii4',\n",
       " 'Y2K',\n",
       " 'YBN Nahmir',\n",
       " 'YFN Lucci',\n",
       " 'YG',\n",
       " 'YK Osiris',\n",
       " 'YN Jay',\n",
       " 'YNW Melly',\n",
       " 'YSN Flow',\n",
       " 'Yabesh Thapa',\n",
       " 'Yama Buddha',\n",
       " 'Yebba',\n",
       " 'Yella Beezy',\n",
       " 'Yellow Claw',\n",
       " 'Yo Gotti',\n",
       " 'Yodda',\n",
       " 'Young Dolph',\n",
       " 'Young M.A',\n",
       " 'Young Money',\n",
       " 'Young Nudy',\n",
       " 'Young Stoner Life',\n",
       " 'Young T & Bugsey',\n",
       " 'Young Thug',\n",
       " 'YoungBoy Never Broke Again',\n",
       " 'Youngn Lipz',\n",
       " 'Youngs Teflon',\n",
       " 'Yung Baby Tate',\n",
       " 'Yung Bae',\n",
       " 'Yung Bans',\n",
       " 'Yung Bleu',\n",
       " 'Yung Fume',\n",
       " 'Yung Tory',\n",
       " 'Yungeen Ace',\n",
       " ...]"
      ]
     },
     "execution_count": 41,
     "metadata": {},
     "output_type": "execute_result"
    }
   ],
   "source": [
    "new_discoveries_music"
   ]
  },
  {
   "cell_type": "code",
   "execution_count": 42,
   "metadata": {},
   "outputs": [
    {
     "data": {
      "text/html": [
       "<div>\n",
       "<style scoped>\n",
       "    .dataframe tbody tr th:only-of-type {\n",
       "        vertical-align: middle;\n",
       "    }\n",
       "\n",
       "    .dataframe tbody tr th {\n",
       "        vertical-align: top;\n",
       "    }\n",
       "\n",
       "    .dataframe thead th {\n",
       "        text-align: right;\n",
       "    }\n",
       "</style>\n",
       "<table border=\"1\" class=\"dataframe\">\n",
       "  <thead>\n",
       "    <tr style=\"text-align: right;\">\n",
       "      <th></th>\n",
       "      <th>artist_name</th>\n",
       "      <th>ms_played</th>\n",
       "    </tr>\n",
       "  </thead>\n",
       "  <tbody>\n",
       "    <tr>\n",
       "      <th>273</th>\n",
       "      <td>Drake</td>\n",
       "      <td>174509303</td>\n",
       "    </tr>\n",
       "    <tr>\n",
       "      <th>936</th>\n",
       "      <td>UMI</td>\n",
       "      <td>84831773</td>\n",
       "    </tr>\n",
       "    <tr>\n",
       "      <th>429</th>\n",
       "      <td>Jhené Aiko</td>\n",
       "      <td>76911371</td>\n",
       "    </tr>\n",
       "    <tr>\n",
       "      <th>895</th>\n",
       "      <td>The Weeknd</td>\n",
       "      <td>58734006</td>\n",
       "    </tr>\n",
       "    <tr>\n",
       "      <th>922</th>\n",
       "      <td>Travis Scott</td>\n",
       "      <td>55299393</td>\n",
       "    </tr>\n",
       "    <tr>\n",
       "      <th>848</th>\n",
       "      <td>Sushant KC</td>\n",
       "      <td>39922733</td>\n",
       "    </tr>\n",
       "    <tr>\n",
       "      <th>989</th>\n",
       "      <td>Young Thug</td>\n",
       "      <td>38314030</td>\n",
       "    </tr>\n",
       "    <tr>\n",
       "      <th>270</th>\n",
       "      <td>Don Toliver</td>\n",
       "      <td>35341221</td>\n",
       "    </tr>\n",
       "    <tr>\n",
       "      <th>846</th>\n",
       "      <td>Summer Walker</td>\n",
       "      <td>32390539</td>\n",
       "    </tr>\n",
       "    <tr>\n",
       "      <th>771</th>\n",
       "      <td>SAINt JHN</td>\n",
       "      <td>32103038</td>\n",
       "    </tr>\n",
       "  </tbody>\n",
       "</table>\n",
       "</div>"
      ],
      "text/plain": [
       "       artist_name  ms_played\n",
       "273          Drake  174509303\n",
       "936            UMI   84831773\n",
       "429     Jhené Aiko   76911371\n",
       "895     The Weeknd   58734006\n",
       "922   Travis Scott   55299393\n",
       "848     Sushant KC   39922733\n",
       "989     Young Thug   38314030\n",
       "270    Don Toliver   35341221\n",
       "846  Summer Walker   32390539\n",
       "771      SAINt JHN   32103038"
      ]
     },
     "execution_count": 42,
     "metadata": {},
     "output_type": "execute_result"
    }
   ],
   "source": [
    "quarantine[quarantine.artist_name.isin(new_discoveries_music)]\\\n",
    ".groupby(by='artist_name', as_index=False)['ms_played'].agg(sum).sort_values(by='ms_played', ascending = False).head(10)"
   ]
  },
  {
   "cell_type": "code",
   "execution_count": 43,
   "metadata": {},
   "outputs": [
    {
     "data": {
      "text/plain": [
       "55"
      ]
     },
     "execution_count": 43,
     "metadata": {},
     "output_type": "execute_result"
    }
   ],
   "source": [
    "new_pods = [artist for artist in qtine_pods if artist not in regular_pods]\n",
    "len(new_pods)"
   ]
  },
  {
   "cell_type": "code",
   "execution_count": 44,
   "metadata": {},
   "outputs": [
    {
     "data": {
      "text/html": [
       "<div>\n",
       "<style scoped>\n",
       "    .dataframe tbody tr th:only-of-type {\n",
       "        vertical-align: middle;\n",
       "    }\n",
       "\n",
       "    .dataframe tbody tr th {\n",
       "        vertical-align: top;\n",
       "    }\n",
       "\n",
       "    .dataframe thead th {\n",
       "        text-align: right;\n",
       "    }\n",
       "</style>\n",
       "<table border=\"1\" class=\"dataframe\">\n",
       "  <thead>\n",
       "    <tr style=\"text-align: right;\">\n",
       "      <th></th>\n",
       "      <th>artist_name</th>\n",
       "      <th>track_name</th>\n",
       "      <th>ms_played</th>\n",
       "      <th>end_time</th>\n",
       "      <th>Week</th>\n",
       "      <th>Type</th>\n",
       "    </tr>\n",
       "  </thead>\n",
       "  <tbody>\n",
       "    <tr>\n",
       "      <th>1</th>\n",
       "      <td>rum.gold</td>\n",
       "      <td>Save You</td>\n",
       "      <td>112725</td>\n",
       "      <td>2020-05-09 00:00:00</td>\n",
       "      <td>2020/05/04 - 2020/05/10</td>\n",
       "      <td>Music</td>\n",
       "    </tr>\n",
       "    <tr>\n",
       "      <th>3</th>\n",
       "      <td>XXXTENTACION</td>\n",
       "      <td>Everybody Dies In Their Nightmares</td>\n",
       "      <td>95466</td>\n",
       "      <td>2020-05-09 00:02:00</td>\n",
       "      <td>2020/05/04 - 2020/05/10</td>\n",
       "      <td>Music</td>\n",
       "    </tr>\n",
       "    <tr>\n",
       "      <th>11</th>\n",
       "      <td>Clairo</td>\n",
       "      <td>Pretty Girl</td>\n",
       "      <td>98432</td>\n",
       "      <td>2020-05-09 00:04:00</td>\n",
       "      <td>2020/05/04 - 2020/05/10</td>\n",
       "      <td>Music</td>\n",
       "    </tr>\n",
       "    <tr>\n",
       "      <th>12</th>\n",
       "      <td>girl in red</td>\n",
       "      <td>we fell in love in october</td>\n",
       "      <td>68071</td>\n",
       "      <td>2020-05-09 00:05:00</td>\n",
       "      <td>2020/05/04 - 2020/05/10</td>\n",
       "      <td>Music</td>\n",
       "    </tr>\n",
       "    <tr>\n",
       "      <th>13</th>\n",
       "      <td>Cuco</td>\n",
       "      <td>Lover Is a Day</td>\n",
       "      <td>85860</td>\n",
       "      <td>2020-05-09 00:06:00</td>\n",
       "      <td>2020/05/04 - 2020/05/10</td>\n",
       "      <td>Music</td>\n",
       "    </tr>\n",
       "    <tr>\n",
       "      <th>...</th>\n",
       "      <td>...</td>\n",
       "      <td>...</td>\n",
       "      <td>...</td>\n",
       "      <td>...</td>\n",
       "      <td>...</td>\n",
       "      <td>...</td>\n",
       "    </tr>\n",
       "    <tr>\n",
       "      <th>6896</th>\n",
       "      <td>Sushant KC</td>\n",
       "      <td>Sathi</td>\n",
       "      <td>215073</td>\n",
       "      <td>2021-05-09 22:48:00</td>\n",
       "      <td>2021/05/03 - 2021/05/09</td>\n",
       "      <td>Music</td>\n",
       "    </tr>\n",
       "    <tr>\n",
       "      <th>6897</th>\n",
       "      <td>Sushant KC</td>\n",
       "      <td>Satayera</td>\n",
       "      <td>224396</td>\n",
       "      <td>2021-05-09 22:52:00</td>\n",
       "      <td>2021/05/03 - 2021/05/09</td>\n",
       "      <td>Music</td>\n",
       "    </tr>\n",
       "    <tr>\n",
       "      <th>6898</th>\n",
       "      <td>Sushant KC</td>\n",
       "      <td>Mausam</td>\n",
       "      <td>199466</td>\n",
       "      <td>2021-05-09 22:55:00</td>\n",
       "      <td>2021/05/03 - 2021/05/09</td>\n",
       "      <td>Music</td>\n",
       "    </tr>\n",
       "    <tr>\n",
       "      <th>6899</th>\n",
       "      <td>Sushant KC</td>\n",
       "      <td>Satayera</td>\n",
       "      <td>373366</td>\n",
       "      <td>2021-05-09 23:02:00</td>\n",
       "      <td>2021/05/03 - 2021/05/09</td>\n",
       "      <td>Music</td>\n",
       "    </tr>\n",
       "    <tr>\n",
       "      <th>6900</th>\n",
       "      <td>Sushant KC</td>\n",
       "      <td>Mausam</td>\n",
       "      <td>161535</td>\n",
       "      <td>2021-05-09 23:04:00</td>\n",
       "      <td>2021/05/03 - 2021/05/09</td>\n",
       "      <td>Music</td>\n",
       "    </tr>\n",
       "  </tbody>\n",
       "</table>\n",
       "<p>17352 rows × 6 columns</p>\n",
       "</div>"
      ],
      "text/plain": [
       "       artist_name                          track_name  ms_played  \\\n",
       "1         rum.gold                            Save You     112725   \n",
       "3     XXXTENTACION  Everybody Dies In Their Nightmares      95466   \n",
       "11          Clairo                         Pretty Girl      98432   \n",
       "12     girl in red          we fell in love in october      68071   \n",
       "13            Cuco                      Lover Is a Day      85860   \n",
       "...            ...                                 ...        ...   \n",
       "6896    Sushant KC                               Sathi     215073   \n",
       "6897    Sushant KC                            Satayera     224396   \n",
       "6898    Sushant KC                              Mausam     199466   \n",
       "6899    Sushant KC                            Satayera     373366   \n",
       "6900    Sushant KC                              Mausam     161535   \n",
       "\n",
       "                end_time                     Week   Type  \n",
       "1    2020-05-09 00:00:00  2020/05/04 - 2020/05/10  Music  \n",
       "3    2020-05-09 00:02:00  2020/05/04 - 2020/05/10  Music  \n",
       "11   2020-05-09 00:04:00  2020/05/04 - 2020/05/10  Music  \n",
       "12   2020-05-09 00:05:00  2020/05/04 - 2020/05/10  Music  \n",
       "13   2020-05-09 00:06:00  2020/05/04 - 2020/05/10  Music  \n",
       "...                  ...                      ...    ...  \n",
       "6896 2021-05-09 22:48:00  2021/05/03 - 2021/05/09  Music  \n",
       "6897 2021-05-09 22:52:00  2021/05/03 - 2021/05/09  Music  \n",
       "6898 2021-05-09 22:55:00  2021/05/03 - 2021/05/09  Music  \n",
       "6899 2021-05-09 23:02:00  2021/05/03 - 2021/05/09  Music  \n",
       "6900 2021-05-09 23:04:00  2021/05/03 - 2021/05/09  Music  \n",
       "\n",
       "[17352 rows x 6 columns]"
      ]
     },
     "execution_count": 44,
     "metadata": {},
     "output_type": "execute_result"
    }
   ],
   "source": [
    "quarantine"
   ]
  },
  {
   "cell_type": "code",
   "execution_count": 45,
   "metadata": {},
   "outputs": [
    {
     "data": {
      "text/html": [
       "<div>\n",
       "<style scoped>\n",
       "    .dataframe tbody tr th:only-of-type {\n",
       "        vertical-align: middle;\n",
       "    }\n",
       "\n",
       "    .dataframe tbody tr th {\n",
       "        vertical-align: top;\n",
       "    }\n",
       "\n",
       "    .dataframe thead th {\n",
       "        text-align: right;\n",
       "    }\n",
       "</style>\n",
       "<table border=\"1\" class=\"dataframe\">\n",
       "  <thead>\n",
       "    <tr style=\"text-align: right;\">\n",
       "      <th></th>\n",
       "      <th>artist_name</th>\n",
       "      <th>track_name</th>\n",
       "      <th>ms_played</th>\n",
       "      <th>end_time</th>\n",
       "      <th>Week</th>\n",
       "      <th>Type</th>\n",
       "    </tr>\n",
       "  </thead>\n",
       "  <tbody>\n",
       "    <tr>\n",
       "      <th>1</th>\n",
       "      <td>rum.gold</td>\n",
       "      <td>Save You</td>\n",
       "      <td>112725</td>\n",
       "      <td>2020-05-09 00:00:00</td>\n",
       "      <td>2020/05/04 - 2020/05/10</td>\n",
       "      <td>Music</td>\n",
       "    </tr>\n",
       "    <tr>\n",
       "      <th>3</th>\n",
       "      <td>XXXTENTACION</td>\n",
       "      <td>Everybody Dies In Their Nightmares</td>\n",
       "      <td>95466</td>\n",
       "      <td>2020-05-09 00:02:00</td>\n",
       "      <td>2020/05/04 - 2020/05/10</td>\n",
       "      <td>Music</td>\n",
       "    </tr>\n",
       "    <tr>\n",
       "      <th>11</th>\n",
       "      <td>Clairo</td>\n",
       "      <td>Pretty Girl</td>\n",
       "      <td>98432</td>\n",
       "      <td>2020-05-09 00:04:00</td>\n",
       "      <td>2020/05/04 - 2020/05/10</td>\n",
       "      <td>Music</td>\n",
       "    </tr>\n",
       "    <tr>\n",
       "      <th>12</th>\n",
       "      <td>girl in red</td>\n",
       "      <td>we fell in love in october</td>\n",
       "      <td>68071</td>\n",
       "      <td>2020-05-09 00:05:00</td>\n",
       "      <td>2020/05/04 - 2020/05/10</td>\n",
       "      <td>Music</td>\n",
       "    </tr>\n",
       "    <tr>\n",
       "      <th>13</th>\n",
       "      <td>Cuco</td>\n",
       "      <td>Lover Is a Day</td>\n",
       "      <td>85860</td>\n",
       "      <td>2020-05-09 00:06:00</td>\n",
       "      <td>2020/05/04 - 2020/05/10</td>\n",
       "      <td>Music</td>\n",
       "    </tr>\n",
       "  </tbody>\n",
       "</table>\n",
       "</div>"
      ],
      "text/plain": [
       "     artist_name                          track_name  ms_played  \\\n",
       "1       rum.gold                            Save You     112725   \n",
       "3   XXXTENTACION  Everybody Dies In Their Nightmares      95466   \n",
       "11        Clairo                         Pretty Girl      98432   \n",
       "12   girl in red          we fell in love in october      68071   \n",
       "13          Cuco                      Lover Is a Day      85860   \n",
       "\n",
       "              end_time                     Week   Type  \n",
       "1  2020-05-09 00:00:00  2020/05/04 - 2020/05/10  Music  \n",
       "3  2020-05-09 00:02:00  2020/05/04 - 2020/05/10  Music  \n",
       "11 2020-05-09 00:04:00  2020/05/04 - 2020/05/10  Music  \n",
       "12 2020-05-09 00:05:00  2020/05/04 - 2020/05/10  Music  \n",
       "13 2020-05-09 00:06:00  2020/05/04 - 2020/05/10  Music  "
      ]
     },
     "execution_count": 45,
     "metadata": {},
     "output_type": "execute_result"
    }
   ],
   "source": [
    "quarantine.head()"
   ]
  },
  {
   "cell_type": "code",
   "execution_count": 46,
   "metadata": {},
   "outputs": [
    {
     "data": {
      "text/html": [
       "<div>\n",
       "<style scoped>\n",
       "    .dataframe tbody tr th:only-of-type {\n",
       "        vertical-align: middle;\n",
       "    }\n",
       "\n",
       "    .dataframe tbody tr th {\n",
       "        vertical-align: top;\n",
       "    }\n",
       "\n",
       "    .dataframe thead th {\n",
       "        text-align: right;\n",
       "    }\n",
       "</style>\n",
       "<table border=\"1\" class=\"dataframe\">\n",
       "  <thead>\n",
       "    <tr style=\"text-align: right;\">\n",
       "      <th></th>\n",
       "      <th>Type</th>\n",
       "      <th>ms_played</th>\n",
       "    </tr>\n",
       "  </thead>\n",
       "  <tbody>\n",
       "    <tr>\n",
       "      <th>0</th>\n",
       "      <td>Music</td>\n",
       "      <td>2349789563</td>\n",
       "    </tr>\n",
       "    <tr>\n",
       "      <th>1</th>\n",
       "      <td>Podcast</td>\n",
       "      <td>663977974</td>\n",
       "    </tr>\n",
       "  </tbody>\n",
       "</table>\n",
       "</div>"
      ],
      "text/plain": [
       "      Type   ms_played\n",
       "0    Music  2349789563\n",
       "1  Podcast   663977974"
      ]
     },
     "execution_count": 46,
     "metadata": {},
     "output_type": "execute_result"
    }
   ],
   "source": [
    "group_type = quarantine.groupby(by='Type', as_index=False)['ms_played'].agg(sum)\n",
    "\n",
    "group_type"
   ]
  },
  {
   "cell_type": "markdown",
   "metadata": {},
   "source": [
    "Music v. Podcast "
   ]
  },
  {
   "cell_type": "code",
   "execution_count": 47,
   "metadata": {},
   "outputs": [
    {
     "data": {
      "image/png": "[encoded data removed]",
      "text/plain": [
       "<Figure size 432x288 with 1 Axes>"
      ]
     },
     "metadata": {},
     "output_type": "display_data"
    }
   ],
   "source": [
    "labels = 'Music', 'Podcast'\n",
    "sizes = [2349789563, 663977974]\n",
    "explode = (0, 0.1)  # only \"explode\" the 2nd slice (i.e. 'Podcast')\n",
    "\n",
    "fig1, ax1 = plt.subplots()\n",
    "ax1.pie(sizes, explode=explode, labels=labels, autopct='%1.1f%%',\n",
    "        shadow=True, startangle=90)\n",
    "ax1.axis('equal')  # Equal aspect ratio ensures that pie is drawn as a circle.\n",
    "\n",
    "plt.show()"
   ]
  },
  {
   "cell_type": "markdown",
   "metadata": {},
   "source": [
    "Popularity of artist based on the number of times their songs were clicked and played"
   ]
  },
  {
   "cell_type": "code",
   "execution_count": 74,
   "metadata": {},
   "outputs": [
    {
     "name": "stdout",
     "output_type": "stream",
     "text": [
      "The most popular artists by number of times their songs were played were: \n",
      "\n",
      "artist_name\n",
      "Drake            961\n",
      "UMI              600\n",
      "Jhené Aiko       463\n",
      "Pop Smoke        411\n",
      "Raveena          379\n",
      "6LACK            323\n",
      "Lil Baby         308\n",
      "Travis Scott     297\n",
      "The Weeknd       293\n",
      "Summer Walker    235\n",
      "Name: track_name, dtype: int64\n"
     ]
    }
   ],
   "source": [
    "most_played_artists_by_count = streamingHistory.groupby(by='artist_name')['track_name'].count().sort_values(ascending=False)[:10]\n",
    "\n",
    "print('The most popular artists by number of times their songs were played were: \\n\\n{}'.format(most_played_artists_by_count))"
   ]
  },
  {
   "cell_type": "code",
   "execution_count": 49,
   "metadata": {},
   "outputs": [
    {
     "data": {
      "application/vnd.plotly.v1+json": {
       "config": {
        "plotlyServerURL": "https://plot.ly"
       },
       "data": [
        {
         "marker": {
          "color": [
           "RGB(103, 0, 31)",
           "RGB(178, 24, 43)",
           "RGB(214, 96, 77)",
           "RGB(244, 165, 130)",
           "RGB(253, 219, 199)",
           "RGB(247, 247, 247)",
           "RGB(209, 229, 240)",
           "RGB(146, 197, 222)",
           "RGB(67, 147, 195)",
           "RGB(33, 102, 172)",
           "RGB(5, 48, 97)"
          ]
         },
         "opacity": 1,
         "textposition": "auto",
         "type": "bar",
         "x": [
          "Drake",
          "UMI",
          "Jhené Aiko",
          "Pop Smoke",
          "Raveena",
          "6LACK",
          "Lil Baby",
          "Travis Scott",
          "The Weeknd",
          "Summer Walker"
         ],
         "y": [
          961,
          600,
          463,
          411,
          379,
          323,
          308,
          297,
          293,
          235
         ]
        }
       ],
       "layout": {
        "template": {
         "data": {
          "bar": [
           {
            "error_x": {
             "color": "#2a3f5f"
            },
            "error_y": {
             "color": "#2a3f5f"
            },
            "marker": {
             "line": {
              "color": "#E5ECF6",
              "width": 0.5
             }
            },
            "type": "bar"
           }
          ],
          "barpolar": [
           {
            "marker": {
             "line": {
              "color": "#E5ECF6",
              "width": 0.5
             }
            },
            "type": "barpolar"
           }
          ],
          "carpet": [
           {
            "aaxis": {
             "endlinecolor": "#2a3f5f",
             "gridcolor": "white",
             "linecolor": "white",
             "minorgridcolor": "white",
             "startlinecolor": "#2a3f5f"
            },
            "baxis": {
             "endlinecolor": "#2a3f5f",
             "gridcolor": "white",
             "linecolor": "white",
             "minorgridcolor": "white",
             "startlinecolor": "#2a3f5f"
            },
            "type": "carpet"
           }
          ],
          "choropleth": [
           {
            "colorbar": {
             "outlinewidth": 0,
             "ticks": ""
            },
            "type": "choropleth"
           }
          ],
          "contour": [
           {
            "colorbar": {
             "outlinewidth": 0,
             "ticks": ""
            },
            "colorscale": [
             [
              0,
              "#0d0887"
             ],
             [
              0.1111111111111111,
              "#46039f"
             ],
             [
              0.2222222222222222,
              "#7201a8"
             ],
             [
              0.3333333333333333,
              "#9c179e"
             ],
             [
              0.4444444444444444,
              "#bd3786"
             ],
             [
              0.5555555555555556,
              "#d8576b"
             ],
             [
              0.6666666666666666,
              "#ed7953"
             ],
             [
              0.7777777777777778,
              "#fb9f3a"
             ],
             [
              0.8888888888888888,
              "#fdca26"
             ],
             [
              1,
              "#f0f921"
             ]
            ],
            "type": "contour"
           }
          ],
          "contourcarpet": [
           {
            "colorbar": {
             "outlinewidth": 0,
             "ticks": ""
            },
            "type": "contourcarpet"
           }
          ],
          "heatmap": [
           {
            "colorbar": {
             "outlinewidth": 0,
             "ticks": ""
            },
            "colorscale": [
             [
              0,
              "#0d0887"
             ],
             [
              0.1111111111111111,
              "#46039f"
             ],
             [
              0.2222222222222222,
              "#7201a8"
             ],
             [
              0.3333333333333333,
              "#9c179e"
             ],
             [
              0.4444444444444444,
              "#bd3786"
             ],
             [
              0.5555555555555556,
              "#d8576b"
             ],
             [
              0.6666666666666666,
              "#ed7953"
             ],
             [
              0.7777777777777778,
              "#fb9f3a"
             ],
             [
              0.8888888888888888,
              "#fdca26"
             ],
             [
              1,
              "#f0f921"
             ]
            ],
            "type": "heatmap"
           }
          ],
          "heatmapgl": [
           {
            "colorbar": {
             "outlinewidth": 0,
             "ticks": ""
            },
            "colorscale": [
             [
              0,
              "#0d0887"
             ],
             [
              0.1111111111111111,
              "#46039f"
             ],
             [
              0.2222222222222222,
              "#7201a8"
             ],
             [
              0.3333333333333333,
              "#9c179e"
             ],
             [
              0.4444444444444444,
              "#bd3786"
             ],
             [
              0.5555555555555556,
              "#d8576b"
             ],
             [
              0.6666666666666666,
              "#ed7953"
             ],
             [
              0.7777777777777778,
              "#fb9f3a"
             ],
             [
              0.8888888888888888,
              "#fdca26"
             ],
             [
              1,
              "#f0f921"
             ]
            ],
            "type": "heatmapgl"
           }
          ],
          "histogram": [
           {
            "marker": {
             "colorbar": {
              "outlinewidth": 0,
              "ticks": ""
             }
            },
            "type": "histogram"
           }
          ],
          "histogram2d": [
           {
            "colorbar": {
             "outlinewidth": 0,
             "ticks": ""
            },
            "colorscale": [
             [
              0,
              "#0d0887"
             ],
             [
              0.1111111111111111,
              "#46039f"
             ],
             [
              0.2222222222222222,
              "#7201a8"
             ],
             [
              0.3333333333333333,
              "#9c179e"
             ],
             [
              0.4444444444444444,
              "#bd3786"
             ],
             [
              0.5555555555555556,
              "#d8576b"
             ],
             [
              0.6666666666666666,
              "#ed7953"
             ],
             [
              0.7777777777777778,
              "#fb9f3a"
             ],
             [
              0.8888888888888888,
              "#fdca26"
             ],
             [
              1,
              "#f0f921"
             ]
            ],
            "type": "histogram2d"
           }
          ],
          "histogram2dcontour": [
           {
            "colorbar": {
             "outlinewidth": 0,
             "ticks": ""
            },
            "colorscale": [
             [
              0,
              "#0d0887"
             ],
             [
              0.1111111111111111,
              "#46039f"
             ],
             [
              0.2222222222222222,
              "#7201a8"
             ],
             [
              0.3333333333333333,
              "#9c179e"
             ],
             [
              0.4444444444444444,
              "#bd3786"
             ],
             [
              0.5555555555555556,
              "#d8576b"
             ],
             [
              0.6666666666666666,
              "#ed7953"
             ],
             [
              0.7777777777777778,
              "#fb9f3a"
             ],
             [
              0.8888888888888888,
              "#fdca26"
             ],
             [
              1,
              "#f0f921"
             ]
            ],
            "type": "histogram2dcontour"
           }
          ],
          "mesh3d": [
           {
            "colorbar": {
             "outlinewidth": 0,
             "ticks": ""
            },
            "type": "mesh3d"
           }
          ],
          "parcoords": [
           {
            "line": {
             "colorbar": {
              "outlinewidth": 0,
              "ticks": ""
             }
            },
            "type": "parcoords"
           }
          ],
          "pie": [
           {
            "automargin": true,
            "type": "pie"
           }
          ],
          "scatter": [
           {
            "marker": {
             "colorbar": {
              "outlinewidth": 0,
              "ticks": ""
             }
            },
            "type": "scatter"
           }
          ],
          "scatter3d": [
           {
            "line": {
             "colorbar": {
              "outlinewidth": 0,
              "ticks": ""
             }
            },
            "marker": {
             "colorbar": {
              "outlinewidth": 0,
              "ticks": ""
             }
            },
            "type": "scatter3d"
           }
          ],
          "scattercarpet": [
           {
            "marker": {
             "colorbar": {
              "outlinewidth": 0,
              "ticks": ""
             }
            },
            "type": "scattercarpet"
           }
          ],
          "scattergeo": [
           {
            "marker": {
             "colorbar": {
              "outlinewidth": 0,
              "ticks": ""
             }
            },
            "type": "scattergeo"
           }
          ],
          "scattergl": [
           {
            "marker": {
             "colorbar": {
              "outlinewidth": 0,
              "ticks": ""
             }
            },
            "type": "scattergl"
           }
          ],
          "scattermapbox": [
           {
            "marker": {
             "colorbar": {
              "outlinewidth": 0,
              "ticks": ""
             }
            },
            "type": "scattermapbox"
           }
          ],
          "scatterpolar": [
           {
            "marker": {
             "colorbar": {
              "outlinewidth": 0,
              "ticks": ""
             }
            },
            "type": "scatterpolar"
           }
          ],
          "scatterpolargl": [
           {
            "marker": {
             "colorbar": {
              "outlinewidth": 0,
              "ticks": ""
             }
            },
            "type": "scatterpolargl"
           }
          ],
          "scatterternary": [
           {
            "marker": {
             "colorbar": {
              "outlinewidth": 0,
              "ticks": ""
             }
            },
            "type": "scatterternary"
           }
          ],
          "surface": [
           {
            "colorbar": {
             "outlinewidth": 0,
             "ticks": ""
            },
            "colorscale": [
             [
              0,
              "#0d0887"
             ],
             [
              0.1111111111111111,
              "#46039f"
             ],
             [
              0.2222222222222222,
              "#7201a8"
             ],
             [
              0.3333333333333333,
              "#9c179e"
             ],
             [
              0.4444444444444444,
              "#bd3786"
             ],
             [
              0.5555555555555556,
              "#d8576b"
             ],
             [
              0.6666666666666666,
              "#ed7953"
             ],
             [
              0.7777777777777778,
              "#fb9f3a"
             ],
             [
              0.8888888888888888,
              "#fdca26"
             ],
             [
              1,
              "#f0f921"
             ]
            ],
            "type": "surface"
           }
          ],
          "table": [
           {
            "cells": {
             "fill": {
              "color": "#EBF0F8"
             },
             "line": {
              "color": "white"
             }
            },
            "header": {
             "fill": {
              "color": "#C8D4E3"
             },
             "line": {
              "color": "white"
             }
            },
            "type": "table"
           }
          ]
         },
         "layout": {
          "annotationdefaults": {
           "arrowcolor": "#2a3f5f",
           "arrowhead": 0,
           "arrowwidth": 1
          },
          "autotypenumbers": "strict",
          "coloraxis": {
           "colorbar": {
            "outlinewidth": 0,
            "ticks": ""
           }
          },
          "colorscale": {
           "diverging": [
            [
             0,
             "#8e0152"
            ],
            [
             0.1,
             "#c51b7d"
            ],
            [
             0.2,
             "#de77ae"
            ],
            [
             0.3,
             "#f1b6da"
            ],
            [
             0.4,
             "#fde0ef"
            ],
            [
             0.5,
             "#f7f7f7"
            ],
            [
             0.6,
             "#e6f5d0"
            ],
            [
             0.7,
             "#b8e186"
            ],
            [
             0.8,
             "#7fbc41"
            ],
            [
             0.9,
             "#4d9221"
            ],
            [
             1,
             "#276419"
            ]
           ],
           "sequential": [
            [
             0,
             "#0d0887"
            ],
            [
             0.1111111111111111,
             "#46039f"
            ],
            [
             0.2222222222222222,
             "#7201a8"
            ],
            [
             0.3333333333333333,
             "#9c179e"
            ],
            [
             0.4444444444444444,
             "#bd3786"
            ],
            [
             0.5555555555555556,
             "#d8576b"
            ],
            [
             0.6666666666666666,
             "#ed7953"
            ],
            [
             0.7777777777777778,
             "#fb9f3a"
            ],
            [
             0.8888888888888888,
             "#fdca26"
            ],
            [
             1,
             "#f0f921"
            ]
           ],
           "sequentialminus": [
            [
             0,
             "#0d0887"
            ],
            [
             0.1111111111111111,
             "#46039f"
            ],
            [
             0.2222222222222222,
             "#7201a8"
            ],
            [
             0.3333333333333333,
             "#9c179e"
            ],
            [
             0.4444444444444444,
             "#bd3786"
            ],
            [
             0.5555555555555556,
             "#d8576b"
            ],
            [
             0.6666666666666666,
             "#ed7953"
            ],
            [
             0.7777777777777778,
             "#fb9f3a"
            ],
            [
             0.8888888888888888,
             "#fdca26"
            ],
            [
             1,
             "#f0f921"
            ]
           ]
          },
          "colorway": [
           "#636efa",
           "#EF553B",
           "#00cc96",
           "#ab63fa",
           "#FFA15A",
           "#19d3f3",
           "#FF6692",
           "#B6E880",
           "#FF97FF",
           "#FECB52"
          ],
          "font": {
           "color": "#2a3f5f"
          },
          "geo": {
           "bgcolor": "white",
           "lakecolor": "white",
           "landcolor": "#E5ECF6",
           "showlakes": true,
           "showland": true,
           "subunitcolor": "white"
          },
          "hoverlabel": {
           "align": "left"
          },
          "hovermode": "closest",
          "mapbox": {
           "style": "light"
          },
          "paper_bgcolor": "white",
          "plot_bgcolor": "#E5ECF6",
          "polar": {
           "angularaxis": {
            "gridcolor": "white",
            "linecolor": "white",
            "ticks": ""
           },
           "bgcolor": "#E5ECF6",
           "radialaxis": {
            "gridcolor": "white",
            "linecolor": "white",
            "ticks": ""
           }
          },
          "scene": {
           "xaxis": {
            "backgroundcolor": "#E5ECF6",
            "gridcolor": "white",
            "gridwidth": 2,
            "linecolor": "white",
            "showbackground": true,
            "ticks": "",
            "zerolinecolor": "white"
           },
           "yaxis": {
            "backgroundcolor": "#E5ECF6",
            "gridcolor": "white",
            "gridwidth": 2,
            "linecolor": "white",
            "showbackground": true,
            "ticks": "",
            "zerolinecolor": "white"
           },
           "zaxis": {
            "backgroundcolor": "#E5ECF6",
            "gridcolor": "white",
            "gridwidth": 2,
            "linecolor": "white",
            "showbackground": true,
            "ticks": "",
            "zerolinecolor": "white"
           }
          },
          "shapedefaults": {
           "line": {
            "color": "#2a3f5f"
           }
          },
          "ternary": {
           "aaxis": {
            "gridcolor": "white",
            "linecolor": "white",
            "ticks": ""
           },
           "baxis": {
            "gridcolor": "white",
            "linecolor": "white",
            "ticks": ""
           },
           "bgcolor": "#E5ECF6",
           "caxis": {
            "gridcolor": "white",
            "linecolor": "white",
            "ticks": ""
           }
          },
          "title": {
           "x": 0.05
          },
          "xaxis": {
           "automargin": true,
           "gridcolor": "white",
           "linecolor": "white",
           "ticks": "",
           "title": {
            "standoff": 15
           },
           "zerolinecolor": "white",
           "zerolinewidth": 2
          },
          "yaxis": {
           "automargin": true,
           "gridcolor": "white",
           "linecolor": "white",
           "ticks": "",
           "title": {
            "standoff": 15
           },
           "zerolinecolor": "white",
           "zerolinewidth": 2
          }
         }
        }
       }
      },
      "text/html": [
       "<div>                            <div id=\"34ade6c6-7857-40f6-b082-1b43ffaea5a4\" class=\"plotly-graph-div\" style=\"height:525px; width:100%;\"></div>            <script type=\"text/javascript\">                require([\"plotly\"], function(Plotly) {                    window.PLOTLYENV=window.PLOTLYENV || {};                                    if (document.getElementById(\"34ade6c6-7857-40f6-b082-1b43ffaea5a4\")) {                    Plotly.newPlot(                        \"34ade6c6-7857-40f6-b082-1b43ffaea5a4\",                        [{\"marker\": {\"color\": [\"RGB(103, 0, 31)\", \"RGB(178, 24, 43)\", \"RGB(214, 96, 77)\", \"RGB(244, 165, 130)\", \"RGB(253, 219, 199)\", \"RGB(247, 247, 247)\", \"RGB(209, 229, 240)\", \"RGB(146, 197, 222)\", \"RGB(67, 147, 195)\", \"RGB(33, 102, 172)\", \"RGB(5, 48, 97)\"]}, \"opacity\": 1, \"textposition\": \"auto\", \"type\": \"bar\", \"x\": [\"Drake\", \"UMI\", \"Jhen\\u00e9 Aiko\", \"Pop Smoke\", \"Raveena\", \"6LACK\", \"Lil Baby\", \"Travis Scott\", \"The Weeknd\", \"Summer Walker\"], \"y\": [961, 600, 463, 411, 379, 323, 308, 297, 293, 235]}],                        {\"template\": {\"data\": {\"bar\": [{\"error_x\": {\"color\": \"#2a3f5f\"}, \"error_y\": {\"color\": \"#2a3f5f\"}, \"marker\": {\"line\": {\"color\": \"#E5ECF6\", \"width\": 0.5}}, \"type\": \"bar\"}], \"barpolar\": [{\"marker\": {\"line\": {\"color\": \"#E5ECF6\", \"width\": 0.5}}, \"type\": \"barpolar\"}], \"carpet\": [{\"aaxis\": {\"endlinecolor\": \"#2a3f5f\", \"gridcolor\": \"white\", \"linecolor\": \"white\", \"minorgridcolor\": \"white\", \"startlinecolor\": \"#2a3f5f\"}, \"baxis\": {\"endlinecolor\": \"#2a3f5f\", \"gridcolor\": \"white\", \"linecolor\": \"white\", \"minorgridcolor\": \"white\", \"startlinecolor\": \"#2a3f5f\"}, \"type\": \"carpet\"}], \"choropleth\": [{\"colorbar\": {\"outlinewidth\": 0, \"ticks\": \"\"}, \"type\": \"choropleth\"}], \"contour\": [{\"colorbar\": {\"outlinewidth\": 0, \"ticks\": \"\"}, \"colorscale\": [[0.0, \"#0d0887\"], [0.1111111111111111, \"#46039f\"], [0.2222222222222222, \"#7201a8\"], [0.3333333333333333, \"#9c179e\"], [0.4444444444444444, \"#bd3786\"], [0.5555555555555556, \"#d8576b\"], [0.6666666666666666, \"#ed7953\"], [0.7777777777777778, \"#fb9f3a\"], [0.8888888888888888, \"#fdca26\"], [1.0, \"#f0f921\"]], \"type\": \"contour\"}], \"contourcarpet\": [{\"colorbar\": {\"outlinewidth\": 0, \"ticks\": \"\"}, \"type\": \"contourcarpet\"}], \"heatmap\": [{\"colorbar\": {\"outlinewidth\": 0, \"ticks\": \"\"}, \"colorscale\": [[0.0, \"#0d0887\"], [0.1111111111111111, \"#46039f\"], [0.2222222222222222, \"#7201a8\"], [0.3333333333333333, \"#9c179e\"], [0.4444444444444444, \"#bd3786\"], [0.5555555555555556, \"#d8576b\"], [0.6666666666666666, \"#ed7953\"], [0.7777777777777778, \"#fb9f3a\"], [0.8888888888888888, \"#fdca26\"], [1.0, \"#f0f921\"]], \"type\": \"heatmap\"}], \"heatmapgl\": [{\"colorbar\": {\"outlinewidth\": 0, \"ticks\": \"\"}, \"colorscale\": [[0.0, \"#0d0887\"], [0.1111111111111111, \"#46039f\"], [0.2222222222222222, \"#7201a8\"], [0.3333333333333333, \"#9c179e\"], [0.4444444444444444, \"#bd3786\"], [0.5555555555555556, \"#d8576b\"], [0.6666666666666666, \"#ed7953\"], [0.7777777777777778, \"#fb9f3a\"], [0.8888888888888888, \"#fdca26\"], [1.0, \"#f0f921\"]], \"type\": \"heatmapgl\"}], \"histogram\": [{\"marker\": {\"colorbar\": {\"outlinewidth\": 0, \"ticks\": \"\"}}, \"type\": \"histogram\"}], \"histogram2d\": [{\"colorbar\": {\"outlinewidth\": 0, \"ticks\": \"\"}, \"colorscale\": [[0.0, \"#0d0887\"], [0.1111111111111111, \"#46039f\"], [0.2222222222222222, \"#7201a8\"], [0.3333333333333333, \"#9c179e\"], [0.4444444444444444, \"#bd3786\"], [0.5555555555555556, \"#d8576b\"], [0.6666666666666666, \"#ed7953\"], [0.7777777777777778, \"#fb9f3a\"], [0.8888888888888888, \"#fdca26\"], [1.0, \"#f0f921\"]], \"type\": \"histogram2d\"}], \"histogram2dcontour\": [{\"colorbar\": {\"outlinewidth\": 0, \"ticks\": \"\"}, \"colorscale\": [[0.0, \"#0d0887\"], [0.1111111111111111, \"#46039f\"], [0.2222222222222222, \"#7201a8\"], [0.3333333333333333, \"#9c179e\"], [0.4444444444444444, \"#bd3786\"], [0.5555555555555556, \"#d8576b\"], [0.6666666666666666, \"#ed7953\"], [0.7777777777777778, \"#fb9f3a\"], [0.8888888888888888, \"#fdca26\"], [1.0, \"#f0f921\"]], \"type\": \"histogram2dcontour\"}], \"mesh3d\": [{\"colorbar\": {\"outlinewidth\": 0, \"ticks\": \"\"}, \"type\": \"mesh3d\"}], \"parcoords\": [{\"line\": {\"colorbar\": {\"outlinewidth\": 0, \"ticks\": \"\"}}, \"type\": \"parcoords\"}], \"pie\": [{\"automargin\": true, \"type\": \"pie\"}], \"scatter\": [{\"marker\": {\"colorbar\": {\"outlinewidth\": 0, \"ticks\": \"\"}}, \"type\": \"scatter\"}], \"scatter3d\": [{\"line\": {\"colorbar\": {\"outlinewidth\": 0, \"ticks\": \"\"}}, \"marker\": {\"colorbar\": {\"outlinewidth\": 0, \"ticks\": \"\"}}, \"type\": \"scatter3d\"}], \"scattercarpet\": [{\"marker\": {\"colorbar\": {\"outlinewidth\": 0, \"ticks\": \"\"}}, \"type\": \"scattercarpet\"}], \"scattergeo\": [{\"marker\": {\"colorbar\": {\"outlinewidth\": 0, \"ticks\": \"\"}}, \"type\": \"scattergeo\"}], \"scattergl\": [{\"marker\": {\"colorbar\": {\"outlinewidth\": 0, \"ticks\": \"\"}}, \"type\": \"scattergl\"}], \"scattermapbox\": [{\"marker\": {\"colorbar\": {\"outlinewidth\": 0, \"ticks\": \"\"}}, \"type\": \"scattermapbox\"}], \"scatterpolar\": [{\"marker\": {\"colorbar\": {\"outlinewidth\": 0, \"ticks\": \"\"}}, \"type\": \"scatterpolar\"}], \"scatterpolargl\": [{\"marker\": {\"colorbar\": {\"outlinewidth\": 0, \"ticks\": \"\"}}, \"type\": \"scatterpolargl\"}], \"scatterternary\": [{\"marker\": {\"colorbar\": {\"outlinewidth\": 0, \"ticks\": \"\"}}, \"type\": \"scatterternary\"}], \"surface\": [{\"colorbar\": {\"outlinewidth\": 0, \"ticks\": \"\"}, \"colorscale\": [[0.0, \"#0d0887\"], [0.1111111111111111, \"#46039f\"], [0.2222222222222222, \"#7201a8\"], [0.3333333333333333, \"#9c179e\"], [0.4444444444444444, \"#bd3786\"], [0.5555555555555556, \"#d8576b\"], [0.6666666666666666, \"#ed7953\"], [0.7777777777777778, \"#fb9f3a\"], [0.8888888888888888, \"#fdca26\"], [1.0, \"#f0f921\"]], \"type\": \"surface\"}], \"table\": [{\"cells\": {\"fill\": {\"color\": \"#EBF0F8\"}, \"line\": {\"color\": \"white\"}}, \"header\": {\"fill\": {\"color\": \"#C8D4E3\"}, \"line\": {\"color\": \"white\"}}, \"type\": \"table\"}]}, \"layout\": {\"annotationdefaults\": {\"arrowcolor\": \"#2a3f5f\", \"arrowhead\": 0, \"arrowwidth\": 1}, \"autotypenumbers\": \"strict\", \"coloraxis\": {\"colorbar\": {\"outlinewidth\": 0, \"ticks\": \"\"}}, \"colorscale\": {\"diverging\": [[0, \"#8e0152\"], [0.1, \"#c51b7d\"], [0.2, \"#de77ae\"], [0.3, \"#f1b6da\"], [0.4, \"#fde0ef\"], [0.5, \"#f7f7f7\"], [0.6, \"#e6f5d0\"], [0.7, \"#b8e186\"], [0.8, \"#7fbc41\"], [0.9, \"#4d9221\"], [1, \"#276419\"]], \"sequential\": [[0.0, \"#0d0887\"], [0.1111111111111111, \"#46039f\"], [0.2222222222222222, \"#7201a8\"], [0.3333333333333333, \"#9c179e\"], [0.4444444444444444, \"#bd3786\"], [0.5555555555555556, \"#d8576b\"], [0.6666666666666666, \"#ed7953\"], [0.7777777777777778, \"#fb9f3a\"], [0.8888888888888888, \"#fdca26\"], [1.0, \"#f0f921\"]], \"sequentialminus\": [[0.0, \"#0d0887\"], [0.1111111111111111, \"#46039f\"], [0.2222222222222222, \"#7201a8\"], [0.3333333333333333, \"#9c179e\"], [0.4444444444444444, \"#bd3786\"], [0.5555555555555556, \"#d8576b\"], [0.6666666666666666, \"#ed7953\"], [0.7777777777777778, \"#fb9f3a\"], [0.8888888888888888, \"#fdca26\"], [1.0, \"#f0f921\"]]}, \"colorway\": [\"#636efa\", \"#EF553B\", \"#00cc96\", \"#ab63fa\", \"#FFA15A\", \"#19d3f3\", \"#FF6692\", \"#B6E880\", \"#FF97FF\", \"#FECB52\"], \"font\": {\"color\": \"#2a3f5f\"}, \"geo\": {\"bgcolor\": \"white\", \"lakecolor\": \"white\", \"landcolor\": \"#E5ECF6\", \"showlakes\": true, \"showland\": true, \"subunitcolor\": \"white\"}, \"hoverlabel\": {\"align\": \"left\"}, \"hovermode\": \"closest\", \"mapbox\": {\"style\": \"light\"}, \"paper_bgcolor\": \"white\", \"plot_bgcolor\": \"#E5ECF6\", \"polar\": {\"angularaxis\": {\"gridcolor\": \"white\", \"linecolor\": \"white\", \"ticks\": \"\"}, \"bgcolor\": \"#E5ECF6\", \"radialaxis\": {\"gridcolor\": \"white\", \"linecolor\": \"white\", \"ticks\": \"\"}}, \"scene\": {\"xaxis\": {\"backgroundcolor\": \"#E5ECF6\", \"gridcolor\": \"white\", \"gridwidth\": 2, \"linecolor\": \"white\", \"showbackground\": true, \"ticks\": \"\", \"zerolinecolor\": \"white\"}, \"yaxis\": {\"backgroundcolor\": \"#E5ECF6\", \"gridcolor\": \"white\", \"gridwidth\": 2, \"linecolor\": \"white\", \"showbackground\": true, \"ticks\": \"\", \"zerolinecolor\": \"white\"}, \"zaxis\": {\"backgroundcolor\": \"#E5ECF6\", \"gridcolor\": \"white\", \"gridwidth\": 2, \"linecolor\": \"white\", \"showbackground\": true, \"ticks\": \"\", \"zerolinecolor\": \"white\"}}, \"shapedefaults\": {\"line\": {\"color\": \"#2a3f5f\"}}, \"ternary\": {\"aaxis\": {\"gridcolor\": \"white\", \"linecolor\": \"white\", \"ticks\": \"\"}, \"baxis\": {\"gridcolor\": \"white\", \"linecolor\": \"white\", \"ticks\": \"\"}, \"bgcolor\": \"#E5ECF6\", \"caxis\": {\"gridcolor\": \"white\", \"linecolor\": \"white\", \"ticks\": \"\"}}, \"title\": {\"x\": 0.05}, \"xaxis\": {\"automargin\": true, \"gridcolor\": \"white\", \"linecolor\": \"white\", \"ticks\": \"\", \"title\": {\"standoff\": 15}, \"zerolinecolor\": \"white\", \"zerolinewidth\": 2}, \"yaxis\": {\"automargin\": true, \"gridcolor\": \"white\", \"linecolor\": \"white\", \"ticks\": \"\", \"title\": {\"standoff\": 15}, \"zerolinecolor\": \"white\", \"zerolinewidth\": 2}}}},                        {\"responsive\": true}                    ).then(function(){\n",
       "                            \n",
       "var gd = document.getElementById('34ade6c6-7857-40f6-b082-1b43ffaea5a4');\n",
       "var x = new MutationObserver(function (mutations, observer) {{\n",
       "        var display = window.getComputedStyle(gd).display;\n",
       "        if (!display || display === 'none') {{\n",
       "            console.log([gd, 'removed!']);\n",
       "            Plotly.purge(gd);\n",
       "            observer.disconnect();\n",
       "        }}\n",
       "}});\n",
       "\n",
       "// Listen for the removal of the full notebook cells\n",
       "var notebookContainer = gd.closest('#notebook-container');\n",
       "if (notebookContainer) {{\n",
       "    x.observe(notebookContainer, {childList: true});\n",
       "}}\n",
       "\n",
       "// Listen for the clearing of the current output cell\n",
       "var outputEl = gd.closest('.output');\n",
       "if (outputEl) {{\n",
       "    x.observe(outputEl, {childList: true});\n",
       "}}\n",
       "\n",
       "                        })                };                });            </script>        </div>"
      ]
     },
     "metadata": {},
     "output_type": "display_data"
    }
   ],
   "source": [
    "colors = ['RGB(103, 0, 31)','RGB(178, 24, 43)','RGB(214, 96, 77)','RGB(244, 165, 130)','RGB(253, 219, 199)',\n",
    "          'RGB(247, 247, 247)','RGB(209, 229, 240)','RGB(146, 197, 222)','RGB(67, 147, 195)','RGB(33, 102, 172)',\n",
    "          'RGB(5, 48, 97)']\n",
    "\n",
    "\n",
    "layout = go.Layout(\n",
    "    title='Popularity Of Artists By Number Of Times Their Song Was Played',\n",
    "    yaxis= dict(\n",
    "        title=\"Number of Times Played\",\n",
    "        gridcolor='rgb(255, 255, 255)',\n",
    "        zerolinewidth=1,\n",
    "        ticklen=5,\n",
    "        gridwidth=2,\n",
    "        titlefont=dict(size=15)),\n",
    "    xaxis=dict(title=\"Artist Name\"))\n",
    "\n",
    "\n",
    "fig = go.Figure(data=[go.Bar(x=most_played_artists_by_count.index,\n",
    "                             y=most_played_artists_by_count,\n",
    "                             textposition='auto',\n",
    "                             opacity=1,\n",
    "                             marker_color=colors)])\n",
    "fig.show()"
   ]
  },
  {
   "cell_type": "markdown",
   "metadata": {},
   "source": [
    "Top Streamed Artists"
   ]
  },
  {
   "cell_type": "code",
   "execution_count": 50,
   "metadata": {},
   "outputs": [
    {
     "data": {
      "text/plain": [
       "50229.45895"
      ]
     },
     "execution_count": 50,
     "metadata": {},
     "output_type": "execute_result"
    }
   ],
   "source": [
    "sum(quarantine['ms_played'])/60000"
   ]
  },
  {
   "cell_type": "code",
   "execution_count": 51,
   "metadata": {},
   "outputs": [],
   "source": [
    "quarantine_music = quarantine[quarantine.Type.isin(['Music'])]"
   ]
  },
  {
   "cell_type": "code",
   "execution_count": 52,
   "metadata": {},
   "outputs": [],
   "source": [
    "artists = quarantine_music.groupby(['artist_name'], as_index=False)['ms_played'].agg(sum).\\\n",
    "sort_values(by=['ms_played'], ascending=False).head(10)"
   ]
  },
  {
   "cell_type": "code",
   "execution_count": 53,
   "metadata": {},
   "outputs": [
    {
     "data": {
      "text/plain": [
       "[Text(0, 0, 'Drake'),\n",
       " Text(0, 0, 'UMI'),\n",
       " Text(0, 0, 'Jhené Aiko'),\n",
       " Text(0, 0, 'The Weeknd'),\n",
       " Text(0, 0, 'Travis Scott'),\n",
       " Text(0, 0, 'Sushant KC'),\n",
       " Text(0, 0, 'Young Thug'),\n",
       " Text(0, 0, 'Don Toliver'),\n",
       " Text(0, 0, 'Summer Walker'),\n",
       " Text(0, 0, 'SAINt JHN')]"
      ]
     },
     "execution_count": 53,
     "metadata": {},
     "output_type": "execute_result"
    },
    {
     "data": {
      "image/png": "[encoded data removed]",
      "text/plain": [
       "<Figure size 1152x720 with 1 Axes>"
      ]
     },
     "metadata": {},
     "output_type": "display_data"
    }
   ],
   "source": [
    "import seaborn as sns \n",
    "sns.set(rc={'figure.figsize':(16,10)})\n",
    "sns.set(style=\"whitegrid\")\n",
    "sns.set(font_scale=1.5) \n",
    "g = sns.barplot(x=\"artist_name\", y=\"ms_played\", data=artists)\n",
    "g.set_title('Top Streamed Artists')\n",
    "g.set_xticklabels(g.get_xticklabels(),rotation=30)"
   ]
  },
  {
   "cell_type": "markdown",
   "metadata": {},
   "source": [
    "Top Artist "
   ]
  },
  {
   "cell_type": "code",
   "execution_count": 54,
   "metadata": {},
   "outputs": [
    {
     "data": {
      "text/html": [
       "<div>\n",
       "<style scoped>\n",
       "    .dataframe tbody tr th:only-of-type {\n",
       "        vertical-align: middle;\n",
       "    }\n",
       "\n",
       "    .dataframe tbody tr th {\n",
       "        vertical-align: top;\n",
       "    }\n",
       "\n",
       "    .dataframe thead th {\n",
       "        text-align: right;\n",
       "    }\n",
       "</style>\n",
       "<table border=\"1\" class=\"dataframe\">\n",
       "  <thead>\n",
       "    <tr style=\"text-align: right;\">\n",
       "      <th></th>\n",
       "      <th>artist_name</th>\n",
       "      <th>track_name</th>\n",
       "      <th>minutes_played</th>\n",
       "    </tr>\n",
       "  </thead>\n",
       "  <tbody>\n",
       "    <tr>\n",
       "      <th>0</th>\n",
       "      <td>Alessia Cara</td>\n",
       "      <td>Out Of Love</td>\n",
       "      <td>0.048700</td>\n",
       "    </tr>\n",
       "    <tr>\n",
       "      <th>1</th>\n",
       "      <td>rum.gold</td>\n",
       "      <td>Save You</td>\n",
       "      <td>1.878750</td>\n",
       "    </tr>\n",
       "    <tr>\n",
       "      <th>2</th>\n",
       "      <td>Lewis Capaldi</td>\n",
       "      <td>Bruises</td>\n",
       "      <td>0.099033</td>\n",
       "    </tr>\n",
       "    <tr>\n",
       "      <th>3</th>\n",
       "      <td>XXXTENTACION</td>\n",
       "      <td>Everybody Dies In Their Nightmares</td>\n",
       "      <td>1.591100</td>\n",
       "    </tr>\n",
       "    <tr>\n",
       "      <th>4</th>\n",
       "      <td>Calum Scott</td>\n",
       "      <td>Dancing On My Own</td>\n",
       "      <td>0.010300</td>\n",
       "    </tr>\n",
       "  </tbody>\n",
       "</table>\n",
       "</div>"
      ],
      "text/plain": [
       "     artist_name                          track_name  minutes_played\n",
       "0   Alessia Cara                         Out Of Love        0.048700\n",
       "1       rum.gold                            Save You        1.878750\n",
       "2  Lewis Capaldi                             Bruises        0.099033\n",
       "3   XXXTENTACION  Everybody Dies In Their Nightmares        1.591100\n",
       "4    Calum Scott                   Dancing On My Own        0.010300"
      ]
     },
     "execution_count": 54,
     "metadata": {},
     "output_type": "execute_result"
    }
   ],
   "source": [
    "artist = streamingHistory0.append(streamingHistory1).append(streamingHistory2)\n",
    "artist['minutes_played'] = artist.ms_played.divide(60000)\n",
    "artist.drop('ms_played', axis=1, inplace=True)\n",
    "artist.drop('end_time', axis=1, inplace=True)\n",
    "\n",
    "artist.head()"
   ]
  },
  {
   "cell_type": "code",
   "execution_count": 55,
   "metadata": {},
   "outputs": [
    {
     "name": "stderr",
     "output_type": "stream",
     "text": [
      "/opt/anaconda3/lib/python3.8/site-packages/pandas/core/frame.py:3990: SettingWithCopyWarning:\n",
      "\n",
      "\n",
      "A value is trying to be set on a copy of a slice from a DataFrame\n",
      "\n",
      "See the caveats in the documentation: https://pandas.pydata.org/pandas-docs/stable/user_guide/indexing.html#returning-a-view-versus-a-copy\n",
      "\n"
     ]
    },
    {
     "data": {
      "text/html": [
       "<div>\n",
       "<style scoped>\n",
       "    .dataframe tbody tr th:only-of-type {\n",
       "        vertical-align: middle;\n",
       "    }\n",
       "\n",
       "    .dataframe tbody tr th {\n",
       "        vertical-align: top;\n",
       "    }\n",
       "\n",
       "    .dataframe thead th {\n",
       "        text-align: right;\n",
       "    }\n",
       "</style>\n",
       "<table border=\"1\" class=\"dataframe\">\n",
       "  <thead>\n",
       "    <tr style=\"text-align: right;\">\n",
       "      <th></th>\n",
       "      <th>artist_name</th>\n",
       "      <th>track_name</th>\n",
       "    </tr>\n",
       "  </thead>\n",
       "  <tbody>\n",
       "    <tr>\n",
       "      <th>0</th>\n",
       "      <td>Alessia Cara</td>\n",
       "      <td>Out Of Love</td>\n",
       "    </tr>\n",
       "    <tr>\n",
       "      <th>1</th>\n",
       "      <td>rum.gold</td>\n",
       "      <td>Save You</td>\n",
       "    </tr>\n",
       "    <tr>\n",
       "      <th>2</th>\n",
       "      <td>Lewis Capaldi</td>\n",
       "      <td>Bruises</td>\n",
       "    </tr>\n",
       "    <tr>\n",
       "      <th>3</th>\n",
       "      <td>XXXTENTACION</td>\n",
       "      <td>Everybody Dies In Their Nightmares</td>\n",
       "    </tr>\n",
       "    <tr>\n",
       "      <th>4</th>\n",
       "      <td>Calum Scott</td>\n",
       "      <td>Dancing On My Own</td>\n",
       "    </tr>\n",
       "    <tr>\n",
       "      <th>...</th>\n",
       "      <td>...</td>\n",
       "      <td>...</td>\n",
       "    </tr>\n",
       "    <tr>\n",
       "      <th>6434</th>\n",
       "      <td>Curren$y</td>\n",
       "      <td>The Count (feat. Wiz Khalifa)</td>\n",
       "    </tr>\n",
       "    <tr>\n",
       "      <th>6588</th>\n",
       "      <td>Coi Leray</td>\n",
       "      <td>Slide (with Gunna)</td>\n",
       "    </tr>\n",
       "    <tr>\n",
       "      <th>6589</th>\n",
       "      <td>Coi Leray</td>\n",
       "      <td>I Like It (feat. Kiana Lede &amp; Sevyn Streeter)</td>\n",
       "    </tr>\n",
       "    <tr>\n",
       "      <th>6696</th>\n",
       "      <td>D-Block Europe</td>\n",
       "      <td>Ferrari Horses</td>\n",
       "    </tr>\n",
       "    <tr>\n",
       "      <th>6697</th>\n",
       "      <td>Ghost Killer Track</td>\n",
       "      <td>Tonight (feat. D-Block Europe &amp; OBOY)</td>\n",
       "    </tr>\n",
       "  </tbody>\n",
       "</table>\n",
       "<p>5839 rows × 2 columns</p>\n",
       "</div>"
      ],
      "text/plain": [
       "             artist_name                                     track_name\n",
       "0           Alessia Cara                                    Out Of Love\n",
       "1               rum.gold                                       Save You\n",
       "2          Lewis Capaldi                                        Bruises\n",
       "3           XXXTENTACION             Everybody Dies In Their Nightmares\n",
       "4            Calum Scott                              Dancing On My Own\n",
       "...                  ...                                            ...\n",
       "6434            Curren$y                  The Count (feat. Wiz Khalifa)\n",
       "6588           Coi Leray                             Slide (with Gunna)\n",
       "6589           Coi Leray  I Like It (feat. Kiana Lede & Sevyn Streeter)\n",
       "6696      D-Block Europe                                 Ferrari Horses\n",
       "6697  Ghost Killer Track          Tonight (feat. D-Block Europe & OBOY)\n",
       "\n",
       "[5839 rows x 2 columns]"
      ]
     },
     "execution_count": 55,
     "metadata": {},
     "output_type": "execute_result"
    }
   ],
   "source": [
    "artist_1 = artist.drop_duplicates(subset = [\"track_name\"])\n",
    "artist_1.drop('minutes_played', axis=1, inplace=True)\n",
    "artist_1"
   ]
  },
  {
   "cell_type": "code",
   "execution_count": 56,
   "metadata": {},
   "outputs": [
    {
     "data": {
      "text/html": [
       "<div>\n",
       "<style scoped>\n",
       "    .dataframe tbody tr th:only-of-type {\n",
       "        vertical-align: middle;\n",
       "    }\n",
       "\n",
       "    .dataframe tbody tr th {\n",
       "        vertical-align: top;\n",
       "    }\n",
       "\n",
       "    .dataframe thead th {\n",
       "        text-align: right;\n",
       "    }\n",
       "</style>\n",
       "<table border=\"1\" class=\"dataframe\">\n",
       "  <thead>\n",
       "    <tr style=\"text-align: right;\">\n",
       "      <th></th>\n",
       "      <th>artist_name</th>\n",
       "      <th>track_name</th>\n",
       "    </tr>\n",
       "  </thead>\n",
       "  <tbody>\n",
       "    <tr>\n",
       "      <th>0</th>\n",
       "      <td>$NOT</td>\n",
       "      <td>3</td>\n",
       "    </tr>\n",
       "    <tr>\n",
       "      <th>1</th>\n",
       "      <td>$teven Cannon</td>\n",
       "      <td>1</td>\n",
       "    </tr>\n",
       "    <tr>\n",
       "      <th>2</th>\n",
       "      <td>$uicideboy$</td>\n",
       "      <td>4</td>\n",
       "    </tr>\n",
       "    <tr>\n",
       "      <th>3</th>\n",
       "      <td>03 Greedo</td>\n",
       "      <td>4</td>\n",
       "    </tr>\n",
       "    <tr>\n",
       "      <th>4</th>\n",
       "      <td>070 Shake</td>\n",
       "      <td>1</td>\n",
       "    </tr>\n",
       "    <tr>\n",
       "      <th>...</th>\n",
       "      <td>...</td>\n",
       "      <td>...</td>\n",
       "    </tr>\n",
       "    <tr>\n",
       "      <th>1461</th>\n",
       "      <td>will hyde</td>\n",
       "      <td>1</td>\n",
       "    </tr>\n",
       "    <tr>\n",
       "      <th>1462</th>\n",
       "      <td>will.i.am</td>\n",
       "      <td>1</td>\n",
       "    </tr>\n",
       "    <tr>\n",
       "      <th>1463</th>\n",
       "      <td>young lama</td>\n",
       "      <td>1</td>\n",
       "    </tr>\n",
       "    <tr>\n",
       "      <th>1464</th>\n",
       "      <td>zenorachi</td>\n",
       "      <td>2</td>\n",
       "    </tr>\n",
       "    <tr>\n",
       "      <th>1465</th>\n",
       "      <td>Édith Piaf</td>\n",
       "      <td>1</td>\n",
       "    </tr>\n",
       "  </tbody>\n",
       "</table>\n",
       "<p>1466 rows × 2 columns</p>\n",
       "</div>"
      ],
      "text/plain": [
       "        artist_name  track_name\n",
       "0              $NOT           3\n",
       "1     $teven Cannon           1\n",
       "2       $uicideboy$           4\n",
       "3         03 Greedo           4\n",
       "4         070 Shake           1\n",
       "...             ...         ...\n",
       "1461      will hyde           1\n",
       "1462      will.i.am           1\n",
       "1463     young lama           1\n",
       "1464      zenorachi           2\n",
       "1465     Édith Piaf           1\n",
       "\n",
       "[1466 rows x 2 columns]"
      ]
     },
     "execution_count": 56,
     "metadata": {},
     "output_type": "execute_result"
    }
   ],
   "source": [
    "artist_1 = artist_1.groupby(['artist_name'], as_index = False).count()\n",
    "\n",
    "artist_1"
   ]
  },
  {
   "cell_type": "code",
   "execution_count": 57,
   "metadata": {},
   "outputs": [
    {
     "data": {
      "text/html": [
       "<div>\n",
       "<style scoped>\n",
       "    .dataframe tbody tr th:only-of-type {\n",
       "        vertical-align: middle;\n",
       "    }\n",
       "\n",
       "    .dataframe tbody tr th {\n",
       "        vertical-align: top;\n",
       "    }\n",
       "\n",
       "    .dataframe thead th {\n",
       "        text-align: right;\n",
       "    }\n",
       "</style>\n",
       "<table border=\"1\" class=\"dataframe\">\n",
       "  <thead>\n",
       "    <tr style=\"text-align: right;\">\n",
       "      <th></th>\n",
       "      <th>artist_name</th>\n",
       "      <th>unique_songs</th>\n",
       "    </tr>\n",
       "  </thead>\n",
       "  <tbody>\n",
       "    <tr>\n",
       "      <th>0</th>\n",
       "      <td>$NOT</td>\n",
       "      <td>3</td>\n",
       "    </tr>\n",
       "    <tr>\n",
       "      <th>1</th>\n",
       "      <td>$teven Cannon</td>\n",
       "      <td>1</td>\n",
       "    </tr>\n",
       "    <tr>\n",
       "      <th>2</th>\n",
       "      <td>$uicideboy$</td>\n",
       "      <td>4</td>\n",
       "    </tr>\n",
       "    <tr>\n",
       "      <th>3</th>\n",
       "      <td>03 Greedo</td>\n",
       "      <td>4</td>\n",
       "    </tr>\n",
       "    <tr>\n",
       "      <th>4</th>\n",
       "      <td>070 Shake</td>\n",
       "      <td>1</td>\n",
       "    </tr>\n",
       "  </tbody>\n",
       "</table>\n",
       "</div>"
      ],
      "text/plain": [
       "     artist_name  unique_songs\n",
       "0           $NOT             3\n",
       "1  $teven Cannon             1\n",
       "2    $uicideboy$             4\n",
       "3      03 Greedo             4\n",
       "4      070 Shake             1"
      ]
     },
     "execution_count": 57,
     "metadata": {},
     "output_type": "execute_result"
    }
   ],
   "source": [
    "artist_1 = artist_1.rename(columns={\"track_name\": \"unique_songs\"})\n",
    "artist_1.head()"
   ]
  },
  {
   "cell_type": "code",
   "execution_count": 58,
   "metadata": {},
   "outputs": [
    {
     "data": {
      "text/html": [
       "<div>\n",
       "<style scoped>\n",
       "    .dataframe tbody tr th:only-of-type {\n",
       "        vertical-align: middle;\n",
       "    }\n",
       "\n",
       "    .dataframe tbody tr th {\n",
       "        vertical-align: top;\n",
       "    }\n",
       "\n",
       "    .dataframe thead th {\n",
       "        text-align: right;\n",
       "    }\n",
       "</style>\n",
       "<table border=\"1\" class=\"dataframe\">\n",
       "  <thead>\n",
       "    <tr style=\"text-align: right;\">\n",
       "      <th></th>\n",
       "      <th>artist_name</th>\n",
       "      <th>minutes_played</th>\n",
       "    </tr>\n",
       "  </thead>\n",
       "  <tbody>\n",
       "    <tr>\n",
       "      <th>0</th>\n",
       "      <td>$NOT</td>\n",
       "      <td>14.770700</td>\n",
       "    </tr>\n",
       "    <tr>\n",
       "      <th>1</th>\n",
       "      <td>$teven Cannon</td>\n",
       "      <td>3.151233</td>\n",
       "    </tr>\n",
       "    <tr>\n",
       "      <th>2</th>\n",
       "      <td>$uicideboy$</td>\n",
       "      <td>0.857233</td>\n",
       "    </tr>\n",
       "    <tr>\n",
       "      <th>3</th>\n",
       "      <td>03 Greedo</td>\n",
       "      <td>15.945000</td>\n",
       "    </tr>\n",
       "    <tr>\n",
       "      <th>4</th>\n",
       "      <td>070 Shake</td>\n",
       "      <td>3.586833</td>\n",
       "    </tr>\n",
       "  </tbody>\n",
       "</table>\n",
       "</div>"
      ],
      "text/plain": [
       "     artist_name  minutes_played\n",
       "0           $NOT       14.770700\n",
       "1  $teven Cannon        3.151233\n",
       "2    $uicideboy$        0.857233\n",
       "3      03 Greedo       15.945000\n",
       "4      070 Shake        3.586833"
      ]
     },
     "execution_count": 58,
     "metadata": {},
     "output_type": "execute_result"
    }
   ],
   "source": [
    "time = artist.groupby(['artist_name'], as_index=False).sum()\n",
    "\n",
    "time.head()"
   ]
  },
  {
   "cell_type": "markdown",
   "metadata": {},
   "source": [
    "Top 10 Artist based on Unique Songs "
   ]
  },
  {
   "cell_type": "code",
   "execution_count": 59,
   "metadata": {},
   "outputs": [
    {
     "data": {
      "text/html": [
       "<div>\n",
       "<style scoped>\n",
       "    .dataframe tbody tr th:only-of-type {\n",
       "        vertical-align: middle;\n",
       "    }\n",
       "\n",
       "    .dataframe tbody tr th {\n",
       "        vertical-align: top;\n",
       "    }\n",
       "\n",
       "    .dataframe thead th {\n",
       "        text-align: right;\n",
       "    }\n",
       "</style>\n",
       "<table border=\"1\" class=\"dataframe\">\n",
       "  <thead>\n",
       "    <tr style=\"text-align: right;\">\n",
       "      <th></th>\n",
       "      <th>artist_name</th>\n",
       "      <th>unique_songs</th>\n",
       "      <th>minutes_played</th>\n",
       "    </tr>\n",
       "  </thead>\n",
       "  <tbody>\n",
       "    <tr>\n",
       "      <th>391</th>\n",
       "      <td>Drake</td>\n",
       "      <td>160</td>\n",
       "      <td>2925.390167</td>\n",
       "    </tr>\n",
       "    <tr>\n",
       "      <th>475</th>\n",
       "      <td>Future</td>\n",
       "      <td>80</td>\n",
       "      <td>519.657750</td>\n",
       "    </tr>\n",
       "    <tr>\n",
       "      <th>1289</th>\n",
       "      <td>The Weeknd</td>\n",
       "      <td>75</td>\n",
       "      <td>983.892767</td>\n",
       "    </tr>\n",
       "    <tr>\n",
       "      <th>890</th>\n",
       "      <td>NAV</td>\n",
       "      <td>67</td>\n",
       "      <td>388.434050</td>\n",
       "    </tr>\n",
       "    <tr>\n",
       "      <th>1005</th>\n",
       "      <td>Pop Smoke</td>\n",
       "      <td>64</td>\n",
       "      <td>1054.344450</td>\n",
       "    </tr>\n",
       "    <tr>\n",
       "      <th>12</th>\n",
       "      <td>21 Savage</td>\n",
       "      <td>64</td>\n",
       "      <td>162.901417</td>\n",
       "    </tr>\n",
       "    <tr>\n",
       "      <th>739</th>\n",
       "      <td>Lana Del Rey</td>\n",
       "      <td>63</td>\n",
       "      <td>433.674817</td>\n",
       "    </tr>\n",
       "    <tr>\n",
       "      <th>768</th>\n",
       "      <td>Lil Uzi Vert</td>\n",
       "      <td>63</td>\n",
       "      <td>267.742200</td>\n",
       "    </tr>\n",
       "    <tr>\n",
       "      <th>622</th>\n",
       "      <td>Jhené Aiko</td>\n",
       "      <td>57</td>\n",
       "      <td>1289.407400</td>\n",
       "    </tr>\n",
       "    <tr>\n",
       "      <th>1325</th>\n",
       "      <td>Travis Scott</td>\n",
       "      <td>54</td>\n",
       "      <td>925.225517</td>\n",
       "    </tr>\n",
       "  </tbody>\n",
       "</table>\n",
       "</div>"
      ],
      "text/plain": [
       "       artist_name  unique_songs  minutes_played\n",
       "391          Drake           160     2925.390167\n",
       "475         Future            80      519.657750\n",
       "1289    The Weeknd            75      983.892767\n",
       "890            NAV            67      388.434050\n",
       "1005     Pop Smoke            64     1054.344450\n",
       "12       21 Savage            64      162.901417\n",
       "739   Lana Del Rey            63      433.674817\n",
       "768   Lil Uzi Vert            63      267.742200\n",
       "622     Jhené Aiko            57     1289.407400\n",
       "1325  Travis Scott            54      925.225517"
      ]
     },
     "execution_count": 59,
     "metadata": {},
     "output_type": "execute_result"
    }
   ],
   "source": [
    "\n",
    "\n",
    "top_artist = pd.merge(artist_1, time, on='artist_name')\n",
    "top_artist = top_artist.sort_values(by='unique_songs', ascending=False).head(10)\n",
    "top_artist"
   ]
  },
  {
   "cell_type": "code",
   "execution_count": 60,
   "metadata": {},
   "outputs": [
    {
     "data": {
      "application/vnd.plotly.v1+json": {
       "config": {
        "plotlyServerURL": "https://plot.ly"
       },
       "data": [
        {
         "hovertemplate": "artist_name=%{x}<br>minutes_played=%{y}<br>unique_songs=%{marker.size}<extra></extra>",
         "legendgroup": "",
         "marker": {
          "color": "rgb(103,0,31)",
          "size": [
           160,
           80,
           75,
           67,
           64,
           64,
           63,
           63,
           57,
           54
          ],
          "sizemode": "area",
          "sizeref": 0.4,
          "symbol": "circle"
         },
         "mode": "markers",
         "name": "",
         "orientation": "v",
         "showlegend": false,
         "type": "scatter",
         "x": [
          "Drake",
          "Future",
          "The Weeknd",
          "NAV",
          "Pop Smoke",
          "21 Savage",
          "Lana Del Rey",
          "Lil Uzi Vert",
          "Jhené Aiko",
          "Travis Scott"
         ],
         "xaxis": "x",
         "y": [
          2925.390166666669,
          519.6577500000002,
          983.8927666666663,
          388.43404999999996,
          1054.34445,
          162.90141666666665,
          433.674816666667,
          267.7422,
          1289.407399999998,
          925.2255166666656
         ],
         "yaxis": "y"
        }
       ],
       "layout": {
        "legend": {
         "itemsizing": "constant",
         "tracegroupgap": 0
        },
        "template": {
         "data": {
          "bar": [
           {
            "error_x": {
             "color": "#2a3f5f"
            },
            "error_y": {
             "color": "#2a3f5f"
            },
            "marker": {
             "line": {
              "color": "#E5ECF6",
              "width": 0.5
             }
            },
            "type": "bar"
           }
          ],
          "barpolar": [
           {
            "marker": {
             "line": {
              "color": "#E5ECF6",
              "width": 0.5
             }
            },
            "type": "barpolar"
           }
          ],
          "carpet": [
           {
            "aaxis": {
             "endlinecolor": "#2a3f5f",
             "gridcolor": "white",
             "linecolor": "white",
             "minorgridcolor": "white",
             "startlinecolor": "#2a3f5f"
            },
            "baxis": {
             "endlinecolor": "#2a3f5f",
             "gridcolor": "white",
             "linecolor": "white",
             "minorgridcolor": "white",
             "startlinecolor": "#2a3f5f"
            },
            "type": "carpet"
           }
          ],
          "choropleth": [
           {
            "colorbar": {
             "outlinewidth": 0,
             "ticks": ""
            },
            "type": "choropleth"
           }
          ],
          "contour": [
           {
            "colorbar": {
             "outlinewidth": 0,
             "ticks": ""
            },
            "colorscale": [
             [
              0,
              "#0d0887"
             ],
             [
              0.1111111111111111,
              "#46039f"
             ],
             [
              0.2222222222222222,
              "#7201a8"
             ],
             [
              0.3333333333333333,
              "#9c179e"
             ],
             [
              0.4444444444444444,
              "#bd3786"
             ],
             [
              0.5555555555555556,
              "#d8576b"
             ],
             [
              0.6666666666666666,
              "#ed7953"
             ],
             [
              0.7777777777777778,
              "#fb9f3a"
             ],
             [
              0.8888888888888888,
              "#fdca26"
             ],
             [
              1,
              "#f0f921"
             ]
            ],
            "type": "contour"
           }
          ],
          "contourcarpet": [
           {
            "colorbar": {
             "outlinewidth": 0,
             "ticks": ""
            },
            "type": "contourcarpet"
           }
          ],
          "heatmap": [
           {
            "colorbar": {
             "outlinewidth": 0,
             "ticks": ""
            },
            "colorscale": [
             [
              0,
              "#0d0887"
             ],
             [
              0.1111111111111111,
              "#46039f"
             ],
             [
              0.2222222222222222,
              "#7201a8"
             ],
             [
              0.3333333333333333,
              "#9c179e"
             ],
             [
              0.4444444444444444,
              "#bd3786"
             ],
             [
              0.5555555555555556,
              "#d8576b"
             ],
             [
              0.6666666666666666,
              "#ed7953"
             ],
             [
              0.7777777777777778,
              "#fb9f3a"
             ],
             [
              0.8888888888888888,
              "#fdca26"
             ],
             [
              1,
              "#f0f921"
             ]
            ],
            "type": "heatmap"
           }
          ],
          "heatmapgl": [
           {
            "colorbar": {
             "outlinewidth": 0,
             "ticks": ""
            },
            "colorscale": [
             [
              0,
              "#0d0887"
             ],
             [
              0.1111111111111111,
              "#46039f"
             ],
             [
              0.2222222222222222,
              "#7201a8"
             ],
             [
              0.3333333333333333,
              "#9c179e"
             ],
             [
              0.4444444444444444,
              "#bd3786"
             ],
             [
              0.5555555555555556,
              "#d8576b"
             ],
             [
              0.6666666666666666,
              "#ed7953"
             ],
             [
              0.7777777777777778,
              "#fb9f3a"
             ],
             [
              0.8888888888888888,
              "#fdca26"
             ],
             [
              1,
              "#f0f921"
             ]
            ],
            "type": "heatmapgl"
           }
          ],
          "histogram": [
           {
            "marker": {
             "colorbar": {
              "outlinewidth": 0,
              "ticks": ""
             }
            },
            "type": "histogram"
           }
          ],
          "histogram2d": [
           {
            "colorbar": {
             "outlinewidth": 0,
             "ticks": ""
            },
            "colorscale": [
             [
              0,
              "#0d0887"
             ],
             [
              0.1111111111111111,
              "#46039f"
             ],
             [
              0.2222222222222222,
              "#7201a8"
             ],
             [
              0.3333333333333333,
              "#9c179e"
             ],
             [
              0.4444444444444444,
              "#bd3786"
             ],
             [
              0.5555555555555556,
              "#d8576b"
             ],
             [
              0.6666666666666666,
              "#ed7953"
             ],
             [
              0.7777777777777778,
              "#fb9f3a"
             ],
             [
              0.8888888888888888,
              "#fdca26"
             ],
             [
              1,
              "#f0f921"
             ]
            ],
            "type": "histogram2d"
           }
          ],
          "histogram2dcontour": [
           {
            "colorbar": {
             "outlinewidth": 0,
             "ticks": ""
            },
            "colorscale": [
             [
              0,
              "#0d0887"
             ],
             [
              0.1111111111111111,
              "#46039f"
             ],
             [
              0.2222222222222222,
              "#7201a8"
             ],
             [
              0.3333333333333333,
              "#9c179e"
             ],
             [
              0.4444444444444444,
              "#bd3786"
             ],
             [
              0.5555555555555556,
              "#d8576b"
             ],
             [
              0.6666666666666666,
              "#ed7953"
             ],
             [
              0.7777777777777778,
              "#fb9f3a"
             ],
             [
              0.8888888888888888,
              "#fdca26"
             ],
             [
              1,
              "#f0f921"
             ]
            ],
            "type": "histogram2dcontour"
           }
          ],
          "mesh3d": [
           {
            "colorbar": {
             "outlinewidth": 0,
             "ticks": ""
            },
            "type": "mesh3d"
           }
          ],
          "parcoords": [
           {
            "line": {
             "colorbar": {
              "outlinewidth": 0,
              "ticks": ""
             }
            },
            "type": "parcoords"
           }
          ],
          "pie": [
           {
            "automargin": true,
            "type": "pie"
           }
          ],
          "scatter": [
           {
            "marker": {
             "colorbar": {
              "outlinewidth": 0,
              "ticks": ""
             }
            },
            "type": "scatter"
           }
          ],
          "scatter3d": [
           {
            "line": {
             "colorbar": {
              "outlinewidth": 0,
              "ticks": ""
             }
            },
            "marker": {
             "colorbar": {
              "outlinewidth": 0,
              "ticks": ""
             }
            },
            "type": "scatter3d"
           }
          ],
          "scattercarpet": [
           {
            "marker": {
             "colorbar": {
              "outlinewidth": 0,
              "ticks": ""
             }
            },
            "type": "scattercarpet"
           }
          ],
          "scattergeo": [
           {
            "marker": {
             "colorbar": {
              "outlinewidth": 0,
              "ticks": ""
             }
            },
            "type": "scattergeo"
           }
          ],
          "scattergl": [
           {
            "marker": {
             "colorbar": {
              "outlinewidth": 0,
              "ticks": ""
             }
            },
            "type": "scattergl"
           }
          ],
          "scattermapbox": [
           {
            "marker": {
             "colorbar": {
              "outlinewidth": 0,
              "ticks": ""
             }
            },
            "type": "scattermapbox"
           }
          ],
          "scatterpolar": [
           {
            "marker": {
             "colorbar": {
              "outlinewidth": 0,
              "ticks": ""
             }
            },
            "type": "scatterpolar"
           }
          ],
          "scatterpolargl": [
           {
            "marker": {
             "colorbar": {
              "outlinewidth": 0,
              "ticks": ""
             }
            },
            "type": "scatterpolargl"
           }
          ],
          "scatterternary": [
           {
            "marker": {
             "colorbar": {
              "outlinewidth": 0,
              "ticks": ""
             }
            },
            "type": "scatterternary"
           }
          ],
          "surface": [
           {
            "colorbar": {
             "outlinewidth": 0,
             "ticks": ""
            },
            "colorscale": [
             [
              0,
              "#0d0887"
             ],
             [
              0.1111111111111111,
              "#46039f"
             ],
             [
              0.2222222222222222,
              "#7201a8"
             ],
             [
              0.3333333333333333,
              "#9c179e"
             ],
             [
              0.4444444444444444,
              "#bd3786"
             ],
             [
              0.5555555555555556,
              "#d8576b"
             ],
             [
              0.6666666666666666,
              "#ed7953"
             ],
             [
              0.7777777777777778,
              "#fb9f3a"
             ],
             [
              0.8888888888888888,
              "#fdca26"
             ],
             [
              1,
              "#f0f921"
             ]
            ],
            "type": "surface"
           }
          ],
          "table": [
           {
            "cells": {
             "fill": {
              "color": "#EBF0F8"
             },
             "line": {
              "color": "white"
             }
            },
            "header": {
             "fill": {
              "color": "#C8D4E3"
             },
             "line": {
              "color": "white"
             }
            },
            "type": "table"
           }
          ]
         },
         "layout": {
          "annotationdefaults": {
           "arrowcolor": "#2a3f5f",
           "arrowhead": 0,
           "arrowwidth": 1
          },
          "autotypenumbers": "strict",
          "coloraxis": {
           "colorbar": {
            "outlinewidth": 0,
            "ticks": ""
           }
          },
          "colorscale": {
           "diverging": [
            [
             0,
             "#8e0152"
            ],
            [
             0.1,
             "#c51b7d"
            ],
            [
             0.2,
             "#de77ae"
            ],
            [
             0.3,
             "#f1b6da"
            ],
            [
             0.4,
             "#fde0ef"
            ],
            [
             0.5,
             "#f7f7f7"
            ],
            [
             0.6,
             "#e6f5d0"
            ],
            [
             0.7,
             "#b8e186"
            ],
            [
             0.8,
             "#7fbc41"
            ],
            [
             0.9,
             "#4d9221"
            ],
            [
             1,
             "#276419"
            ]
           ],
           "sequential": [
            [
             0,
             "#0d0887"
            ],
            [
             0.1111111111111111,
             "#46039f"
            ],
            [
             0.2222222222222222,
             "#7201a8"
            ],
            [
             0.3333333333333333,
             "#9c179e"
            ],
            [
             0.4444444444444444,
             "#bd3786"
            ],
            [
             0.5555555555555556,
             "#d8576b"
            ],
            [
             0.6666666666666666,
             "#ed7953"
            ],
            [
             0.7777777777777778,
             "#fb9f3a"
            ],
            [
             0.8888888888888888,
             "#fdca26"
            ],
            [
             1,
             "#f0f921"
            ]
           ],
           "sequentialminus": [
            [
             0,
             "#0d0887"
            ],
            [
             0.1111111111111111,
             "#46039f"
            ],
            [
             0.2222222222222222,
             "#7201a8"
            ],
            [
             0.3333333333333333,
             "#9c179e"
            ],
            [
             0.4444444444444444,
             "#bd3786"
            ],
            [
             0.5555555555555556,
             "#d8576b"
            ],
            [
             0.6666666666666666,
             "#ed7953"
            ],
            [
             0.7777777777777778,
             "#fb9f3a"
            ],
            [
             0.8888888888888888,
             "#fdca26"
            ],
            [
             1,
             "#f0f921"
            ]
           ]
          },
          "colorway": [
           "#636efa",
           "#EF553B",
           "#00cc96",
           "#ab63fa",
           "#FFA15A",
           "#19d3f3",
           "#FF6692",
           "#B6E880",
           "#FF97FF",
           "#FECB52"
          ],
          "font": {
           "color": "#2a3f5f"
          },
          "geo": {
           "bgcolor": "white",
           "lakecolor": "white",
           "landcolor": "#E5ECF6",
           "showlakes": true,
           "showland": true,
           "subunitcolor": "white"
          },
          "hoverlabel": {
           "align": "left"
          },
          "hovermode": "closest",
          "mapbox": {
           "style": "light"
          },
          "paper_bgcolor": "white",
          "plot_bgcolor": "#E5ECF6",
          "polar": {
           "angularaxis": {
            "gridcolor": "white",
            "linecolor": "white",
            "ticks": ""
           },
           "bgcolor": "#E5ECF6",
           "radialaxis": {
            "gridcolor": "white",
            "linecolor": "white",
            "ticks": ""
           }
          },
          "scene": {
           "xaxis": {
            "backgroundcolor": "#E5ECF6",
            "gridcolor": "white",
            "gridwidth": 2,
            "linecolor": "white",
            "showbackground": true,
            "ticks": "",
            "zerolinecolor": "white"
           },
           "yaxis": {
            "backgroundcolor": "#E5ECF6",
            "gridcolor": "white",
            "gridwidth": 2,
            "linecolor": "white",
            "showbackground": true,
            "ticks": "",
            "zerolinecolor": "white"
           },
           "zaxis": {
            "backgroundcolor": "#E5ECF6",
            "gridcolor": "white",
            "gridwidth": 2,
            "linecolor": "white",
            "showbackground": true,
            "ticks": "",
            "zerolinecolor": "white"
           }
          },
          "shapedefaults": {
           "line": {
            "color": "#2a3f5f"
           }
          },
          "ternary": {
           "aaxis": {
            "gridcolor": "white",
            "linecolor": "white",
            "ticks": ""
           },
           "baxis": {
            "gridcolor": "white",
            "linecolor": "white",
            "ticks": ""
           },
           "bgcolor": "#E5ECF6",
           "caxis": {
            "gridcolor": "white",
            "linecolor": "white",
            "ticks": ""
           }
          },
          "title": {
           "x": 0.05
          },
          "xaxis": {
           "automargin": true,
           "gridcolor": "white",
           "linecolor": "white",
           "ticks": "",
           "title": {
            "standoff": 15
           },
           "zerolinecolor": "white",
           "zerolinewidth": 2
          },
          "yaxis": {
           "automargin": true,
           "gridcolor": "white",
           "linecolor": "white",
           "ticks": "",
           "title": {
            "standoff": 15
           },
           "zerolinecolor": "white",
           "zerolinewidth": 2
          }
         }
        },
        "title": {
         "text": "Top 10 of Most Played Artists by Songs"
        },
        "xaxis": {
         "anchor": "y",
         "domain": [
          0,
          1
         ],
         "title": {
          "text": "artist_name"
         }
        },
        "yaxis": {
         "anchor": "x",
         "domain": [
          0,
          1
         ],
         "title": {
          "text": "minutes_played"
         }
        }
       }
      },
      "text/html": [
       "<div>                            <div id=\"978af0b9-9765-4627-9ba7-f516d8c390f3\" class=\"plotly-graph-div\" style=\"height:525px; width:100%;\"></div>            <script type=\"text/javascript\">                require([\"plotly\"], function(Plotly) {                    window.PLOTLYENV=window.PLOTLYENV || {};                                    if (document.getElementById(\"978af0b9-9765-4627-9ba7-f516d8c390f3\")) {                    Plotly.newPlot(                        \"978af0b9-9765-4627-9ba7-f516d8c390f3\",                        [{\"hovertemplate\": \"artist_name=%{x}<br>minutes_played=%{y}<br>unique_songs=%{marker.size}<extra></extra>\", \"legendgroup\": \"\", \"marker\": {\"color\": \"rgb(103,0,31)\", \"size\": [160, 80, 75, 67, 64, 64, 63, 63, 57, 54], \"sizemode\": \"area\", \"sizeref\": 0.4, \"symbol\": \"circle\"}, \"mode\": \"markers\", \"name\": \"\", \"orientation\": \"v\", \"showlegend\": false, \"type\": \"scatter\", \"x\": [\"Drake\", \"Future\", \"The Weeknd\", \"NAV\", \"Pop Smoke\", \"21 Savage\", \"Lana Del Rey\", \"Lil Uzi Vert\", \"Jhen\\u00e9 Aiko\", \"Travis Scott\"], \"xaxis\": \"x\", \"y\": [2925.390166666669, 519.6577500000002, 983.8927666666663, 388.43404999999996, 1054.34445, 162.90141666666665, 433.674816666667, 267.7422, 1289.407399999998, 925.2255166666656], \"yaxis\": \"y\"}],                        {\"legend\": {\"itemsizing\": \"constant\", \"tracegroupgap\": 0}, \"template\": {\"data\": {\"bar\": [{\"error_x\": {\"color\": \"#2a3f5f\"}, \"error_y\": {\"color\": \"#2a3f5f\"}, \"marker\": {\"line\": {\"color\": \"#E5ECF6\", \"width\": 0.5}}, \"type\": \"bar\"}], \"barpolar\": [{\"marker\": {\"line\": {\"color\": \"#E5ECF6\", \"width\": 0.5}}, \"type\": \"barpolar\"}], \"carpet\": [{\"aaxis\": {\"endlinecolor\": \"#2a3f5f\", \"gridcolor\": \"white\", \"linecolor\": \"white\", \"minorgridcolor\": \"white\", \"startlinecolor\": \"#2a3f5f\"}, \"baxis\": {\"endlinecolor\": \"#2a3f5f\", \"gridcolor\": \"white\", \"linecolor\": \"white\", \"minorgridcolor\": \"white\", \"startlinecolor\": \"#2a3f5f\"}, \"type\": \"carpet\"}], \"choropleth\": [{\"colorbar\": {\"outlinewidth\": 0, \"ticks\": \"\"}, \"type\": \"choropleth\"}], \"contour\": [{\"colorbar\": {\"outlinewidth\": 0, \"ticks\": \"\"}, \"colorscale\": [[0.0, \"#0d0887\"], [0.1111111111111111, \"#46039f\"], [0.2222222222222222, \"#7201a8\"], [0.3333333333333333, \"#9c179e\"], [0.4444444444444444, \"#bd3786\"], [0.5555555555555556, \"#d8576b\"], [0.6666666666666666, \"#ed7953\"], [0.7777777777777778, \"#fb9f3a\"], [0.8888888888888888, \"#fdca26\"], [1.0, \"#f0f921\"]], \"type\": \"contour\"}], \"contourcarpet\": [{\"colorbar\": {\"outlinewidth\": 0, \"ticks\": \"\"}, \"type\": \"contourcarpet\"}], \"heatmap\": [{\"colorbar\": {\"outlinewidth\": 0, \"ticks\": \"\"}, \"colorscale\": [[0.0, \"#0d0887\"], [0.1111111111111111, \"#46039f\"], [0.2222222222222222, \"#7201a8\"], [0.3333333333333333, \"#9c179e\"], [0.4444444444444444, \"#bd3786\"], [0.5555555555555556, \"#d8576b\"], [0.6666666666666666, \"#ed7953\"], [0.7777777777777778, \"#fb9f3a\"], [0.8888888888888888, \"#fdca26\"], [1.0, \"#f0f921\"]], \"type\": \"heatmap\"}], \"heatmapgl\": [{\"colorbar\": {\"outlinewidth\": 0, \"ticks\": \"\"}, \"colorscale\": [[0.0, \"#0d0887\"], [0.1111111111111111, \"#46039f\"], [0.2222222222222222, \"#7201a8\"], [0.3333333333333333, \"#9c179e\"], [0.4444444444444444, \"#bd3786\"], [0.5555555555555556, \"#d8576b\"], [0.6666666666666666, \"#ed7953\"], [0.7777777777777778, \"#fb9f3a\"], [0.8888888888888888, \"#fdca26\"], [1.0, \"#f0f921\"]], \"type\": \"heatmapgl\"}], \"histogram\": [{\"marker\": {\"colorbar\": {\"outlinewidth\": 0, \"ticks\": \"\"}}, \"type\": \"histogram\"}], \"histogram2d\": [{\"colorbar\": {\"outlinewidth\": 0, \"ticks\": \"\"}, \"colorscale\": [[0.0, \"#0d0887\"], [0.1111111111111111, \"#46039f\"], [0.2222222222222222, \"#7201a8\"], [0.3333333333333333, \"#9c179e\"], [0.4444444444444444, \"#bd3786\"], [0.5555555555555556, \"#d8576b\"], [0.6666666666666666, \"#ed7953\"], [0.7777777777777778, \"#fb9f3a\"], [0.8888888888888888, \"#fdca26\"], [1.0, \"#f0f921\"]], \"type\": \"histogram2d\"}], \"histogram2dcontour\": [{\"colorbar\": {\"outlinewidth\": 0, \"ticks\": \"\"}, \"colorscale\": [[0.0, \"#0d0887\"], [0.1111111111111111, \"#46039f\"], [0.2222222222222222, \"#7201a8\"], [0.3333333333333333, \"#9c179e\"], [0.4444444444444444, \"#bd3786\"], [0.5555555555555556, \"#d8576b\"], [0.6666666666666666, \"#ed7953\"], [0.7777777777777778, \"#fb9f3a\"], [0.8888888888888888, \"#fdca26\"], [1.0, \"#f0f921\"]], \"type\": \"histogram2dcontour\"}], \"mesh3d\": [{\"colorbar\": {\"outlinewidth\": 0, \"ticks\": \"\"}, \"type\": \"mesh3d\"}], \"parcoords\": [{\"line\": {\"colorbar\": {\"outlinewidth\": 0, \"ticks\": \"\"}}, \"type\": \"parcoords\"}], \"pie\": [{\"automargin\": true, \"type\": \"pie\"}], \"scatter\": [{\"marker\": {\"colorbar\": {\"outlinewidth\": 0, \"ticks\": \"\"}}, \"type\": \"scatter\"}], \"scatter3d\": [{\"line\": {\"colorbar\": {\"outlinewidth\": 0, \"ticks\": \"\"}}, \"marker\": {\"colorbar\": {\"outlinewidth\": 0, \"ticks\": \"\"}}, \"type\": \"scatter3d\"}], \"scattercarpet\": [{\"marker\": {\"colorbar\": {\"outlinewidth\": 0, \"ticks\": \"\"}}, \"type\": \"scattercarpet\"}], \"scattergeo\": [{\"marker\": {\"colorbar\": {\"outlinewidth\": 0, \"ticks\": \"\"}}, \"type\": \"scattergeo\"}], \"scattergl\": [{\"marker\": {\"colorbar\": {\"outlinewidth\": 0, \"ticks\": \"\"}}, \"type\": \"scattergl\"}], \"scattermapbox\": [{\"marker\": {\"colorbar\": {\"outlinewidth\": 0, \"ticks\": \"\"}}, \"type\": \"scattermapbox\"}], \"scatterpolar\": [{\"marker\": {\"colorbar\": {\"outlinewidth\": 0, \"ticks\": \"\"}}, \"type\": \"scatterpolar\"}], \"scatterpolargl\": [{\"marker\": {\"colorbar\": {\"outlinewidth\": 0, \"ticks\": \"\"}}, \"type\": \"scatterpolargl\"}], \"scatterternary\": [{\"marker\": {\"colorbar\": {\"outlinewidth\": 0, \"ticks\": \"\"}}, \"type\": \"scatterternary\"}], \"surface\": [{\"colorbar\": {\"outlinewidth\": 0, \"ticks\": \"\"}, \"colorscale\": [[0.0, \"#0d0887\"], [0.1111111111111111, \"#46039f\"], [0.2222222222222222, \"#7201a8\"], [0.3333333333333333, \"#9c179e\"], [0.4444444444444444, \"#bd3786\"], [0.5555555555555556, \"#d8576b\"], [0.6666666666666666, \"#ed7953\"], [0.7777777777777778, \"#fb9f3a\"], [0.8888888888888888, \"#fdca26\"], [1.0, \"#f0f921\"]], \"type\": \"surface\"}], \"table\": [{\"cells\": {\"fill\": {\"color\": \"#EBF0F8\"}, \"line\": {\"color\": \"white\"}}, \"header\": {\"fill\": {\"color\": \"#C8D4E3\"}, \"line\": {\"color\": \"white\"}}, \"type\": \"table\"}]}, \"layout\": {\"annotationdefaults\": {\"arrowcolor\": \"#2a3f5f\", \"arrowhead\": 0, \"arrowwidth\": 1}, \"autotypenumbers\": \"strict\", \"coloraxis\": {\"colorbar\": {\"outlinewidth\": 0, \"ticks\": \"\"}}, \"colorscale\": {\"diverging\": [[0, \"#8e0152\"], [0.1, \"#c51b7d\"], [0.2, \"#de77ae\"], [0.3, \"#f1b6da\"], [0.4, \"#fde0ef\"], [0.5, \"#f7f7f7\"], [0.6, \"#e6f5d0\"], [0.7, \"#b8e186\"], [0.8, \"#7fbc41\"], [0.9, \"#4d9221\"], [1, \"#276419\"]], \"sequential\": [[0.0, \"#0d0887\"], [0.1111111111111111, \"#46039f\"], [0.2222222222222222, \"#7201a8\"], [0.3333333333333333, \"#9c179e\"], [0.4444444444444444, \"#bd3786\"], [0.5555555555555556, \"#d8576b\"], [0.6666666666666666, \"#ed7953\"], [0.7777777777777778, \"#fb9f3a\"], [0.8888888888888888, \"#fdca26\"], [1.0, \"#f0f921\"]], \"sequentialminus\": [[0.0, \"#0d0887\"], [0.1111111111111111, \"#46039f\"], [0.2222222222222222, \"#7201a8\"], [0.3333333333333333, \"#9c179e\"], [0.4444444444444444, \"#bd3786\"], [0.5555555555555556, \"#d8576b\"], [0.6666666666666666, \"#ed7953\"], [0.7777777777777778, \"#fb9f3a\"], [0.8888888888888888, \"#fdca26\"], [1.0, \"#f0f921\"]]}, \"colorway\": [\"#636efa\", \"#EF553B\", \"#00cc96\", \"#ab63fa\", \"#FFA15A\", \"#19d3f3\", \"#FF6692\", \"#B6E880\", \"#FF97FF\", \"#FECB52\"], \"font\": {\"color\": \"#2a3f5f\"}, \"geo\": {\"bgcolor\": \"white\", \"lakecolor\": \"white\", \"landcolor\": \"#E5ECF6\", \"showlakes\": true, \"showland\": true, \"subunitcolor\": \"white\"}, \"hoverlabel\": {\"align\": \"left\"}, \"hovermode\": \"closest\", \"mapbox\": {\"style\": \"light\"}, \"paper_bgcolor\": \"white\", \"plot_bgcolor\": \"#E5ECF6\", \"polar\": {\"angularaxis\": {\"gridcolor\": \"white\", \"linecolor\": \"white\", \"ticks\": \"\"}, \"bgcolor\": \"#E5ECF6\", \"radialaxis\": {\"gridcolor\": \"white\", \"linecolor\": \"white\", \"ticks\": \"\"}}, \"scene\": {\"xaxis\": {\"backgroundcolor\": \"#E5ECF6\", \"gridcolor\": \"white\", \"gridwidth\": 2, \"linecolor\": \"white\", \"showbackground\": true, \"ticks\": \"\", \"zerolinecolor\": \"white\"}, \"yaxis\": {\"backgroundcolor\": \"#E5ECF6\", \"gridcolor\": \"white\", \"gridwidth\": 2, \"linecolor\": \"white\", \"showbackground\": true, \"ticks\": \"\", \"zerolinecolor\": \"white\"}, \"zaxis\": {\"backgroundcolor\": \"#E5ECF6\", \"gridcolor\": \"white\", \"gridwidth\": 2, \"linecolor\": \"white\", \"showbackground\": true, \"ticks\": \"\", \"zerolinecolor\": \"white\"}}, \"shapedefaults\": {\"line\": {\"color\": \"#2a3f5f\"}}, \"ternary\": {\"aaxis\": {\"gridcolor\": \"white\", \"linecolor\": \"white\", \"ticks\": \"\"}, \"baxis\": {\"gridcolor\": \"white\", \"linecolor\": \"white\", \"ticks\": \"\"}, \"bgcolor\": \"#E5ECF6\", \"caxis\": {\"gridcolor\": \"white\", \"linecolor\": \"white\", \"ticks\": \"\"}}, \"title\": {\"x\": 0.05}, \"xaxis\": {\"automargin\": true, \"gridcolor\": \"white\", \"linecolor\": \"white\", \"ticks\": \"\", \"title\": {\"standoff\": 15}, \"zerolinecolor\": \"white\", \"zerolinewidth\": 2}, \"yaxis\": {\"automargin\": true, \"gridcolor\": \"white\", \"linecolor\": \"white\", \"ticks\": \"\", \"title\": {\"standoff\": 15}, \"zerolinecolor\": \"white\", \"zerolinewidth\": 2}}}, \"title\": {\"text\": \"Top 10 of Most Played Artists by Songs\"}, \"xaxis\": {\"anchor\": \"y\", \"domain\": [0.0, 1.0], \"title\": {\"text\": \"artist_name\"}}, \"yaxis\": {\"anchor\": \"x\", \"domain\": [0.0, 1.0], \"title\": {\"text\": \"minutes_played\"}}},                        {\"responsive\": true}                    ).then(function(){\n",
       "                            \n",
       "var gd = document.getElementById('978af0b9-9765-4627-9ba7-f516d8c390f3');\n",
       "var x = new MutationObserver(function (mutations, observer) {{\n",
       "        var display = window.getComputedStyle(gd).display;\n",
       "        if (!display || display === 'none') {{\n",
       "            console.log([gd, 'removed!']);\n",
       "            Plotly.purge(gd);\n",
       "            observer.disconnect();\n",
       "        }}\n",
       "}});\n",
       "\n",
       "// Listen for the removal of the full notebook cells\n",
       "var notebookContainer = gd.closest('#notebook-container');\n",
       "if (notebookContainer) {{\n",
       "    x.observe(notebookContainer, {childList: true});\n",
       "}}\n",
       "\n",
       "// Listen for the clearing of the current output cell\n",
       "var outputEl = gd.closest('.output');\n",
       "if (outputEl) {{\n",
       "    x.observe(outputEl, {childList: true});\n",
       "}}\n",
       "\n",
       "                        })                };                });            </script>        </div>"
      ]
     },
     "metadata": {},
     "output_type": "display_data"
    }
   ],
   "source": [
    " fig = px.scatter(top_artist, x=\"artist_name\", y=\"minutes_played\", title='Top 10 of Most Played Artists by Songs', size=\"unique_songs\", color_discrete_sequence=px.colors.sequential.RdBu)\n",
    "fig.show()"
   ]
  },
  {
   "cell_type": "markdown",
   "metadata": {},
   "source": [
    "Most listened to Song "
   ]
  },
  {
   "cell_type": "code",
   "execution_count": 75,
   "metadata": {},
   "outputs": [
    {
     "data": {
      "text/html": [
       "<div>\n",
       "<style scoped>\n",
       "    .dataframe tbody tr th:only-of-type {\n",
       "        vertical-align: middle;\n",
       "    }\n",
       "\n",
       "    .dataframe tbody tr th {\n",
       "        vertical-align: top;\n",
       "    }\n",
       "\n",
       "    .dataframe thead th {\n",
       "        text-align: right;\n",
       "    }\n",
       "</style>\n",
       "<table border=\"1\" class=\"dataframe\">\n",
       "  <thead>\n",
       "    <tr style=\"text-align: right;\">\n",
       "      <th></th>\n",
       "      <th>artist_name</th>\n",
       "      <th>track_name</th>\n",
       "      <th>end_time</th>\n",
       "      <th>minutes_played</th>\n",
       "    </tr>\n",
       "  </thead>\n",
       "  <tbody>\n",
       "    <tr>\n",
       "      <th>0</th>\n",
       "      <td>Alessia Cara</td>\n",
       "      <td>Out Of Love</td>\n",
       "      <td>2020-05-09 00:00</td>\n",
       "      <td>0.048700</td>\n",
       "    </tr>\n",
       "    <tr>\n",
       "      <th>1</th>\n",
       "      <td>rum.gold</td>\n",
       "      <td>Save You</td>\n",
       "      <td>2020-05-09 00:00</td>\n",
       "      <td>1.878750</td>\n",
       "    </tr>\n",
       "    <tr>\n",
       "      <th>2</th>\n",
       "      <td>Lewis Capaldi</td>\n",
       "      <td>Bruises</td>\n",
       "      <td>2020-05-09 00:02</td>\n",
       "      <td>0.099033</td>\n",
       "    </tr>\n",
       "    <tr>\n",
       "      <th>3</th>\n",
       "      <td>XXXTENTACION</td>\n",
       "      <td>Everybody Dies In Their Nightmares</td>\n",
       "      <td>2020-05-09 00:02</td>\n",
       "      <td>1.591100</td>\n",
       "    </tr>\n",
       "    <tr>\n",
       "      <th>4</th>\n",
       "      <td>Calum Scott</td>\n",
       "      <td>Dancing On My Own</td>\n",
       "      <td>2020-05-09 00:02</td>\n",
       "      <td>0.010300</td>\n",
       "    </tr>\n",
       "    <tr>\n",
       "      <th>...</th>\n",
       "      <td>...</td>\n",
       "      <td>...</td>\n",
       "      <td>...</td>\n",
       "      <td>...</td>\n",
       "    </tr>\n",
       "    <tr>\n",
       "      <th>6896</th>\n",
       "      <td>Sushant KC</td>\n",
       "      <td>Sathi</td>\n",
       "      <td>2021-05-09 22:48</td>\n",
       "      <td>3.584550</td>\n",
       "    </tr>\n",
       "    <tr>\n",
       "      <th>6897</th>\n",
       "      <td>Sushant KC</td>\n",
       "      <td>Satayera</td>\n",
       "      <td>2021-05-09 22:52</td>\n",
       "      <td>3.739933</td>\n",
       "    </tr>\n",
       "    <tr>\n",
       "      <th>6898</th>\n",
       "      <td>Sushant KC</td>\n",
       "      <td>Mausam</td>\n",
       "      <td>2021-05-09 22:55</td>\n",
       "      <td>3.324433</td>\n",
       "    </tr>\n",
       "    <tr>\n",
       "      <th>6899</th>\n",
       "      <td>Sushant KC</td>\n",
       "      <td>Satayera</td>\n",
       "      <td>2021-05-09 23:02</td>\n",
       "      <td>6.222767</td>\n",
       "    </tr>\n",
       "    <tr>\n",
       "      <th>6900</th>\n",
       "      <td>Sushant KC</td>\n",
       "      <td>Mausam</td>\n",
       "      <td>2021-05-09 23:04</td>\n",
       "      <td>2.692250</td>\n",
       "    </tr>\n",
       "  </tbody>\n",
       "</table>\n",
       "<p>26901 rows × 4 columns</p>\n",
       "</div>"
      ],
      "text/plain": [
       "        artist_name                          track_name          end_time  \\\n",
       "0      Alessia Cara                         Out Of Love  2020-05-09 00:00   \n",
       "1          rum.gold                            Save You  2020-05-09 00:00   \n",
       "2     Lewis Capaldi                             Bruises  2020-05-09 00:02   \n",
       "3      XXXTENTACION  Everybody Dies In Their Nightmares  2020-05-09 00:02   \n",
       "4       Calum Scott                   Dancing On My Own  2020-05-09 00:02   \n",
       "...             ...                                 ...               ...   \n",
       "6896     Sushant KC                               Sathi  2021-05-09 22:48   \n",
       "6897     Sushant KC                            Satayera  2021-05-09 22:52   \n",
       "6898     Sushant KC                              Mausam  2021-05-09 22:55   \n",
       "6899     Sushant KC                            Satayera  2021-05-09 23:02   \n",
       "6900     Sushant KC                              Mausam  2021-05-09 23:04   \n",
       "\n",
       "      minutes_played  \n",
       "0           0.048700  \n",
       "1           1.878750  \n",
       "2           0.099033  \n",
       "3           1.591100  \n",
       "4           0.010300  \n",
       "...              ...  \n",
       "6896        3.584550  \n",
       "6897        3.739933  \n",
       "6898        3.324433  \n",
       "6899        6.222767  \n",
       "6900        2.692250  \n",
       "\n",
       "[26901 rows x 4 columns]"
      ]
     },
     "execution_count": 75,
     "metadata": {},
     "output_type": "execute_result"
    }
   ],
   "source": [
    "\n",
    "song = streamingHistory0.append(streamingHistory1).append(streamingHistory2)\n",
    "song['minutes_played'] = song.ms_played.divide(60000)\n",
    "song.drop('ms_played', axis=1, inplace=True)\n",
    "song"
   ]
  },
  {
   "cell_type": "code",
   "execution_count": 62,
   "metadata": {},
   "outputs": [
    {
     "data": {
      "text/html": [
       "<div>\n",
       "<style scoped>\n",
       "    .dataframe tbody tr th:only-of-type {\n",
       "        vertical-align: middle;\n",
       "    }\n",
       "\n",
       "    .dataframe tbody tr th {\n",
       "        vertical-align: top;\n",
       "    }\n",
       "\n",
       "    .dataframe thead th {\n",
       "        text-align: right;\n",
       "    }\n",
       "</style>\n",
       "<table border=\"1\" class=\"dataframe\">\n",
       "  <thead>\n",
       "    <tr style=\"text-align: right;\">\n",
       "      <th></th>\n",
       "      <th>track_name</th>\n",
       "      <th>minutes_played</th>\n",
       "    </tr>\n",
       "  </thead>\n",
       "  <tbody>\n",
       "    <tr>\n",
       "      <th>1979</th>\n",
       "      <td>Good Days</td>\n",
       "      <td>309.695083</td>\n",
       "    </tr>\n",
       "    <tr>\n",
       "      <th>1932</th>\n",
       "      <td>Glock Six - Bonus</td>\n",
       "      <td>224.378750</td>\n",
       "    </tr>\n",
       "    <tr>\n",
       "      <th>5182</th>\n",
       "      <td>Trisha &amp; Ethan Do Oddly Satisfying Trends - Fr...</td>\n",
       "      <td>207.515317</td>\n",
       "    </tr>\n",
       "    <tr>\n",
       "      <th>2167</th>\n",
       "      <td>Headaches</td>\n",
       "      <td>201.739267</td>\n",
       "    </tr>\n",
       "    <tr>\n",
       "      <th>2545</th>\n",
       "      <td>Jake Paul, Wendy Williams, Bhad Bhabie &amp; Dr. P...</td>\n",
       "      <td>197.453467</td>\n",
       "    </tr>\n",
       "    <tr>\n",
       "      <th>...</th>\n",
       "      <td>...</td>\n",
       "      <td>...</td>\n",
       "    </tr>\n",
       "    <tr>\n",
       "      <th>3482</th>\n",
       "      <td>No cap 2</td>\n",
       "      <td>0.000000</td>\n",
       "    </tr>\n",
       "    <tr>\n",
       "      <th>1533</th>\n",
       "      <td>Enna Sona (From \"OK Jaanu\")</td>\n",
       "      <td>0.000000</td>\n",
       "    </tr>\n",
       "    <tr>\n",
       "      <th>1532</th>\n",
       "      <td>Enna Sona</td>\n",
       "      <td>0.000000</td>\n",
       "    </tr>\n",
       "    <tr>\n",
       "      <th>3516</th>\n",
       "      <td>Now &amp; Forever</td>\n",
       "      <td>0.000000</td>\n",
       "    </tr>\n",
       "    <tr>\n",
       "      <th>715</th>\n",
       "      <td>Black Joe Dirt</td>\n",
       "      <td>0.000000</td>\n",
       "    </tr>\n",
       "  </tbody>\n",
       "</table>\n",
       "<p>5839 rows × 2 columns</p>\n",
       "</div>"
      ],
      "text/plain": [
       "                                             track_name  minutes_played\n",
       "1979                                          Good Days      309.695083\n",
       "1932                                  Glock Six - Bonus      224.378750\n",
       "5182  Trisha & Ethan Do Oddly Satisfying Trends - Fr...      207.515317\n",
       "2167                                          Headaches      201.739267\n",
       "2545  Jake Paul, Wendy Williams, Bhad Bhabie & Dr. P...      197.453467\n",
       "...                                                 ...             ...\n",
       "3482                                           No cap 2        0.000000\n",
       "1533                        Enna Sona (From \"OK Jaanu\")        0.000000\n",
       "1532                                          Enna Sona        0.000000\n",
       "3516                                      Now & Forever        0.000000\n",
       "715                                      Black Joe Dirt        0.000000\n",
       "\n",
       "[5839 rows x 2 columns]"
      ]
     },
     "execution_count": 62,
     "metadata": {},
     "output_type": "execute_result"
    }
   ],
   "source": [
    "song = song.groupby(['track_name'], as_index=False).sum()\n",
    "song = song.sort_values(by='minutes_played', ascending=False)\n",
    "song"
   ]
  },
  {
   "cell_type": "code",
   "execution_count": 63,
   "metadata": {},
   "outputs": [
    {
     "data": {
      "text/html": [
       "<div>\n",
       "<style scoped>\n",
       "    .dataframe tbody tr th:only-of-type {\n",
       "        vertical-align: middle;\n",
       "    }\n",
       "\n",
       "    .dataframe tbody tr th {\n",
       "        vertical-align: top;\n",
       "    }\n",
       "\n",
       "    .dataframe thead th {\n",
       "        text-align: right;\n",
       "    }\n",
       "</style>\n",
       "<table border=\"1\" class=\"dataframe\">\n",
       "  <thead>\n",
       "    <tr style=\"text-align: right;\">\n",
       "      <th></th>\n",
       "      <th>artist_name</th>\n",
       "      <th>track_name</th>\n",
       "    </tr>\n",
       "  </thead>\n",
       "  <tbody>\n",
       "    <tr>\n",
       "      <th>1563</th>\n",
       "      <td>Raku-Nu</td>\n",
       "      <td>दुनिया के सपने</td>\n",
       "    </tr>\n",
       "    <tr>\n",
       "      <th>3504</th>\n",
       "      <td>Bad Bunny</td>\n",
       "      <td>¿Quien Tu Eres?</td>\n",
       "    </tr>\n",
       "    <tr>\n",
       "      <th>1183</th>\n",
       "      <td>Bad Bunny</td>\n",
       "      <td>¿Quien Tu Eres?</td>\n",
       "    </tr>\n",
       "    <tr>\n",
       "      <th>9519</th>\n",
       "      <td>Bad Bunny</td>\n",
       "      <td>¿Quien Tu Eres?</td>\n",
       "    </tr>\n",
       "    <tr>\n",
       "      <th>4962</th>\n",
       "      <td>Bad Bunny</td>\n",
       "      <td>¿Quien Tu Eres?</td>\n",
       "    </tr>\n",
       "    <tr>\n",
       "      <th>6693</th>\n",
       "      <td>Bad Bunny</td>\n",
       "      <td>¿Quien Tu Eres?</td>\n",
       "    </tr>\n",
       "    <tr>\n",
       "      <th>2061</th>\n",
       "      <td>Bad Bunny</td>\n",
       "      <td>¿Quien Tu Eres?</td>\n",
       "    </tr>\n",
       "    <tr>\n",
       "      <th>6249</th>\n",
       "      <td>Bad Bunny</td>\n",
       "      <td>¿Quien Tu Eres?</td>\n",
       "    </tr>\n",
       "    <tr>\n",
       "      <th>6065</th>\n",
       "      <td>Bad Bunny</td>\n",
       "      <td>¿Quien Tu Eres?</td>\n",
       "    </tr>\n",
       "    <tr>\n",
       "      <th>2124</th>\n",
       "      <td>Bad Bunny</td>\n",
       "      <td>¿Quien Tu Eres?</td>\n",
       "    </tr>\n",
       "  </tbody>\n",
       "</table>\n",
       "</div>"
      ],
      "text/plain": [
       "     artist_name       track_name\n",
       "1563     Raku-Nu   दुनिया के सपने\n",
       "3504   Bad Bunny  ¿Quien Tu Eres?\n",
       "1183   Bad Bunny  ¿Quien Tu Eres?\n",
       "9519   Bad Bunny  ¿Quien Tu Eres?\n",
       "4962   Bad Bunny  ¿Quien Tu Eres?\n",
       "6693   Bad Bunny  ¿Quien Tu Eres?\n",
       "2061   Bad Bunny  ¿Quien Tu Eres?\n",
       "6249   Bad Bunny  ¿Quien Tu Eres?\n",
       "6065   Bad Bunny  ¿Quien Tu Eres?\n",
       "2124   Bad Bunny  ¿Quien Tu Eres?"
      ]
     },
     "execution_count": 63,
     "metadata": {},
     "output_type": "execute_result"
    }
   ],
   "source": [
    "song_artist = streamingHistory0.append(streamingHistory1).append(streamingHistory2)\n",
    "song_artist = song_artist.sort_values(by='track_name', ascending=False)\n",
    "song_artist.drop('end_time', axis=1, inplace=True)\n",
    "song_artist.drop('ms_played', axis=1, inplace=True)\n",
    "song_artist.head(10)"
   ]
  },
  {
   "cell_type": "code",
   "execution_count": 64,
   "metadata": {},
   "outputs": [
    {
     "data": {
      "text/html": [
       "<div>\n",
       "<style scoped>\n",
       "    .dataframe tbody tr th:only-of-type {\n",
       "        vertical-align: middle;\n",
       "    }\n",
       "\n",
       "    .dataframe tbody tr th {\n",
       "        vertical-align: top;\n",
       "    }\n",
       "\n",
       "    .dataframe thead th {\n",
       "        text-align: right;\n",
       "    }\n",
       "</style>\n",
       "<table border=\"1\" class=\"dataframe\">\n",
       "  <thead>\n",
       "    <tr style=\"text-align: right;\">\n",
       "      <th></th>\n",
       "      <th>artist_name</th>\n",
       "      <th>track_name</th>\n",
       "    </tr>\n",
       "  </thead>\n",
       "  <tbody>\n",
       "    <tr>\n",
       "      <th>1563</th>\n",
       "      <td>Raku-Nu</td>\n",
       "      <td>दुनिया के सपने</td>\n",
       "    </tr>\n",
       "    <tr>\n",
       "      <th>3504</th>\n",
       "      <td>Bad Bunny</td>\n",
       "      <td>¿Quien Tu Eres?</td>\n",
       "    </tr>\n",
       "    <tr>\n",
       "      <th>5614</th>\n",
       "      <td>Kali Uchis</td>\n",
       "      <td>¡aquí yo mando!</td>\n",
       "    </tr>\n",
       "    <tr>\n",
       "      <th>4415</th>\n",
       "      <td>duendita</td>\n",
       "      <td>yaya my favorite</td>\n",
       "    </tr>\n",
       "    <tr>\n",
       "      <th>8570</th>\n",
       "      <td>Joji</td>\n",
       "      <td>worldstar money (interlude)</td>\n",
       "    </tr>\n",
       "    <tr>\n",
       "      <th>...</th>\n",
       "      <td>...</td>\n",
       "      <td>...</td>\n",
       "    </tr>\n",
       "    <tr>\n",
       "      <th>4020</th>\n",
       "      <td>The Joe Rogan Experience</td>\n",
       "      <td>#1491 - Bill Burr</td>\n",
       "    </tr>\n",
       "    <tr>\n",
       "      <th>3100</th>\n",
       "      <td>The Joe Rogan Experience</td>\n",
       "      <td>#1490 - Jimmy O. Yang</td>\n",
       "    </tr>\n",
       "    <tr>\n",
       "      <th>3986</th>\n",
       "      <td>CJ</td>\n",
       "      <td>\"BOP\"</td>\n",
       "    </tr>\n",
       "    <tr>\n",
       "      <th>8839</th>\n",
       "      <td>Trippie Redd</td>\n",
       "      <td>!</td>\n",
       "    </tr>\n",
       "    <tr>\n",
       "      <th>7072</th>\n",
       "      <td>The Psychology Podcast with Scott Barry Kaufman</td>\n",
       "      <td>Steven Hayes || Liberate Your Mind</td>\n",
       "    </tr>\n",
       "  </tbody>\n",
       "</table>\n",
       "<p>5839 rows × 2 columns</p>\n",
       "</div>"
      ],
      "text/plain": [
       "                                          artist_name  \\\n",
       "1563                                          Raku-Nu   \n",
       "3504                                        Bad Bunny   \n",
       "5614                                       Kali Uchis   \n",
       "4415                                         duendita   \n",
       "8570                                             Joji   \n",
       "...                                               ...   \n",
       "4020                         The Joe Rogan Experience   \n",
       "3100                         The Joe Rogan Experience   \n",
       "3986                                               CJ   \n",
       "8839                                     Trippie Redd   \n",
       "7072  The Psychology Podcast with Scott Barry Kaufman   \n",
       "\n",
       "                               track_name  \n",
       "1563                       दुनिया के सपने  \n",
       "3504                      ¿Quien Tu Eres?  \n",
       "5614                      ¡aquí yo mando!  \n",
       "4415                     yaya my favorite  \n",
       "8570          worldstar money (interlude)  \n",
       "...                                   ...  \n",
       "4020                    #1491 - Bill Burr  \n",
       "3100                #1490 - Jimmy O. Yang  \n",
       "3986                                \"BOP\"  \n",
       "8839                                    !  \n",
       "7072   Steven Hayes || Liberate Your Mind  \n",
       "\n",
       "[5839 rows x 2 columns]"
      ]
     },
     "execution_count": 64,
     "metadata": {},
     "output_type": "execute_result"
    }
   ],
   "source": [
    "song_artist = song_artist.drop_duplicates(subset = [\"track_name\"])\n",
    "song_artist"
   ]
  },
  {
   "cell_type": "code",
   "execution_count": 65,
   "metadata": {},
   "outputs": [
    {
     "data": {
      "text/html": [
       "<div>\n",
       "<style scoped>\n",
       "    .dataframe tbody tr th:only-of-type {\n",
       "        vertical-align: middle;\n",
       "    }\n",
       "\n",
       "    .dataframe tbody tr th {\n",
       "        vertical-align: top;\n",
       "    }\n",
       "\n",
       "    .dataframe thead th {\n",
       "        text-align: right;\n",
       "    }\n",
       "</style>\n",
       "<table border=\"1\" class=\"dataframe\">\n",
       "  <thead>\n",
       "    <tr style=\"text-align: right;\">\n",
       "      <th></th>\n",
       "      <th>artist_name</th>\n",
       "      <th>track_name</th>\n",
       "      <th>minutes_played</th>\n",
       "    </tr>\n",
       "  </thead>\n",
       "  <tbody>\n",
       "    <tr>\n",
       "      <th>3859</th>\n",
       "      <td>SZA</td>\n",
       "      <td>Good Days</td>\n",
       "      <td>309.695083</td>\n",
       "    </tr>\n",
       "    <tr>\n",
       "      <th>3906</th>\n",
       "      <td>6LACK</td>\n",
       "      <td>Glock Six - Bonus</td>\n",
       "      <td>224.378750</td>\n",
       "    </tr>\n",
       "    <tr>\n",
       "      <th>656</th>\n",
       "      <td>H3 Podcast</td>\n",
       "      <td>Trisha &amp; Ethan Do Oddly Satisfying Trends - Fr...</td>\n",
       "      <td>207.515317</td>\n",
       "    </tr>\n",
       "    <tr>\n",
       "      <th>3671</th>\n",
       "      <td>Raveena</td>\n",
       "      <td>Headaches</td>\n",
       "      <td>201.739267</td>\n",
       "    </tr>\n",
       "    <tr>\n",
       "      <th>3293</th>\n",
       "      <td>H3 Podcast</td>\n",
       "      <td>Jake Paul, Wendy Williams, Bhad Bhabie &amp; Dr. P...</td>\n",
       "      <td>197.453467</td>\n",
       "    </tr>\n",
       "    <tr>\n",
       "      <th>...</th>\n",
       "      <td>...</td>\n",
       "      <td>...</td>\n",
       "      <td>...</td>\n",
       "    </tr>\n",
       "    <tr>\n",
       "      <th>4533</th>\n",
       "      <td>Lil Uzi Vert</td>\n",
       "      <td>Diamonds All on My Wrist</td>\n",
       "      <td>0.000000</td>\n",
       "    </tr>\n",
       "    <tr>\n",
       "      <th>4634</th>\n",
       "      <td>PUP</td>\n",
       "      <td>DVP</td>\n",
       "      <td>0.000000</td>\n",
       "    </tr>\n",
       "    <tr>\n",
       "      <th>5384</th>\n",
       "      <td>Adil</td>\n",
       "      <td>BANTER</td>\n",
       "      <td>0.000000</td>\n",
       "    </tr>\n",
       "    <tr>\n",
       "      <th>5385</th>\n",
       "      <td>BROCKHAMPTON</td>\n",
       "      <td>BANKROLL (feat. A$AP Rocky &amp; A$AP Ferg)</td>\n",
       "      <td>0.000000</td>\n",
       "    </tr>\n",
       "    <tr>\n",
       "      <th>5532</th>\n",
       "      <td>Malachi X</td>\n",
       "      <td>All About The Money (feat. Malachi X)</td>\n",
       "      <td>0.000000</td>\n",
       "    </tr>\n",
       "  </tbody>\n",
       "</table>\n",
       "<p>5839 rows × 3 columns</p>\n",
       "</div>"
      ],
      "text/plain": [
       "       artist_name                                         track_name  \\\n",
       "3859           SZA                                          Good Days   \n",
       "3906         6LACK                                  Glock Six - Bonus   \n",
       "656     H3 Podcast  Trisha & Ethan Do Oddly Satisfying Trends - Fr...   \n",
       "3671       Raveena                                          Headaches   \n",
       "3293    H3 Podcast  Jake Paul, Wendy Williams, Bhad Bhabie & Dr. P...   \n",
       "...            ...                                                ...   \n",
       "4533  Lil Uzi Vert                           Diamonds All on My Wrist   \n",
       "4634           PUP                                                DVP   \n",
       "5384          Adil                                             BANTER   \n",
       "5385  BROCKHAMPTON            BANKROLL (feat. A$AP Rocky & A$AP Ferg)   \n",
       "5532     Malachi X              All About The Money (feat. Malachi X)   \n",
       "\n",
       "      minutes_played  \n",
       "3859      309.695083  \n",
       "3906      224.378750  \n",
       "656       207.515317  \n",
       "3671      201.739267  \n",
       "3293      197.453467  \n",
       "...              ...  \n",
       "4533        0.000000  \n",
       "4634        0.000000  \n",
       "5384        0.000000  \n",
       "5385        0.000000  \n",
       "5532        0.000000  \n",
       "\n",
       "[5839 rows x 3 columns]"
      ]
     },
     "execution_count": 65,
     "metadata": {},
     "output_type": "execute_result"
    }
   ],
   "source": [
    "song = pd.merge(song_artist, song, on='track_name')\n",
    "song = song.sort_values(by='minutes_played', ascending=False)\n",
    "song"
   ]
  },
  {
   "cell_type": "code",
   "execution_count": 66,
   "metadata": {},
   "outputs": [
    {
     "data": {
      "text/html": [
       "<div>\n",
       "<style scoped>\n",
       "    .dataframe tbody tr th:only-of-type {\n",
       "        vertical-align: middle;\n",
       "    }\n",
       "\n",
       "    .dataframe tbody tr th {\n",
       "        vertical-align: top;\n",
       "    }\n",
       "\n",
       "    .dataframe thead th {\n",
       "        text-align: right;\n",
       "    }\n",
       "</style>\n",
       "<table border=\"1\" class=\"dataframe\">\n",
       "  <thead>\n",
       "    <tr style=\"text-align: right;\">\n",
       "      <th></th>\n",
       "      <th>artist_name</th>\n",
       "      <th>track_name</th>\n",
       "      <th>minutes_played</th>\n",
       "    </tr>\n",
       "  </thead>\n",
       "  <tbody>\n",
       "    <tr>\n",
       "      <th>0</th>\n",
       "      <td>SZA</td>\n",
       "      <td>Good Days</td>\n",
       "      <td>309.695083</td>\n",
       "    </tr>\n",
       "    <tr>\n",
       "      <th>1</th>\n",
       "      <td>6LACK</td>\n",
       "      <td>Glock Six - Bonus</td>\n",
       "      <td>224.378750</td>\n",
       "    </tr>\n",
       "    <tr>\n",
       "      <th>2</th>\n",
       "      <td>H3 Podcast</td>\n",
       "      <td>Trisha &amp; Ethan Do Oddly Satisfying Trends - Fr...</td>\n",
       "      <td>207.515317</td>\n",
       "    </tr>\n",
       "    <tr>\n",
       "      <th>3</th>\n",
       "      <td>Raveena</td>\n",
       "      <td>Headaches</td>\n",
       "      <td>201.739267</td>\n",
       "    </tr>\n",
       "    <tr>\n",
       "      <th>4</th>\n",
       "      <td>H3 Podcast</td>\n",
       "      <td>Jake Paul, Wendy Williams, Bhad Bhabie &amp; Dr. P...</td>\n",
       "      <td>197.453467</td>\n",
       "    </tr>\n",
       "    <tr>\n",
       "      <th>5</th>\n",
       "      <td>Future</td>\n",
       "      <td>Solitaires (feat. Travis Scott)</td>\n",
       "      <td>184.761733</td>\n",
       "    </tr>\n",
       "    <tr>\n",
       "      <th>6</th>\n",
       "      <td>Alex Rose</td>\n",
       "      <td>Darte Remix</td>\n",
       "      <td>169.738067</td>\n",
       "    </tr>\n",
       "    <tr>\n",
       "      <th>7</th>\n",
       "      <td>Sushant KC</td>\n",
       "      <td>Satayera</td>\n",
       "      <td>169.697950</td>\n",
       "    </tr>\n",
       "    <tr>\n",
       "      <th>8</th>\n",
       "      <td>Sushant KC</td>\n",
       "      <td>Mausam</td>\n",
       "      <td>162.783183</td>\n",
       "    </tr>\n",
       "    <tr>\n",
       "      <th>9</th>\n",
       "      <td>GRM Daily</td>\n",
       "      <td>Moving Naughty (feat. Aitch &amp; B Young)</td>\n",
       "      <td>160.472450</td>\n",
       "    </tr>\n",
       "    <tr>\n",
       "      <th>10</th>\n",
       "      <td>Raveena</td>\n",
       "      <td>If Only</td>\n",
       "      <td>160.305100</td>\n",
       "    </tr>\n",
       "    <tr>\n",
       "      <th>11</th>\n",
       "      <td>Raveena</td>\n",
       "      <td>Honey</td>\n",
       "      <td>159.562217</td>\n",
       "    </tr>\n",
       "    <tr>\n",
       "      <th>12</th>\n",
       "      <td>92914</td>\n",
       "      <td>Okinawa</td>\n",
       "      <td>157.316367</td>\n",
       "    </tr>\n",
       "    <tr>\n",
       "      <th>13</th>\n",
       "      <td>Drake</td>\n",
       "      <td>From Time</td>\n",
       "      <td>154.523783</td>\n",
       "    </tr>\n",
       "    <tr>\n",
       "      <th>14</th>\n",
       "      <td>Jen Awad</td>\n",
       "      <td>Tsunami</td>\n",
       "      <td>145.799017</td>\n",
       "    </tr>\n",
       "    <tr>\n",
       "      <th>15</th>\n",
       "      <td>Travis Scott</td>\n",
       "      <td>CAN'T SAY</td>\n",
       "      <td>134.895617</td>\n",
       "    </tr>\n",
       "  </tbody>\n",
       "</table>\n",
       "</div>"
      ],
      "text/plain": [
       "     artist_name                                         track_name  \\\n",
       "0            SZA                                          Good Days   \n",
       "1          6LACK                                  Glock Six - Bonus   \n",
       "2     H3 Podcast  Trisha & Ethan Do Oddly Satisfying Trends - Fr...   \n",
       "3        Raveena                                          Headaches   \n",
       "4     H3 Podcast  Jake Paul, Wendy Williams, Bhad Bhabie & Dr. P...   \n",
       "5         Future                    Solitaires (feat. Travis Scott)   \n",
       "6      Alex Rose                                        Darte Remix   \n",
       "7     Sushant KC                                           Satayera   \n",
       "8     Sushant KC                                             Mausam   \n",
       "9      GRM Daily             Moving Naughty (feat. Aitch & B Young)   \n",
       "10       Raveena                                            If Only   \n",
       "11       Raveena                                              Honey   \n",
       "12         92914                                            Okinawa   \n",
       "13         Drake                                          From Time   \n",
       "14      Jen Awad                                            Tsunami   \n",
       "15  Travis Scott                                          CAN'T SAY   \n",
       "\n",
       "    minutes_played  \n",
       "0       309.695083  \n",
       "1       224.378750  \n",
       "2       207.515317  \n",
       "3       201.739267  \n",
       "4       197.453467  \n",
       "5       184.761733  \n",
       "6       169.738067  \n",
       "7       169.697950  \n",
       "8       162.783183  \n",
       "9       160.472450  \n",
       "10      160.305100  \n",
       "11      159.562217  \n",
       "12      157.316367  \n",
       "13      154.523783  \n",
       "14      145.799017  \n",
       "15      134.895617  "
      ]
     },
     "execution_count": 66,
     "metadata": {},
     "output_type": "execute_result"
    }
   ],
   "source": [
    "song = song.sort_values(by='minutes_played', ascending=False).head(16)\n",
    "song.reset_index(inplace = True, drop = True) \n",
    "song"
   ]
  },
  {
   "cell_type": "markdown",
   "metadata": {},
   "source": [
    "Top 15 Songs listened to"
   ]
  },
  {
   "cell_type": "code",
   "execution_count": 67,
   "metadata": {},
   "outputs": [
    {
     "data": {
      "application/vnd.plotly.v1+json": {
       "config": {
        "plotlyServerURL": "https://plot.ly"
       },
       "data": [
        {
         "alignmentgroup": "True",
         "hovertemplate": "artist_name=SZA<br>track_name=%{x}<br>minutes_played=%{y}<extra></extra>",
         "legendgroup": "SZA",
         "marker": {
          "color": "rgb(103,0,31)"
         },
         "name": "SZA",
         "offsetgroup": "SZA",
         "orientation": "v",
         "showlegend": true,
         "textposition": "auto",
         "type": "bar",
         "x": [
          "Good Days"
         ],
         "xaxis": "x",
         "y": [
          309.6950833333331
         ],
         "yaxis": "y"
        },
        {
         "alignmentgroup": "True",
         "hovertemplate": "artist_name=6LACK<br>track_name=%{x}<br>minutes_played=%{y}<extra></extra>",
         "legendgroup": "6LACK",
         "marker": {
          "color": "rgb(178,24,43)"
         },
         "name": "6LACK",
         "offsetgroup": "6LACK",
         "orientation": "v",
         "showlegend": true,
         "textposition": "auto",
         "type": "bar",
         "x": [
          "Glock Six - Bonus"
         ],
         "xaxis": "x",
         "y": [
          224.37874999999974
         ],
         "yaxis": "y"
        },
        {
         "alignmentgroup": "True",
         "hovertemplate": "artist_name=H3 Podcast<br>track_name=%{x}<br>minutes_played=%{y}<extra></extra>",
         "legendgroup": "H3 Podcast",
         "marker": {
          "color": "rgb(214,96,77)"
         },
         "name": "H3 Podcast",
         "offsetgroup": "H3 Podcast",
         "orientation": "v",
         "showlegend": true,
         "textposition": "auto",
         "type": "bar",
         "x": [
          "Trisha & Ethan Do Oddly Satisfying Trends - Frenemies # 30",
          "Jake Paul, Wendy Williams, Bhad Bhabie & Dr. Phil - H3 After Dark # 31"
         ],
         "xaxis": "x",
         "y": [
          207.51531666666665,
          197.45346666666666
         ],
         "yaxis": "y"
        },
        {
         "alignmentgroup": "True",
         "hovertemplate": "artist_name=Raveena<br>track_name=%{x}<br>minutes_played=%{y}<extra></extra>",
         "legendgroup": "Raveena",
         "marker": {
          "color": "rgb(244,165,130)"
         },
         "name": "Raveena",
         "offsetgroup": "Raveena",
         "orientation": "v",
         "showlegend": true,
         "textposition": "auto",
         "type": "bar",
         "x": [
          "Headaches",
          "If Only",
          "Honey"
         ],
         "xaxis": "x",
         "y": [
          201.73926666666654,
          160.30509999999992,
          159.5622166666666
         ],
         "yaxis": "y"
        },
        {
         "alignmentgroup": "True",
         "hovertemplate": "artist_name=Future<br>track_name=%{x}<br>minutes_played=%{y}<extra></extra>",
         "legendgroup": "Future",
         "marker": {
          "color": "rgb(253,219,199)"
         },
         "name": "Future",
         "offsetgroup": "Future",
         "orientation": "v",
         "showlegend": true,
         "textposition": "auto",
         "type": "bar",
         "x": [
          "Solitaires (feat. Travis Scott)"
         ],
         "xaxis": "x",
         "y": [
          184.76173333333332
         ],
         "yaxis": "y"
        },
        {
         "alignmentgroup": "True",
         "hovertemplate": "artist_name=Alex Rose<br>track_name=%{x}<br>minutes_played=%{y}<extra></extra>",
         "legendgroup": "Alex Rose",
         "marker": {
          "color": "rgb(247,247,247)"
         },
         "name": "Alex Rose",
         "offsetgroup": "Alex Rose",
         "orientation": "v",
         "showlegend": true,
         "textposition": "auto",
         "type": "bar",
         "x": [
          "Darte Remix"
         ],
         "xaxis": "x",
         "y": [
          169.73806666666667
         ],
         "yaxis": "y"
        },
        {
         "alignmentgroup": "True",
         "hovertemplate": "artist_name=Sushant KC<br>track_name=%{x}<br>minutes_played=%{y}<extra></extra>",
         "legendgroup": "Sushant KC",
         "marker": {
          "color": "rgb(209,229,240)"
         },
         "name": "Sushant KC",
         "offsetgroup": "Sushant KC",
         "orientation": "v",
         "showlegend": true,
         "textposition": "auto",
         "type": "bar",
         "x": [
          "Satayera",
          "Mausam"
         ],
         "xaxis": "x",
         "y": [
          169.69795000000013,
          162.7831833333333
         ],
         "yaxis": "y"
        },
        {
         "alignmentgroup": "True",
         "hovertemplate": "artist_name=GRM Daily<br>track_name=%{x}<br>minutes_played=%{y}<extra></extra>",
         "legendgroup": "GRM Daily",
         "marker": {
          "color": "rgb(146,197,222)"
         },
         "name": "GRM Daily",
         "offsetgroup": "GRM Daily",
         "orientation": "v",
         "showlegend": true,
         "textposition": "auto",
         "type": "bar",
         "x": [
          "Moving Naughty (feat. Aitch & B Young)"
         ],
         "xaxis": "x",
         "y": [
          160.47245000000012
         ],
         "yaxis": "y"
        },
        {
         "alignmentgroup": "True",
         "hovertemplate": "artist_name=92914<br>track_name=%{x}<br>minutes_played=%{y}<extra></extra>",
         "legendgroup": "92914",
         "marker": {
          "color": "rgb(67,147,195)"
         },
         "name": "92914",
         "offsetgroup": "92914",
         "orientation": "v",
         "showlegend": true,
         "textposition": "auto",
         "type": "bar",
         "x": [
          "Okinawa"
         ],
         "xaxis": "x",
         "y": [
          157.31636666666662
         ],
         "yaxis": "y"
        },
        {
         "alignmentgroup": "True",
         "hovertemplate": "artist_name=Drake<br>track_name=%{x}<br>minutes_played=%{y}<extra></extra>",
         "legendgroup": "Drake",
         "marker": {
          "color": "rgb(33,102,172)"
         },
         "name": "Drake",
         "offsetgroup": "Drake",
         "orientation": "v",
         "showlegend": true,
         "textposition": "auto",
         "type": "bar",
         "x": [
          "From Time"
         ],
         "xaxis": "x",
         "y": [
          154.52378333333337
         ],
         "yaxis": "y"
        },
        {
         "alignmentgroup": "True",
         "hovertemplate": "artist_name=Jen Awad<br>track_name=%{x}<br>minutes_played=%{y}<extra></extra>",
         "legendgroup": "Jen Awad",
         "marker": {
          "color": "rgb(5,48,97)"
         },
         "name": "Jen Awad",
         "offsetgroup": "Jen Awad",
         "orientation": "v",
         "showlegend": true,
         "textposition": "auto",
         "type": "bar",
         "x": [
          "Tsunami"
         ],
         "xaxis": "x",
         "y": [
          145.79901666666663
         ],
         "yaxis": "y"
        },
        {
         "alignmentgroup": "True",
         "hovertemplate": "artist_name=Travis Scott<br>track_name=%{x}<br>minutes_played=%{y}<extra></extra>",
         "legendgroup": "Travis Scott",
         "marker": {
          "color": "rgb(103,0,31)"
         },
         "name": "Travis Scott",
         "offsetgroup": "Travis Scott",
         "orientation": "v",
         "showlegend": true,
         "textposition": "auto",
         "type": "bar",
         "x": [
          "CAN'T SAY"
         ],
         "xaxis": "x",
         "y": [
          134.89561666666663
         ],
         "yaxis": "y"
        }
       ],
       "layout": {
        "barmode": "relative",
        "legend": {
         "title": {
          "text": "artist_name"
         },
         "tracegroupgap": 0
        },
        "template": {
         "data": {
          "bar": [
           {
            "error_x": {
             "color": "#2a3f5f"
            },
            "error_y": {
             "color": "#2a3f5f"
            },
            "marker": {
             "line": {
              "color": "#E5ECF6",
              "width": 0.5
             }
            },
            "type": "bar"
           }
          ],
          "barpolar": [
           {
            "marker": {
             "line": {
              "color": "#E5ECF6",
              "width": 0.5
             }
            },
            "type": "barpolar"
           }
          ],
          "carpet": [
           {
            "aaxis": {
             "endlinecolor": "#2a3f5f",
             "gridcolor": "white",
             "linecolor": "white",
             "minorgridcolor": "white",
             "startlinecolor": "#2a3f5f"
            },
            "baxis": {
             "endlinecolor": "#2a3f5f",
             "gridcolor": "white",
             "linecolor": "white",
             "minorgridcolor": "white",
             "startlinecolor": "#2a3f5f"
            },
            "type": "carpet"
           }
          ],
          "choropleth": [
           {
            "colorbar": {
             "outlinewidth": 0,
             "ticks": ""
            },
            "type": "choropleth"
           }
          ],
          "contour": [
           {
            "colorbar": {
             "outlinewidth": 0,
             "ticks": ""
            },
            "colorscale": [
             [
              0,
              "#0d0887"
             ],
             [
              0.1111111111111111,
              "#46039f"
             ],
             [
              0.2222222222222222,
              "#7201a8"
             ],
             [
              0.3333333333333333,
              "#9c179e"
             ],
             [
              0.4444444444444444,
              "#bd3786"
             ],
             [
              0.5555555555555556,
              "#d8576b"
             ],
             [
              0.6666666666666666,
              "#ed7953"
             ],
             [
              0.7777777777777778,
              "#fb9f3a"
             ],
             [
              0.8888888888888888,
              "#fdca26"
             ],
             [
              1,
              "#f0f921"
             ]
            ],
            "type": "contour"
           }
          ],
          "contourcarpet": [
           {
            "colorbar": {
             "outlinewidth": 0,
             "ticks": ""
            },
            "type": "contourcarpet"
           }
          ],
          "heatmap": [
           {
            "colorbar": {
             "outlinewidth": 0,
             "ticks": ""
            },
            "colorscale": [
             [
              0,
              "#0d0887"
             ],
             [
              0.1111111111111111,
              "#46039f"
             ],
             [
              0.2222222222222222,
              "#7201a8"
             ],
             [
              0.3333333333333333,
              "#9c179e"
             ],
             [
              0.4444444444444444,
              "#bd3786"
             ],
             [
              0.5555555555555556,
              "#d8576b"
             ],
             [
              0.6666666666666666,
              "#ed7953"
             ],
             [
              0.7777777777777778,
              "#fb9f3a"
             ],
             [
              0.8888888888888888,
              "#fdca26"
             ],
             [
              1,
              "#f0f921"
             ]
            ],
            "type": "heatmap"
           }
          ],
          "heatmapgl": [
           {
            "colorbar": {
             "outlinewidth": 0,
             "ticks": ""
            },
            "colorscale": [
             [
              0,
              "#0d0887"
             ],
             [
              0.1111111111111111,
              "#46039f"
             ],
             [
              0.2222222222222222,
              "#7201a8"
             ],
             [
              0.3333333333333333,
              "#9c179e"
             ],
             [
              0.4444444444444444,
              "#bd3786"
             ],
             [
              0.5555555555555556,
              "#d8576b"
             ],
             [
              0.6666666666666666,
              "#ed7953"
             ],
             [
              0.7777777777777778,
              "#fb9f3a"
             ],
             [
              0.8888888888888888,
              "#fdca26"
             ],
             [
              1,
              "#f0f921"
             ]
            ],
            "type": "heatmapgl"
           }
          ],
          "histogram": [
           {
            "marker": {
             "colorbar": {
              "outlinewidth": 0,
              "ticks": ""
             }
            },
            "type": "histogram"
           }
          ],
          "histogram2d": [
           {
            "colorbar": {
             "outlinewidth": 0,
             "ticks": ""
            },
            "colorscale": [
             [
              0,
              "#0d0887"
             ],
             [
              0.1111111111111111,
              "#46039f"
             ],
             [
              0.2222222222222222,
              "#7201a8"
             ],
             [
              0.3333333333333333,
              "#9c179e"
             ],
             [
              0.4444444444444444,
              "#bd3786"
             ],
             [
              0.5555555555555556,
              "#d8576b"
             ],
             [
              0.6666666666666666,
              "#ed7953"
             ],
             [
              0.7777777777777778,
              "#fb9f3a"
             ],
             [
              0.8888888888888888,
              "#fdca26"
             ],
             [
              1,
              "#f0f921"
             ]
            ],
            "type": "histogram2d"
           }
          ],
          "histogram2dcontour": [
           {
            "colorbar": {
             "outlinewidth": 0,
             "ticks": ""
            },
            "colorscale": [
             [
              0,
              "#0d0887"
             ],
             [
              0.1111111111111111,
              "#46039f"
             ],
             [
              0.2222222222222222,
              "#7201a8"
             ],
             [
              0.3333333333333333,
              "#9c179e"
             ],
             [
              0.4444444444444444,
              "#bd3786"
             ],
             [
              0.5555555555555556,
              "#d8576b"
             ],
             [
              0.6666666666666666,
              "#ed7953"
             ],
             [
              0.7777777777777778,
              "#fb9f3a"
             ],
             [
              0.8888888888888888,
              "#fdca26"
             ],
             [
              1,
              "#f0f921"
             ]
            ],
            "type": "histogram2dcontour"
           }
          ],
          "mesh3d": [
           {
            "colorbar": {
             "outlinewidth": 0,
             "ticks": ""
            },
            "type": "mesh3d"
           }
          ],
          "parcoords": [
           {
            "line": {
             "colorbar": {
              "outlinewidth": 0,
              "ticks": ""
             }
            },
            "type": "parcoords"
           }
          ],
          "pie": [
           {
            "automargin": true,
            "type": "pie"
           }
          ],
          "scatter": [
           {
            "marker": {
             "colorbar": {
              "outlinewidth": 0,
              "ticks": ""
             }
            },
            "type": "scatter"
           }
          ],
          "scatter3d": [
           {
            "line": {
             "colorbar": {
              "outlinewidth": 0,
              "ticks": ""
             }
            },
            "marker": {
             "colorbar": {
              "outlinewidth": 0,
              "ticks": ""
             }
            },
            "type": "scatter3d"
           }
          ],
          "scattercarpet": [
           {
            "marker": {
             "colorbar": {
              "outlinewidth": 0,
              "ticks": ""
             }
            },
            "type": "scattercarpet"
           }
          ],
          "scattergeo": [
           {
            "marker": {
             "colorbar": {
              "outlinewidth": 0,
              "ticks": ""
             }
            },
            "type": "scattergeo"
           }
          ],
          "scattergl": [
           {
            "marker": {
             "colorbar": {
              "outlinewidth": 0,
              "ticks": ""
             }
            },
            "type": "scattergl"
           }
          ],
          "scattermapbox": [
           {
            "marker": {
             "colorbar": {
              "outlinewidth": 0,
              "ticks": ""
             }
            },
            "type": "scattermapbox"
           }
          ],
          "scatterpolar": [
           {
            "marker": {
             "colorbar": {
              "outlinewidth": 0,
              "ticks": ""
             }
            },
            "type": "scatterpolar"
           }
          ],
          "scatterpolargl": [
           {
            "marker": {
             "colorbar": {
              "outlinewidth": 0,
              "ticks": ""
             }
            },
            "type": "scatterpolargl"
           }
          ],
          "scatterternary": [
           {
            "marker": {
             "colorbar": {
              "outlinewidth": 0,
              "ticks": ""
             }
            },
            "type": "scatterternary"
           }
          ],
          "surface": [
           {
            "colorbar": {
             "outlinewidth": 0,
             "ticks": ""
            },
            "colorscale": [
             [
              0,
              "#0d0887"
             ],
             [
              0.1111111111111111,
              "#46039f"
             ],
             [
              0.2222222222222222,
              "#7201a8"
             ],
             [
              0.3333333333333333,
              "#9c179e"
             ],
             [
              0.4444444444444444,
              "#bd3786"
             ],
             [
              0.5555555555555556,
              "#d8576b"
             ],
             [
              0.6666666666666666,
              "#ed7953"
             ],
             [
              0.7777777777777778,
              "#fb9f3a"
             ],
             [
              0.8888888888888888,
              "#fdca26"
             ],
             [
              1,
              "#f0f921"
             ]
            ],
            "type": "surface"
           }
          ],
          "table": [
           {
            "cells": {
             "fill": {
              "color": "#EBF0F8"
             },
             "line": {
              "color": "white"
             }
            },
            "header": {
             "fill": {
              "color": "#C8D4E3"
             },
             "line": {
              "color": "white"
             }
            },
            "type": "table"
           }
          ]
         },
         "layout": {
          "annotationdefaults": {
           "arrowcolor": "#2a3f5f",
           "arrowhead": 0,
           "arrowwidth": 1
          },
          "autotypenumbers": "strict",
          "coloraxis": {
           "colorbar": {
            "outlinewidth": 0,
            "ticks": ""
           }
          },
          "colorscale": {
           "diverging": [
            [
             0,
             "#8e0152"
            ],
            [
             0.1,
             "#c51b7d"
            ],
            [
             0.2,
             "#de77ae"
            ],
            [
             0.3,
             "#f1b6da"
            ],
            [
             0.4,
             "#fde0ef"
            ],
            [
             0.5,
             "#f7f7f7"
            ],
            [
             0.6,
             "#e6f5d0"
            ],
            [
             0.7,
             "#b8e186"
            ],
            [
             0.8,
             "#7fbc41"
            ],
            [
             0.9,
             "#4d9221"
            ],
            [
             1,
             "#276419"
            ]
           ],
           "sequential": [
            [
             0,
             "#0d0887"
            ],
            [
             0.1111111111111111,
             "#46039f"
            ],
            [
             0.2222222222222222,
             "#7201a8"
            ],
            [
             0.3333333333333333,
             "#9c179e"
            ],
            [
             0.4444444444444444,
             "#bd3786"
            ],
            [
             0.5555555555555556,
             "#d8576b"
            ],
            [
             0.6666666666666666,
             "#ed7953"
            ],
            [
             0.7777777777777778,
             "#fb9f3a"
            ],
            [
             0.8888888888888888,
             "#fdca26"
            ],
            [
             1,
             "#f0f921"
            ]
           ],
           "sequentialminus": [
            [
             0,
             "#0d0887"
            ],
            [
             0.1111111111111111,
             "#46039f"
            ],
            [
             0.2222222222222222,
             "#7201a8"
            ],
            [
             0.3333333333333333,
             "#9c179e"
            ],
            [
             0.4444444444444444,
             "#bd3786"
            ],
            [
             0.5555555555555556,
             "#d8576b"
            ],
            [
             0.6666666666666666,
             "#ed7953"
            ],
            [
             0.7777777777777778,
             "#fb9f3a"
            ],
            [
             0.8888888888888888,
             "#fdca26"
            ],
            [
             1,
             "#f0f921"
            ]
           ]
          },
          "colorway": [
           "#636efa",
           "#EF553B",
           "#00cc96",
           "#ab63fa",
           "#FFA15A",
           "#19d3f3",
           "#FF6692",
           "#B6E880",
           "#FF97FF",
           "#FECB52"
          ],
          "font": {
           "color": "#2a3f5f"
          },
          "geo": {
           "bgcolor": "white",
           "lakecolor": "white",
           "landcolor": "#E5ECF6",
           "showlakes": true,
           "showland": true,
           "subunitcolor": "white"
          },
          "hoverlabel": {
           "align": "left"
          },
          "hovermode": "closest",
          "mapbox": {
           "style": "light"
          },
          "paper_bgcolor": "white",
          "plot_bgcolor": "#E5ECF6",
          "polar": {
           "angularaxis": {
            "gridcolor": "white",
            "linecolor": "white",
            "ticks": ""
           },
           "bgcolor": "#E5ECF6",
           "radialaxis": {
            "gridcolor": "white",
            "linecolor": "white",
            "ticks": ""
           }
          },
          "scene": {
           "xaxis": {
            "backgroundcolor": "#E5ECF6",
            "gridcolor": "white",
            "gridwidth": 2,
            "linecolor": "white",
            "showbackground": true,
            "ticks": "",
            "zerolinecolor": "white"
           },
           "yaxis": {
            "backgroundcolor": "#E5ECF6",
            "gridcolor": "white",
            "gridwidth": 2,
            "linecolor": "white",
            "showbackground": true,
            "ticks": "",
            "zerolinecolor": "white"
           },
           "zaxis": {
            "backgroundcolor": "#E5ECF6",
            "gridcolor": "white",
            "gridwidth": 2,
            "linecolor": "white",
            "showbackground": true,
            "ticks": "",
            "zerolinecolor": "white"
           }
          },
          "shapedefaults": {
           "line": {
            "color": "#2a3f5f"
           }
          },
          "ternary": {
           "aaxis": {
            "gridcolor": "white",
            "linecolor": "white",
            "ticks": ""
           },
           "baxis": {
            "gridcolor": "white",
            "linecolor": "white",
            "ticks": ""
           },
           "bgcolor": "#E5ECF6",
           "caxis": {
            "gridcolor": "white",
            "linecolor": "white",
            "ticks": ""
           }
          },
          "title": {
           "x": 0.05
          },
          "xaxis": {
           "automargin": true,
           "gridcolor": "white",
           "linecolor": "white",
           "ticks": "",
           "title": {
            "standoff": 15
           },
           "zerolinecolor": "white",
           "zerolinewidth": 2
          },
          "yaxis": {
           "automargin": true,
           "gridcolor": "white",
           "linecolor": "white",
           "ticks": "",
           "title": {
            "standoff": 15
           },
           "zerolinecolor": "white",
           "zerolinewidth": 2
          }
         }
        },
        "title": {
         "text": "Song Listened to the Most"
        },
        "xaxis": {
         "anchor": "y",
         "domain": [
          0,
          1
         ],
         "title": {
          "text": "track_name"
         }
        },
        "yaxis": {
         "anchor": "x",
         "domain": [
          0,
          1
         ],
         "title": {
          "text": "minutes_played"
         }
        }
       }
      },
      "text/html": [
       "<div>                            <div id=\"2e78043c-3d5d-4ade-88bb-0d378bfa6ab0\" class=\"plotly-graph-div\" style=\"height:525px; width:100%;\"></div>            <script type=\"text/javascript\">                require([\"plotly\"], function(Plotly) {                    window.PLOTLYENV=window.PLOTLYENV || {};                                    if (document.getElementById(\"2e78043c-3d5d-4ade-88bb-0d378bfa6ab0\")) {                    Plotly.newPlot(                        \"2e78043c-3d5d-4ade-88bb-0d378bfa6ab0\",                        [{\"alignmentgroup\": \"True\", \"hovertemplate\": \"artist_name=SZA<br>track_name=%{x}<br>minutes_played=%{y}<extra></extra>\", \"legendgroup\": \"SZA\", \"marker\": {\"color\": \"rgb(103,0,31)\"}, \"name\": \"SZA\", \"offsetgroup\": \"SZA\", \"orientation\": \"v\", \"showlegend\": true, \"textposition\": \"auto\", \"type\": \"bar\", \"x\": [\"Good Days\"], \"xaxis\": \"x\", \"y\": [309.6950833333331], \"yaxis\": \"y\"}, {\"alignmentgroup\": \"True\", \"hovertemplate\": \"artist_name=6LACK<br>track_name=%{x}<br>minutes_played=%{y}<extra></extra>\", \"legendgroup\": \"6LACK\", \"marker\": {\"color\": \"rgb(178,24,43)\"}, \"name\": \"6LACK\", \"offsetgroup\": \"6LACK\", \"orientation\": \"v\", \"showlegend\": true, \"textposition\": \"auto\", \"type\": \"bar\", \"x\": [\"Glock Six - Bonus\"], \"xaxis\": \"x\", \"y\": [224.37874999999974], \"yaxis\": \"y\"}, {\"alignmentgroup\": \"True\", \"hovertemplate\": \"artist_name=H3 Podcast<br>track_name=%{x}<br>minutes_played=%{y}<extra></extra>\", \"legendgroup\": \"H3 Podcast\", \"marker\": {\"color\": \"rgb(214,96,77)\"}, \"name\": \"H3 Podcast\", \"offsetgroup\": \"H3 Podcast\", \"orientation\": \"v\", \"showlegend\": true, \"textposition\": \"auto\", \"type\": \"bar\", \"x\": [\"Trisha & Ethan Do Oddly Satisfying Trends - Frenemies # 30\", \"Jake Paul, Wendy Williams, Bhad Bhabie & Dr. Phil - H3 After Dark # 31\"], \"xaxis\": \"x\", \"y\": [207.51531666666665, 197.45346666666666], \"yaxis\": \"y\"}, {\"alignmentgroup\": \"True\", \"hovertemplate\": \"artist_name=Raveena<br>track_name=%{x}<br>minutes_played=%{y}<extra></extra>\", \"legendgroup\": \"Raveena\", \"marker\": {\"color\": \"rgb(244,165,130)\"}, \"name\": \"Raveena\", \"offsetgroup\": \"Raveena\", \"orientation\": \"v\", \"showlegend\": true, \"textposition\": \"auto\", \"type\": \"bar\", \"x\": [\"Headaches\", \"If Only\", \"Honey\"], \"xaxis\": \"x\", \"y\": [201.73926666666654, 160.30509999999992, 159.5622166666666], \"yaxis\": \"y\"}, {\"alignmentgroup\": \"True\", \"hovertemplate\": \"artist_name=Future<br>track_name=%{x}<br>minutes_played=%{y}<extra></extra>\", \"legendgroup\": \"Future\", \"marker\": {\"color\": \"rgb(253,219,199)\"}, \"name\": \"Future\", \"offsetgroup\": \"Future\", \"orientation\": \"v\", \"showlegend\": true, \"textposition\": \"auto\", \"type\": \"bar\", \"x\": [\"Solitaires (feat. Travis Scott)\"], \"xaxis\": \"x\", \"y\": [184.76173333333332], \"yaxis\": \"y\"}, {\"alignmentgroup\": \"True\", \"hovertemplate\": \"artist_name=Alex Rose<br>track_name=%{x}<br>minutes_played=%{y}<extra></extra>\", \"legendgroup\": \"Alex Rose\", \"marker\": {\"color\": \"rgb(247,247,247)\"}, \"name\": \"Alex Rose\", \"offsetgroup\": \"Alex Rose\", \"orientation\": \"v\", \"showlegend\": true, \"textposition\": \"auto\", \"type\": \"bar\", \"x\": [\"Darte Remix\"], \"xaxis\": \"x\", \"y\": [169.73806666666667], \"yaxis\": \"y\"}, {\"alignmentgroup\": \"True\", \"hovertemplate\": \"artist_name=Sushant KC<br>track_name=%{x}<br>minutes_played=%{y}<extra></extra>\", \"legendgroup\": \"Sushant KC\", \"marker\": {\"color\": \"rgb(209,229,240)\"}, \"name\": \"Sushant KC\", \"offsetgroup\": \"Sushant KC\", \"orientation\": \"v\", \"showlegend\": true, \"textposition\": \"auto\", \"type\": \"bar\", \"x\": [\"Satayera\", \"Mausam\"], \"xaxis\": \"x\", \"y\": [169.69795000000013, 162.7831833333333], \"yaxis\": \"y\"}, {\"alignmentgroup\": \"True\", \"hovertemplate\": \"artist_name=GRM Daily<br>track_name=%{x}<br>minutes_played=%{y}<extra></extra>\", \"legendgroup\": \"GRM Daily\", \"marker\": {\"color\": \"rgb(146,197,222)\"}, \"name\": \"GRM Daily\", \"offsetgroup\": \"GRM Daily\", \"orientation\": \"v\", \"showlegend\": true, \"textposition\": \"auto\", \"type\": \"bar\", \"x\": [\"Moving Naughty (feat. Aitch & B Young)\"], \"xaxis\": \"x\", \"y\": [160.47245000000012], \"yaxis\": \"y\"}, {\"alignmentgroup\": \"True\", \"hovertemplate\": \"artist_name=92914<br>track_name=%{x}<br>minutes_played=%{y}<extra></extra>\", \"legendgroup\": \"92914\", \"marker\": {\"color\": \"rgb(67,147,195)\"}, \"name\": \"92914\", \"offsetgroup\": \"92914\", \"orientation\": \"v\", \"showlegend\": true, \"textposition\": \"auto\", \"type\": \"bar\", \"x\": [\"Okinawa\"], \"xaxis\": \"x\", \"y\": [157.31636666666662], \"yaxis\": \"y\"}, {\"alignmentgroup\": \"True\", \"hovertemplate\": \"artist_name=Drake<br>track_name=%{x}<br>minutes_played=%{y}<extra></extra>\", \"legendgroup\": \"Drake\", \"marker\": {\"color\": \"rgb(33,102,172)\"}, \"name\": \"Drake\", \"offsetgroup\": \"Drake\", \"orientation\": \"v\", \"showlegend\": true, \"textposition\": \"auto\", \"type\": \"bar\", \"x\": [\"From Time\"], \"xaxis\": \"x\", \"y\": [154.52378333333337], \"yaxis\": \"y\"}, {\"alignmentgroup\": \"True\", \"hovertemplate\": \"artist_name=Jen Awad<br>track_name=%{x}<br>minutes_played=%{y}<extra></extra>\", \"legendgroup\": \"Jen Awad\", \"marker\": {\"color\": \"rgb(5,48,97)\"}, \"name\": \"Jen Awad\", \"offsetgroup\": \"Jen Awad\", \"orientation\": \"v\", \"showlegend\": true, \"textposition\": \"auto\", \"type\": \"bar\", \"x\": [\"Tsunami\"], \"xaxis\": \"x\", \"y\": [145.79901666666663], \"yaxis\": \"y\"}, {\"alignmentgroup\": \"True\", \"hovertemplate\": \"artist_name=Travis Scott<br>track_name=%{x}<br>minutes_played=%{y}<extra></extra>\", \"legendgroup\": \"Travis Scott\", \"marker\": {\"color\": \"rgb(103,0,31)\"}, \"name\": \"Travis Scott\", \"offsetgroup\": \"Travis Scott\", \"orientation\": \"v\", \"showlegend\": true, \"textposition\": \"auto\", \"type\": \"bar\", \"x\": [\"CAN'T SAY\"], \"xaxis\": \"x\", \"y\": [134.89561666666663], \"yaxis\": \"y\"}],                        {\"barmode\": \"relative\", \"legend\": {\"title\": {\"text\": \"artist_name\"}, \"tracegroupgap\": 0}, \"template\": {\"data\": {\"bar\": [{\"error_x\": {\"color\": \"#2a3f5f\"}, \"error_y\": {\"color\": \"#2a3f5f\"}, \"marker\": {\"line\": {\"color\": \"#E5ECF6\", \"width\": 0.5}}, \"type\": \"bar\"}], \"barpolar\": [{\"marker\": {\"line\": {\"color\": \"#E5ECF6\", \"width\": 0.5}}, \"type\": \"barpolar\"}], \"carpet\": [{\"aaxis\": {\"endlinecolor\": \"#2a3f5f\", \"gridcolor\": \"white\", \"linecolor\": \"white\", \"minorgridcolor\": \"white\", \"startlinecolor\": \"#2a3f5f\"}, \"baxis\": {\"endlinecolor\": \"#2a3f5f\", \"gridcolor\": \"white\", \"linecolor\": \"white\", \"minorgridcolor\": \"white\", \"startlinecolor\": \"#2a3f5f\"}, \"type\": \"carpet\"}], \"choropleth\": [{\"colorbar\": {\"outlinewidth\": 0, \"ticks\": \"\"}, \"type\": \"choropleth\"}], \"contour\": [{\"colorbar\": {\"outlinewidth\": 0, \"ticks\": \"\"}, \"colorscale\": [[0.0, \"#0d0887\"], [0.1111111111111111, \"#46039f\"], [0.2222222222222222, \"#7201a8\"], [0.3333333333333333, \"#9c179e\"], [0.4444444444444444, \"#bd3786\"], [0.5555555555555556, \"#d8576b\"], [0.6666666666666666, \"#ed7953\"], [0.7777777777777778, \"#fb9f3a\"], [0.8888888888888888, \"#fdca26\"], [1.0, \"#f0f921\"]], \"type\": \"contour\"}], \"contourcarpet\": [{\"colorbar\": {\"outlinewidth\": 0, \"ticks\": \"\"}, \"type\": \"contourcarpet\"}], \"heatmap\": [{\"colorbar\": {\"outlinewidth\": 0, \"ticks\": \"\"}, \"colorscale\": [[0.0, \"#0d0887\"], [0.1111111111111111, \"#46039f\"], [0.2222222222222222, \"#7201a8\"], [0.3333333333333333, \"#9c179e\"], [0.4444444444444444, \"#bd3786\"], [0.5555555555555556, \"#d8576b\"], [0.6666666666666666, \"#ed7953\"], [0.7777777777777778, \"#fb9f3a\"], [0.8888888888888888, \"#fdca26\"], [1.0, \"#f0f921\"]], \"type\": \"heatmap\"}], \"heatmapgl\": [{\"colorbar\": {\"outlinewidth\": 0, \"ticks\": \"\"}, \"colorscale\": [[0.0, \"#0d0887\"], [0.1111111111111111, \"#46039f\"], [0.2222222222222222, \"#7201a8\"], [0.3333333333333333, \"#9c179e\"], [0.4444444444444444, \"#bd3786\"], [0.5555555555555556, \"#d8576b\"], [0.6666666666666666, \"#ed7953\"], [0.7777777777777778, \"#fb9f3a\"], [0.8888888888888888, \"#fdca26\"], [1.0, \"#f0f921\"]], \"type\": \"heatmapgl\"}], \"histogram\": [{\"marker\": {\"colorbar\": {\"outlinewidth\": 0, \"ticks\": \"\"}}, \"type\": \"histogram\"}], \"histogram2d\": [{\"colorbar\": {\"outlinewidth\": 0, \"ticks\": \"\"}, \"colorscale\": [[0.0, \"#0d0887\"], [0.1111111111111111, \"#46039f\"], [0.2222222222222222, \"#7201a8\"], [0.3333333333333333, \"#9c179e\"], [0.4444444444444444, \"#bd3786\"], [0.5555555555555556, \"#d8576b\"], [0.6666666666666666, \"#ed7953\"], [0.7777777777777778, \"#fb9f3a\"], [0.8888888888888888, \"#fdca26\"], [1.0, \"#f0f921\"]], \"type\": \"histogram2d\"}], \"histogram2dcontour\": [{\"colorbar\": {\"outlinewidth\": 0, \"ticks\": \"\"}, \"colorscale\": [[0.0, \"#0d0887\"], [0.1111111111111111, \"#46039f\"], [0.2222222222222222, \"#7201a8\"], [0.3333333333333333, \"#9c179e\"], [0.4444444444444444, \"#bd3786\"], [0.5555555555555556, \"#d8576b\"], [0.6666666666666666, \"#ed7953\"], [0.7777777777777778, \"#fb9f3a\"], [0.8888888888888888, \"#fdca26\"], [1.0, \"#f0f921\"]], \"type\": \"histogram2dcontour\"}], \"mesh3d\": [{\"colorbar\": {\"outlinewidth\": 0, \"ticks\": \"\"}, \"type\": \"mesh3d\"}], \"parcoords\": [{\"line\": {\"colorbar\": {\"outlinewidth\": 0, \"ticks\": \"\"}}, \"type\": \"parcoords\"}], \"pie\": [{\"automargin\": true, \"type\": \"pie\"}], \"scatter\": [{\"marker\": {\"colorbar\": {\"outlinewidth\": 0, \"ticks\": \"\"}}, \"type\": \"scatter\"}], \"scatter3d\": [{\"line\": {\"colorbar\": {\"outlinewidth\": 0, \"ticks\": \"\"}}, \"marker\": {\"colorbar\": {\"outlinewidth\": 0, \"ticks\": \"\"}}, \"type\": \"scatter3d\"}], \"scattercarpet\": [{\"marker\": {\"colorbar\": {\"outlinewidth\": 0, \"ticks\": \"\"}}, \"type\": \"scattercarpet\"}], \"scattergeo\": [{\"marker\": {\"colorbar\": {\"outlinewidth\": 0, \"ticks\": \"\"}}, \"type\": \"scattergeo\"}], \"scattergl\": [{\"marker\": {\"colorbar\": {\"outlinewidth\": 0, \"ticks\": \"\"}}, \"type\": \"scattergl\"}], \"scattermapbox\": [{\"marker\": {\"colorbar\": {\"outlinewidth\": 0, \"ticks\": \"\"}}, \"type\": \"scattermapbox\"}], \"scatterpolar\": [{\"marker\": {\"colorbar\": {\"outlinewidth\": 0, \"ticks\": \"\"}}, \"type\": \"scatterpolar\"}], \"scatterpolargl\": [{\"marker\": {\"colorbar\": {\"outlinewidth\": 0, \"ticks\": \"\"}}, \"type\": \"scatterpolargl\"}], \"scatterternary\": [{\"marker\": {\"colorbar\": {\"outlinewidth\": 0, \"ticks\": \"\"}}, \"type\": \"scatterternary\"}], \"surface\": [{\"colorbar\": {\"outlinewidth\": 0, \"ticks\": \"\"}, \"colorscale\": [[0.0, \"#0d0887\"], [0.1111111111111111, \"#46039f\"], [0.2222222222222222, \"#7201a8\"], [0.3333333333333333, \"#9c179e\"], [0.4444444444444444, \"#bd3786\"], [0.5555555555555556, \"#d8576b\"], [0.6666666666666666, \"#ed7953\"], [0.7777777777777778, \"#fb9f3a\"], [0.8888888888888888, \"#fdca26\"], [1.0, \"#f0f921\"]], \"type\": \"surface\"}], \"table\": [{\"cells\": {\"fill\": {\"color\": \"#EBF0F8\"}, \"line\": {\"color\": \"white\"}}, \"header\": {\"fill\": {\"color\": \"#C8D4E3\"}, \"line\": {\"color\": \"white\"}}, \"type\": \"table\"}]}, \"layout\": {\"annotationdefaults\": {\"arrowcolor\": \"#2a3f5f\", \"arrowhead\": 0, \"arrowwidth\": 1}, \"autotypenumbers\": \"strict\", \"coloraxis\": {\"colorbar\": {\"outlinewidth\": 0, \"ticks\": \"\"}}, \"colorscale\": {\"diverging\": [[0, \"#8e0152\"], [0.1, \"#c51b7d\"], [0.2, \"#de77ae\"], [0.3, \"#f1b6da\"], [0.4, \"#fde0ef\"], [0.5, \"#f7f7f7\"], [0.6, \"#e6f5d0\"], [0.7, \"#b8e186\"], [0.8, \"#7fbc41\"], [0.9, \"#4d9221\"], [1, \"#276419\"]], \"sequential\": [[0.0, \"#0d0887\"], [0.1111111111111111, \"#46039f\"], [0.2222222222222222, \"#7201a8\"], [0.3333333333333333, \"#9c179e\"], [0.4444444444444444, \"#bd3786\"], [0.5555555555555556, \"#d8576b\"], [0.6666666666666666, \"#ed7953\"], [0.7777777777777778, \"#fb9f3a\"], [0.8888888888888888, \"#fdca26\"], [1.0, \"#f0f921\"]], \"sequentialminus\": [[0.0, \"#0d0887\"], [0.1111111111111111, \"#46039f\"], [0.2222222222222222, \"#7201a8\"], [0.3333333333333333, \"#9c179e\"], [0.4444444444444444, \"#bd3786\"], [0.5555555555555556, \"#d8576b\"], [0.6666666666666666, \"#ed7953\"], [0.7777777777777778, \"#fb9f3a\"], [0.8888888888888888, \"#fdca26\"], [1.0, \"#f0f921\"]]}, \"colorway\": [\"#636efa\", \"#EF553B\", \"#00cc96\", \"#ab63fa\", \"#FFA15A\", \"#19d3f3\", \"#FF6692\", \"#B6E880\", \"#FF97FF\", \"#FECB52\"], \"font\": {\"color\": \"#2a3f5f\"}, \"geo\": {\"bgcolor\": \"white\", \"lakecolor\": \"white\", \"landcolor\": \"#E5ECF6\", \"showlakes\": true, \"showland\": true, \"subunitcolor\": \"white\"}, \"hoverlabel\": {\"align\": \"left\"}, \"hovermode\": \"closest\", \"mapbox\": {\"style\": \"light\"}, \"paper_bgcolor\": \"white\", \"plot_bgcolor\": \"#E5ECF6\", \"polar\": {\"angularaxis\": {\"gridcolor\": \"white\", \"linecolor\": \"white\", \"ticks\": \"\"}, \"bgcolor\": \"#E5ECF6\", \"radialaxis\": {\"gridcolor\": \"white\", \"linecolor\": \"white\", \"ticks\": \"\"}}, \"scene\": {\"xaxis\": {\"backgroundcolor\": \"#E5ECF6\", \"gridcolor\": \"white\", \"gridwidth\": 2, \"linecolor\": \"white\", \"showbackground\": true, \"ticks\": \"\", \"zerolinecolor\": \"white\"}, \"yaxis\": {\"backgroundcolor\": \"#E5ECF6\", \"gridcolor\": \"white\", \"gridwidth\": 2, \"linecolor\": \"white\", \"showbackground\": true, \"ticks\": \"\", \"zerolinecolor\": \"white\"}, \"zaxis\": {\"backgroundcolor\": \"#E5ECF6\", \"gridcolor\": \"white\", \"gridwidth\": 2, \"linecolor\": \"white\", \"showbackground\": true, \"ticks\": \"\", \"zerolinecolor\": \"white\"}}, \"shapedefaults\": {\"line\": {\"color\": \"#2a3f5f\"}}, \"ternary\": {\"aaxis\": {\"gridcolor\": \"white\", \"linecolor\": \"white\", \"ticks\": \"\"}, \"baxis\": {\"gridcolor\": \"white\", \"linecolor\": \"white\", \"ticks\": \"\"}, \"bgcolor\": \"#E5ECF6\", \"caxis\": {\"gridcolor\": \"white\", \"linecolor\": \"white\", \"ticks\": \"\"}}, \"title\": {\"x\": 0.05}, \"xaxis\": {\"automargin\": true, \"gridcolor\": \"white\", \"linecolor\": \"white\", \"ticks\": \"\", \"title\": {\"standoff\": 15}, \"zerolinecolor\": \"white\", \"zerolinewidth\": 2}, \"yaxis\": {\"automargin\": true, \"gridcolor\": \"white\", \"linecolor\": \"white\", \"ticks\": \"\", \"title\": {\"standoff\": 15}, \"zerolinecolor\": \"white\", \"zerolinewidth\": 2}}}, \"title\": {\"text\": \"Song Listened to the Most\"}, \"xaxis\": {\"anchor\": \"y\", \"domain\": [0.0, 1.0], \"title\": {\"text\": \"track_name\"}}, \"yaxis\": {\"anchor\": \"x\", \"domain\": [0.0, 1.0], \"title\": {\"text\": \"minutes_played\"}}},                        {\"responsive\": true}                    ).then(function(){\n",
       "                            \n",
       "var gd = document.getElementById('2e78043c-3d5d-4ade-88bb-0d378bfa6ab0');\n",
       "var x = new MutationObserver(function (mutations, observer) {{\n",
       "        var display = window.getComputedStyle(gd).display;\n",
       "        if (!display || display === 'none') {{\n",
       "            console.log([gd, 'removed!']);\n",
       "            Plotly.purge(gd);\n",
       "            observer.disconnect();\n",
       "        }}\n",
       "}});\n",
       "\n",
       "// Listen for the removal of the full notebook cells\n",
       "var notebookContainer = gd.closest('#notebook-container');\n",
       "if (notebookContainer) {{\n",
       "    x.observe(notebookContainer, {childList: true});\n",
       "}}\n",
       "\n",
       "// Listen for the clearing of the current output cell\n",
       "var outputEl = gd.closest('.output');\n",
       "if (outputEl) {{\n",
       "    x.observe(outputEl, {childList: true});\n",
       "}}\n",
       "\n",
       "                        })                };                });            </script>        </div>"
      ]
     },
     "metadata": {},
     "output_type": "display_data"
    }
   ],
   "source": [
    "fig = px.bar(song, x=\"track_name\", y=\"minutes_played\", title = 'Song Listened to the Most', color = \"artist_name\", color_discrete_sequence=px.colors.sequential.RdBu)\n",
    "fig.show()"
   ]
  },
  {
   "cell_type": "code",
   "execution_count": 68,
   "metadata": {},
   "outputs": [
    {
     "data": {
      "text/html": [
       "<div>\n",
       "<style scoped>\n",
       "    .dataframe tbody tr th:only-of-type {\n",
       "        vertical-align: middle;\n",
       "    }\n",
       "\n",
       "    .dataframe tbody tr th {\n",
       "        vertical-align: top;\n",
       "    }\n",
       "\n",
       "    .dataframe thead th {\n",
       "        text-align: right;\n",
       "    }\n",
       "</style>\n",
       "<table border=\"1\" class=\"dataframe\">\n",
       "  <thead>\n",
       "    <tr style=\"text-align: right;\">\n",
       "      <th></th>\n",
       "      <th>artist_name</th>\n",
       "      <th>track_name</th>\n",
       "      <th>end_time</th>\n",
       "      <th>minutes_played</th>\n",
       "    </tr>\n",
       "  </thead>\n",
       "  <tbody>\n",
       "    <tr>\n",
       "      <th>0</th>\n",
       "      <td>Alessia Cara</td>\n",
       "      <td>Out Of Love</td>\n",
       "      <td>2020-05-09 00:00</td>\n",
       "      <td>0.048700</td>\n",
       "    </tr>\n",
       "    <tr>\n",
       "      <th>1</th>\n",
       "      <td>rum.gold</td>\n",
       "      <td>Save You</td>\n",
       "      <td>2020-05-09 00:00</td>\n",
       "      <td>1.878750</td>\n",
       "    </tr>\n",
       "    <tr>\n",
       "      <th>2</th>\n",
       "      <td>Lewis Capaldi</td>\n",
       "      <td>Bruises</td>\n",
       "      <td>2020-05-09 00:02</td>\n",
       "      <td>0.099033</td>\n",
       "    </tr>\n",
       "    <tr>\n",
       "      <th>3</th>\n",
       "      <td>XXXTENTACION</td>\n",
       "      <td>Everybody Dies In Their Nightmares</td>\n",
       "      <td>2020-05-09 00:02</td>\n",
       "      <td>1.591100</td>\n",
       "    </tr>\n",
       "    <tr>\n",
       "      <th>4</th>\n",
       "      <td>Calum Scott</td>\n",
       "      <td>Dancing On My Own</td>\n",
       "      <td>2020-05-09 00:02</td>\n",
       "      <td>0.010300</td>\n",
       "    </tr>\n",
       "    <tr>\n",
       "      <th>...</th>\n",
       "      <td>...</td>\n",
       "      <td>...</td>\n",
       "      <td>...</td>\n",
       "      <td>...</td>\n",
       "    </tr>\n",
       "    <tr>\n",
       "      <th>6896</th>\n",
       "      <td>Sushant KC</td>\n",
       "      <td>Sathi</td>\n",
       "      <td>2021-05-09 22:48</td>\n",
       "      <td>3.584550</td>\n",
       "    </tr>\n",
       "    <tr>\n",
       "      <th>6897</th>\n",
       "      <td>Sushant KC</td>\n",
       "      <td>Satayera</td>\n",
       "      <td>2021-05-09 22:52</td>\n",
       "      <td>3.739933</td>\n",
       "    </tr>\n",
       "    <tr>\n",
       "      <th>6898</th>\n",
       "      <td>Sushant KC</td>\n",
       "      <td>Mausam</td>\n",
       "      <td>2021-05-09 22:55</td>\n",
       "      <td>3.324433</td>\n",
       "    </tr>\n",
       "    <tr>\n",
       "      <th>6899</th>\n",
       "      <td>Sushant KC</td>\n",
       "      <td>Satayera</td>\n",
       "      <td>2021-05-09 23:02</td>\n",
       "      <td>6.222767</td>\n",
       "    </tr>\n",
       "    <tr>\n",
       "      <th>6900</th>\n",
       "      <td>Sushant KC</td>\n",
       "      <td>Mausam</td>\n",
       "      <td>2021-05-09 23:04</td>\n",
       "      <td>2.692250</td>\n",
       "    </tr>\n",
       "  </tbody>\n",
       "</table>\n",
       "<p>26901 rows × 4 columns</p>\n",
       "</div>"
      ],
      "text/plain": [
       "        artist_name                          track_name          end_time  \\\n",
       "0      Alessia Cara                         Out Of Love  2020-05-09 00:00   \n",
       "1          rum.gold                            Save You  2020-05-09 00:00   \n",
       "2     Lewis Capaldi                             Bruises  2020-05-09 00:02   \n",
       "3      XXXTENTACION  Everybody Dies In Their Nightmares  2020-05-09 00:02   \n",
       "4       Calum Scott                   Dancing On My Own  2020-05-09 00:02   \n",
       "...             ...                                 ...               ...   \n",
       "6896     Sushant KC                               Sathi  2021-05-09 22:48   \n",
       "6897     Sushant KC                            Satayera  2021-05-09 22:52   \n",
       "6898     Sushant KC                              Mausam  2021-05-09 22:55   \n",
       "6899     Sushant KC                            Satayera  2021-05-09 23:02   \n",
       "6900     Sushant KC                              Mausam  2021-05-09 23:04   \n",
       "\n",
       "      minutes_played  \n",
       "0           0.048700  \n",
       "1           1.878750  \n",
       "2           0.099033  \n",
       "3           1.591100  \n",
       "4           0.010300  \n",
       "...              ...  \n",
       "6896        3.584550  \n",
       "6897        3.739933  \n",
       "6898        3.324433  \n",
       "6899        6.222767  \n",
       "6900        2.692250  \n",
       "\n",
       "[26901 rows x 4 columns]"
      ]
     },
     "execution_count": 68,
     "metadata": {},
     "output_type": "execute_result"
    }
   ],
   "source": [
    "#Top 50 Songs\n",
    "\n",
    "top_50 = streamingHistory0.append(streamingHistory1).append(streamingHistory2)\n",
    "top_50['minutes_played'] = top_50.ms_played.divide(60000)\n",
    "top_50.drop('ms_played', axis=1, inplace=True)\n",
    "top_50"
   ]
  },
  {
   "cell_type": "code",
   "execution_count": 69,
   "metadata": {},
   "outputs": [
    {
     "data": {
      "text/html": [
       "<div>\n",
       "<style scoped>\n",
       "    .dataframe tbody tr th:only-of-type {\n",
       "        vertical-align: middle;\n",
       "    }\n",
       "\n",
       "    .dataframe tbody tr th {\n",
       "        vertical-align: top;\n",
       "    }\n",
       "\n",
       "    .dataframe thead th {\n",
       "        text-align: right;\n",
       "    }\n",
       "</style>\n",
       "<table border=\"1\" class=\"dataframe\">\n",
       "  <thead>\n",
       "    <tr style=\"text-align: right;\">\n",
       "      <th></th>\n",
       "      <th>track_name</th>\n",
       "      <th>minutes_played</th>\n",
       "    </tr>\n",
       "  </thead>\n",
       "  <tbody>\n",
       "    <tr>\n",
       "      <th>0</th>\n",
       "      <td>Good Days</td>\n",
       "      <td>309.695083</td>\n",
       "    </tr>\n",
       "    <tr>\n",
       "      <th>1</th>\n",
       "      <td>Glock Six - Bonus</td>\n",
       "      <td>224.378750</td>\n",
       "    </tr>\n",
       "    <tr>\n",
       "      <th>2</th>\n",
       "      <td>Trisha &amp; Ethan Do Oddly Satisfying Trends - Fr...</td>\n",
       "      <td>207.515317</td>\n",
       "    </tr>\n",
       "    <tr>\n",
       "      <th>3</th>\n",
       "      <td>Headaches</td>\n",
       "      <td>201.739267</td>\n",
       "    </tr>\n",
       "    <tr>\n",
       "      <th>4</th>\n",
       "      <td>Jake Paul, Wendy Williams, Bhad Bhabie &amp; Dr. P...</td>\n",
       "      <td>197.453467</td>\n",
       "    </tr>\n",
       "    <tr>\n",
       "      <th>5</th>\n",
       "      <td>Solitaires (feat. Travis Scott)</td>\n",
       "      <td>184.761733</td>\n",
       "    </tr>\n",
       "    <tr>\n",
       "      <th>6</th>\n",
       "      <td>Darte Remix</td>\n",
       "      <td>169.738067</td>\n",
       "    </tr>\n",
       "    <tr>\n",
       "      <th>7</th>\n",
       "      <td>Satayera</td>\n",
       "      <td>169.697950</td>\n",
       "    </tr>\n",
       "    <tr>\n",
       "      <th>8</th>\n",
       "      <td>Mausam</td>\n",
       "      <td>162.783183</td>\n",
       "    </tr>\n",
       "    <tr>\n",
       "      <th>9</th>\n",
       "      <td>Moving Naughty (feat. Aitch &amp; B Young)</td>\n",
       "      <td>160.472450</td>\n",
       "    </tr>\n",
       "    <tr>\n",
       "      <th>10</th>\n",
       "      <td>If Only</td>\n",
       "      <td>160.305100</td>\n",
       "    </tr>\n",
       "    <tr>\n",
       "      <th>11</th>\n",
       "      <td>Honey</td>\n",
       "      <td>159.562217</td>\n",
       "    </tr>\n",
       "    <tr>\n",
       "      <th>12</th>\n",
       "      <td>Okinawa</td>\n",
       "      <td>157.316367</td>\n",
       "    </tr>\n",
       "    <tr>\n",
       "      <th>13</th>\n",
       "      <td>From Time</td>\n",
       "      <td>154.523783</td>\n",
       "    </tr>\n",
       "    <tr>\n",
       "      <th>14</th>\n",
       "      <td>Tsunami</td>\n",
       "      <td>145.799017</td>\n",
       "    </tr>\n",
       "    <tr>\n",
       "      <th>15</th>\n",
       "      <td>CAN'T SAY</td>\n",
       "      <td>134.895617</td>\n",
       "    </tr>\n",
       "    <tr>\n",
       "      <th>16</th>\n",
       "      <td>Jealous (feat. Rico Nasty)</td>\n",
       "      <td>133.980817</td>\n",
       "    </tr>\n",
       "    <tr>\n",
       "      <th>17</th>\n",
       "      <td>Close</td>\n",
       "      <td>132.095217</td>\n",
       "    </tr>\n",
       "    <tr>\n",
       "      <th>18</th>\n",
       "      <td>Kiss Me More (feat. SZA)</td>\n",
       "      <td>128.362283</td>\n",
       "    </tr>\n",
       "    <tr>\n",
       "      <th>19</th>\n",
       "      <td>Protests and the Pandemic with Michele Norris</td>\n",
       "      <td>124.071317</td>\n",
       "    </tr>\n",
       "    <tr>\n",
       "      <th>20</th>\n",
       "      <td>Maya Ma</td>\n",
       "      <td>121.162083</td>\n",
       "    </tr>\n",
       "    <tr>\n",
       "      <th>21</th>\n",
       "      <td>Ordinary</td>\n",
       "      <td>120.384700</td>\n",
       "    </tr>\n",
       "    <tr>\n",
       "      <th>22</th>\n",
       "      <td>telepatía</td>\n",
       "      <td>119.742033</td>\n",
       "    </tr>\n",
       "    <tr>\n",
       "      <th>23</th>\n",
       "      <td>It's Time To Stop James Charles - H3 Podcast #...</td>\n",
       "      <td>117.598150</td>\n",
       "    </tr>\n",
       "    <tr>\n",
       "      <th>24</th>\n",
       "      <td>Sathi</td>\n",
       "      <td>116.471133</td>\n",
       "    </tr>\n",
       "    <tr>\n",
       "      <th>25</th>\n",
       "      <td>Stronger</td>\n",
       "      <td>115.705117</td>\n",
       "    </tr>\n",
       "    <tr>\n",
       "      <th>26</th>\n",
       "      <td>No Idea</td>\n",
       "      <td>114.342250</td>\n",
       "    </tr>\n",
       "    <tr>\n",
       "      <th>27</th>\n",
       "      <td>Baby</td>\n",
       "      <td>114.048150</td>\n",
       "    </tr>\n",
       "    <tr>\n",
       "      <th>28</th>\n",
       "      <td>Mystery Lady (feat. Don Toliver)</td>\n",
       "      <td>113.618517</td>\n",
       "    </tr>\n",
       "    <tr>\n",
       "      <th>29</th>\n",
       "      <td>Introspection</td>\n",
       "      <td>111.732733</td>\n",
       "    </tr>\n",
       "    <tr>\n",
       "      <th>30</th>\n",
       "      <td>GREECE (feat. Drake)</td>\n",
       "      <td>111.547967</td>\n",
       "    </tr>\n",
       "    <tr>\n",
       "      <th>31</th>\n",
       "      <td>STARGAZING</td>\n",
       "      <td>109.914200</td>\n",
       "    </tr>\n",
       "    <tr>\n",
       "      <th>32</th>\n",
       "      <td>This Universe</td>\n",
       "      <td>108.221267</td>\n",
       "    </tr>\n",
       "    <tr>\n",
       "      <th>33</th>\n",
       "      <td>B.S. (feat. H.E.R.)</td>\n",
       "      <td>106.539767</td>\n",
       "    </tr>\n",
       "    <tr>\n",
       "      <th>34</th>\n",
       "      <td>Trisha’s Epic Passover Dinner At Ethan’s - Fre...</td>\n",
       "      <td>106.179450</td>\n",
       "    </tr>\n",
       "    <tr>\n",
       "      <th>35</th>\n",
       "      <td>Hold On</td>\n",
       "      <td>105.955567</td>\n",
       "    </tr>\n",
       "    <tr>\n",
       "      <th>36</th>\n",
       "      <td>Love Affair</td>\n",
       "      <td>103.029450</td>\n",
       "    </tr>\n",
       "    <tr>\n",
       "      <th>37</th>\n",
       "      <td>FLEX</td>\n",
       "      <td>102.919883</td>\n",
       "    </tr>\n",
       "    <tr>\n",
       "      <th>38</th>\n",
       "      <td>Nonstop</td>\n",
       "      <td>102.570817</td>\n",
       "    </tr>\n",
       "    <tr>\n",
       "      <th>39</th>\n",
       "      <td>Good Morning</td>\n",
       "      <td>102.247933</td>\n",
       "    </tr>\n",
       "    <tr>\n",
       "      <th>40</th>\n",
       "      <td>Life Is Good (feat. Drake)</td>\n",
       "      <td>102.226400</td>\n",
       "    </tr>\n",
       "    <tr>\n",
       "      <th>41</th>\n",
       "      <td>DOLLAZ ON MY HEAD (feat. Young Thug)</td>\n",
       "      <td>100.940067</td>\n",
       "    </tr>\n",
       "    <tr>\n",
       "      <th>42</th>\n",
       "      <td>Jumpman</td>\n",
       "      <td>100.531267</td>\n",
       "    </tr>\n",
       "    <tr>\n",
       "      <th>43</th>\n",
       "      <td>10k Hours (feat. Nas)</td>\n",
       "      <td>100.435500</td>\n",
       "    </tr>\n",
       "    <tr>\n",
       "      <th>44</th>\n",
       "      <td>Chicago Freestyle (feat. Giveon)</td>\n",
       "      <td>98.867450</td>\n",
       "    </tr>\n",
       "    <tr>\n",
       "      <th>45</th>\n",
       "      <td>Dior</td>\n",
       "      <td>98.782850</td>\n",
       "    </tr>\n",
       "    <tr>\n",
       "      <th>46</th>\n",
       "      <td>The London (feat. J. Cole &amp; Travis Scott)</td>\n",
       "      <td>98.347067</td>\n",
       "    </tr>\n",
       "    <tr>\n",
       "      <th>47</th>\n",
       "      <td>REVENGE</td>\n",
       "      <td>96.969550</td>\n",
       "    </tr>\n",
       "    <tr>\n",
       "      <th>48</th>\n",
       "      <td>After Party</td>\n",
       "      <td>96.376633</td>\n",
       "    </tr>\n",
       "    <tr>\n",
       "      <th>49</th>\n",
       "      <td>Luving U</td>\n",
       "      <td>96.211000</td>\n",
       "    </tr>\n",
       "    <tr>\n",
       "      <th>50</th>\n",
       "      <td>Down to Earth</td>\n",
       "      <td>94.500717</td>\n",
       "    </tr>\n",
       "  </tbody>\n",
       "</table>\n",
       "</div>"
      ],
      "text/plain": [
       "                                           track_name  minutes_played\n",
       "0                                           Good Days      309.695083\n",
       "1                                   Glock Six - Bonus      224.378750\n",
       "2   Trisha & Ethan Do Oddly Satisfying Trends - Fr...      207.515317\n",
       "3                                           Headaches      201.739267\n",
       "4   Jake Paul, Wendy Williams, Bhad Bhabie & Dr. P...      197.453467\n",
       "5                     Solitaires (feat. Travis Scott)      184.761733\n",
       "6                                         Darte Remix      169.738067\n",
       "7                                            Satayera      169.697950\n",
       "8                                              Mausam      162.783183\n",
       "9              Moving Naughty (feat. Aitch & B Young)      160.472450\n",
       "10                                            If Only      160.305100\n",
       "11                                              Honey      159.562217\n",
       "12                                            Okinawa      157.316367\n",
       "13                                          From Time      154.523783\n",
       "14                                            Tsunami      145.799017\n",
       "15                                          CAN'T SAY      134.895617\n",
       "16                         Jealous (feat. Rico Nasty)      133.980817\n",
       "17                                              Close      132.095217\n",
       "18                           Kiss Me More (feat. SZA)      128.362283\n",
       "19      Protests and the Pandemic with Michele Norris      124.071317\n",
       "20                                            Maya Ma      121.162083\n",
       "21                                           Ordinary      120.384700\n",
       "22                                          telepatía      119.742033\n",
       "23  It's Time To Stop James Charles - H3 Podcast #...      117.598150\n",
       "24                                              Sathi      116.471133\n",
       "25                                           Stronger      115.705117\n",
       "26                                            No Idea      114.342250\n",
       "27                                               Baby      114.048150\n",
       "28                   Mystery Lady (feat. Don Toliver)      113.618517\n",
       "29                                      Introspection      111.732733\n",
       "30                               GREECE (feat. Drake)      111.547967\n",
       "31                                         STARGAZING      109.914200\n",
       "32                                      This Universe      108.221267\n",
       "33                                B.S. (feat. H.E.R.)      106.539767\n",
       "34  Trisha’s Epic Passover Dinner At Ethan’s - Fre...      106.179450\n",
       "35                                            Hold On      105.955567\n",
       "36                                        Love Affair      103.029450\n",
       "37                                               FLEX      102.919883\n",
       "38                                            Nonstop      102.570817\n",
       "39                                       Good Morning      102.247933\n",
       "40                         Life Is Good (feat. Drake)      102.226400\n",
       "41               DOLLAZ ON MY HEAD (feat. Young Thug)      100.940067\n",
       "42                                            Jumpman      100.531267\n",
       "43                              10k Hours (feat. Nas)      100.435500\n",
       "44                   Chicago Freestyle (feat. Giveon)       98.867450\n",
       "45                                               Dior       98.782850\n",
       "46          The London (feat. J. Cole & Travis Scott)       98.347067\n",
       "47                                            REVENGE       96.969550\n",
       "48                                        After Party       96.376633\n",
       "49                                           Luving U       96.211000\n",
       "50                                      Down to Earth       94.500717"
      ]
     },
     "execution_count": 69,
     "metadata": {},
     "output_type": "execute_result"
    }
   ],
   "source": [
    "top_50 = top_50.groupby(['track_name'], as_index=False).sum()\n",
    "top_50 = top_50.sort_values(by='minutes_played', ascending=False).head(51)\n",
    "top_50.reset_index(inplace = True, drop = True) \n",
    "top_50"
   ]
  },
  {
   "cell_type": "code",
   "execution_count": 70,
   "metadata": {},
   "outputs": [
    {
     "data": {
      "application/vnd.plotly.v1+json": {
       "config": {
        "plotlyServerURL": "https://plot.ly"
       },
       "data": [
        {
         "hovertemplate": "track_name=%{x}<br>minutes_played=%{y}<extra></extra>",
         "legendgroup": "",
         "marker": {
          "color": "#636efa",
          "symbol": "circle"
         },
         "mode": "markers",
         "name": "",
         "orientation": "v",
         "showlegend": false,
         "type": "scatter",
         "x": [
          "Good Days",
          "Glock Six - Bonus",
          "Trisha & Ethan Do Oddly Satisfying Trends - Frenemies # 30",
          "Headaches",
          "Jake Paul, Wendy Williams, Bhad Bhabie & Dr. Phil - H3 After Dark # 31",
          "Solitaires (feat. Travis Scott)",
          "Darte Remix",
          "Satayera",
          "Mausam",
          "Moving Naughty (feat. Aitch & B Young)",
          "If Only",
          "Honey",
          "Okinawa",
          "From Time",
          "Tsunami",
          "CAN'T SAY",
          "Jealous (feat. Rico Nasty)",
          "Close",
          "Kiss Me More (feat. SZA)",
          "Protests and the Pandemic with Michele Norris",
          "Maya Ma",
          "Ordinary",
          "telepatía",
          "It's Time To Stop James Charles - H3 Podcast # 241",
          "Sathi",
          "Stronger",
          "No Idea",
          "Baby",
          "Mystery Lady (feat. Don Toliver)",
          "Introspection",
          "GREECE (feat. Drake)",
          "STARGAZING",
          "This Universe",
          "B.S. (feat. H.E.R.)",
          "Trisha’s Epic Passover Dinner At Ethan’s - Frenemies # 29",
          "Hold On",
          "Love Affair",
          "FLEX",
          "Nonstop",
          "Good Morning",
          "Life Is Good (feat. Drake)",
          "DOLLAZ ON MY HEAD (feat. Young Thug)",
          "Jumpman",
          "10k Hours (feat. Nas)",
          "Chicago Freestyle (feat. Giveon)",
          "Dior",
          "The London (feat. J. Cole & Travis Scott)",
          "REVENGE",
          "After Party",
          "Luving U",
          "Down to Earth"
         ],
         "xaxis": "x",
         "y": [
          309.6950833333331,
          224.37874999999974,
          207.51531666666665,
          201.73926666666654,
          197.45346666666666,
          184.76173333333332,
          169.73806666666667,
          169.69795000000013,
          162.7831833333333,
          160.47245000000012,
          160.30509999999992,
          159.5622166666666,
          157.31636666666662,
          154.52378333333337,
          145.79901666666663,
          134.89561666666663,
          133.98081666666673,
          132.09521666666663,
          128.3622833333333,
          124.07131666666666,
          121.16208333333338,
          120.3847,
          119.74203333333325,
          117.59815,
          116.47113333333334,
          115.70511666666667,
          114.34225000000008,
          114.04814999999996,
          113.61851666666671,
          111.73273333333333,
          111.54796666666662,
          109.91419999999995,
          108.22126666666665,
          106.53976666666662,
          106.17945,
          105.95556666666667,
          103.02944999999998,
          102.91988333333329,
          102.57081666666667,
          102.24793333333335,
          102.22639999999997,
          100.94006666666672,
          100.53126666666665,
          100.43550000000002,
          98.86745000000003,
          98.78285,
          98.34706666666662,
          96.96955000000005,
          96.37663333333336,
          96.21100000000001,
          94.50071666666665
         ],
         "yaxis": "y"
        }
       ],
       "layout": {
        "legend": {
         "tracegroupgap": 0
        },
        "template": {
         "data": {
          "bar": [
           {
            "error_x": {
             "color": "#2a3f5f"
            },
            "error_y": {
             "color": "#2a3f5f"
            },
            "marker": {
             "line": {
              "color": "#E5ECF6",
              "width": 0.5
             }
            },
            "type": "bar"
           }
          ],
          "barpolar": [
           {
            "marker": {
             "line": {
              "color": "#E5ECF6",
              "width": 0.5
             }
            },
            "type": "barpolar"
           }
          ],
          "carpet": [
           {
            "aaxis": {
             "endlinecolor": "#2a3f5f",
             "gridcolor": "white",
             "linecolor": "white",
             "minorgridcolor": "white",
             "startlinecolor": "#2a3f5f"
            },
            "baxis": {
             "endlinecolor": "#2a3f5f",
             "gridcolor": "white",
             "linecolor": "white",
             "minorgridcolor": "white",
             "startlinecolor": "#2a3f5f"
            },
            "type": "carpet"
           }
          ],
          "choropleth": [
           {
            "colorbar": {
             "outlinewidth": 0,
             "ticks": ""
            },
            "type": "choropleth"
           }
          ],
          "contour": [
           {
            "colorbar": {
             "outlinewidth": 0,
             "ticks": ""
            },
            "colorscale": [
             [
              0,
              "#0d0887"
             ],
             [
              0.1111111111111111,
              "#46039f"
             ],
             [
              0.2222222222222222,
              "#7201a8"
             ],
             [
              0.3333333333333333,
              "#9c179e"
             ],
             [
              0.4444444444444444,
              "#bd3786"
             ],
             [
              0.5555555555555556,
              "#d8576b"
             ],
             [
              0.6666666666666666,
              "#ed7953"
             ],
             [
              0.7777777777777778,
              "#fb9f3a"
             ],
             [
              0.8888888888888888,
              "#fdca26"
             ],
             [
              1,
              "#f0f921"
             ]
            ],
            "type": "contour"
           }
          ],
          "contourcarpet": [
           {
            "colorbar": {
             "outlinewidth": 0,
             "ticks": ""
            },
            "type": "contourcarpet"
           }
          ],
          "heatmap": [
           {
            "colorbar": {
             "outlinewidth": 0,
             "ticks": ""
            },
            "colorscale": [
             [
              0,
              "#0d0887"
             ],
             [
              0.1111111111111111,
              "#46039f"
             ],
             [
              0.2222222222222222,
              "#7201a8"
             ],
             [
              0.3333333333333333,
              "#9c179e"
             ],
             [
              0.4444444444444444,
              "#bd3786"
             ],
             [
              0.5555555555555556,
              "#d8576b"
             ],
             [
              0.6666666666666666,
              "#ed7953"
             ],
             [
              0.7777777777777778,
              "#fb9f3a"
             ],
             [
              0.8888888888888888,
              "#fdca26"
             ],
             [
              1,
              "#f0f921"
             ]
            ],
            "type": "heatmap"
           }
          ],
          "heatmapgl": [
           {
            "colorbar": {
             "outlinewidth": 0,
             "ticks": ""
            },
            "colorscale": [
             [
              0,
              "#0d0887"
             ],
             [
              0.1111111111111111,
              "#46039f"
             ],
             [
              0.2222222222222222,
              "#7201a8"
             ],
             [
              0.3333333333333333,
              "#9c179e"
             ],
             [
              0.4444444444444444,
              "#bd3786"
             ],
             [
              0.5555555555555556,
              "#d8576b"
             ],
             [
              0.6666666666666666,
              "#ed7953"
             ],
             [
              0.7777777777777778,
              "#fb9f3a"
             ],
             [
              0.8888888888888888,
              "#fdca26"
             ],
             [
              1,
              "#f0f921"
             ]
            ],
            "type": "heatmapgl"
           }
          ],
          "histogram": [
           {
            "marker": {
             "colorbar": {
              "outlinewidth": 0,
              "ticks": ""
             }
            },
            "type": "histogram"
           }
          ],
          "histogram2d": [
           {
            "colorbar": {
             "outlinewidth": 0,
             "ticks": ""
            },
            "colorscale": [
             [
              0,
              "#0d0887"
             ],
             [
              0.1111111111111111,
              "#46039f"
             ],
             [
              0.2222222222222222,
              "#7201a8"
             ],
             [
              0.3333333333333333,
              "#9c179e"
             ],
             [
              0.4444444444444444,
              "#bd3786"
             ],
             [
              0.5555555555555556,
              "#d8576b"
             ],
             [
              0.6666666666666666,
              "#ed7953"
             ],
             [
              0.7777777777777778,
              "#fb9f3a"
             ],
             [
              0.8888888888888888,
              "#fdca26"
             ],
             [
              1,
              "#f0f921"
             ]
            ],
            "type": "histogram2d"
           }
          ],
          "histogram2dcontour": [
           {
            "colorbar": {
             "outlinewidth": 0,
             "ticks": ""
            },
            "colorscale": [
             [
              0,
              "#0d0887"
             ],
             [
              0.1111111111111111,
              "#46039f"
             ],
             [
              0.2222222222222222,
              "#7201a8"
             ],
             [
              0.3333333333333333,
              "#9c179e"
             ],
             [
              0.4444444444444444,
              "#bd3786"
             ],
             [
              0.5555555555555556,
              "#d8576b"
             ],
             [
              0.6666666666666666,
              "#ed7953"
             ],
             [
              0.7777777777777778,
              "#fb9f3a"
             ],
             [
              0.8888888888888888,
              "#fdca26"
             ],
             [
              1,
              "#f0f921"
             ]
            ],
            "type": "histogram2dcontour"
           }
          ],
          "mesh3d": [
           {
            "colorbar": {
             "outlinewidth": 0,
             "ticks": ""
            },
            "type": "mesh3d"
           }
          ],
          "parcoords": [
           {
            "line": {
             "colorbar": {
              "outlinewidth": 0,
              "ticks": ""
             }
            },
            "type": "parcoords"
           }
          ],
          "pie": [
           {
            "automargin": true,
            "type": "pie"
           }
          ],
          "scatter": [
           {
            "marker": {
             "colorbar": {
              "outlinewidth": 0,
              "ticks": ""
             }
            },
            "type": "scatter"
           }
          ],
          "scatter3d": [
           {
            "line": {
             "colorbar": {
              "outlinewidth": 0,
              "ticks": ""
             }
            },
            "marker": {
             "colorbar": {
              "outlinewidth": 0,
              "ticks": ""
             }
            },
            "type": "scatter3d"
           }
          ],
          "scattercarpet": [
           {
            "marker": {
             "colorbar": {
              "outlinewidth": 0,
              "ticks": ""
             }
            },
            "type": "scattercarpet"
           }
          ],
          "scattergeo": [
           {
            "marker": {
             "colorbar": {
              "outlinewidth": 0,
              "ticks": ""
             }
            },
            "type": "scattergeo"
           }
          ],
          "scattergl": [
           {
            "marker": {
             "colorbar": {
              "outlinewidth": 0,
              "ticks": ""
             }
            },
            "type": "scattergl"
           }
          ],
          "scattermapbox": [
           {
            "marker": {
             "colorbar": {
              "outlinewidth": 0,
              "ticks": ""
             }
            },
            "type": "scattermapbox"
           }
          ],
          "scatterpolar": [
           {
            "marker": {
             "colorbar": {
              "outlinewidth": 0,
              "ticks": ""
             }
            },
            "type": "scatterpolar"
           }
          ],
          "scatterpolargl": [
           {
            "marker": {
             "colorbar": {
              "outlinewidth": 0,
              "ticks": ""
             }
            },
            "type": "scatterpolargl"
           }
          ],
          "scatterternary": [
           {
            "marker": {
             "colorbar": {
              "outlinewidth": 0,
              "ticks": ""
             }
            },
            "type": "scatterternary"
           }
          ],
          "surface": [
           {
            "colorbar": {
             "outlinewidth": 0,
             "ticks": ""
            },
            "colorscale": [
             [
              0,
              "#0d0887"
             ],
             [
              0.1111111111111111,
              "#46039f"
             ],
             [
              0.2222222222222222,
              "#7201a8"
             ],
             [
              0.3333333333333333,
              "#9c179e"
             ],
             [
              0.4444444444444444,
              "#bd3786"
             ],
             [
              0.5555555555555556,
              "#d8576b"
             ],
             [
              0.6666666666666666,
              "#ed7953"
             ],
             [
              0.7777777777777778,
              "#fb9f3a"
             ],
             [
              0.8888888888888888,
              "#fdca26"
             ],
             [
              1,
              "#f0f921"
             ]
            ],
            "type": "surface"
           }
          ],
          "table": [
           {
            "cells": {
             "fill": {
              "color": "#EBF0F8"
             },
             "line": {
              "color": "white"
             }
            },
            "header": {
             "fill": {
              "color": "#C8D4E3"
             },
             "line": {
              "color": "white"
             }
            },
            "type": "table"
           }
          ]
         },
         "layout": {
          "annotationdefaults": {
           "arrowcolor": "#2a3f5f",
           "arrowhead": 0,
           "arrowwidth": 1
          },
          "autotypenumbers": "strict",
          "coloraxis": {
           "colorbar": {
            "outlinewidth": 0,
            "ticks": ""
           }
          },
          "colorscale": {
           "diverging": [
            [
             0,
             "#8e0152"
            ],
            [
             0.1,
             "#c51b7d"
            ],
            [
             0.2,
             "#de77ae"
            ],
            [
             0.3,
             "#f1b6da"
            ],
            [
             0.4,
             "#fde0ef"
            ],
            [
             0.5,
             "#f7f7f7"
            ],
            [
             0.6,
             "#e6f5d0"
            ],
            [
             0.7,
             "#b8e186"
            ],
            [
             0.8,
             "#7fbc41"
            ],
            [
             0.9,
             "#4d9221"
            ],
            [
             1,
             "#276419"
            ]
           ],
           "sequential": [
            [
             0,
             "#0d0887"
            ],
            [
             0.1111111111111111,
             "#46039f"
            ],
            [
             0.2222222222222222,
             "#7201a8"
            ],
            [
             0.3333333333333333,
             "#9c179e"
            ],
            [
             0.4444444444444444,
             "#bd3786"
            ],
            [
             0.5555555555555556,
             "#d8576b"
            ],
            [
             0.6666666666666666,
             "#ed7953"
            ],
            [
             0.7777777777777778,
             "#fb9f3a"
            ],
            [
             0.8888888888888888,
             "#fdca26"
            ],
            [
             1,
             "#f0f921"
            ]
           ],
           "sequentialminus": [
            [
             0,
             "#0d0887"
            ],
            [
             0.1111111111111111,
             "#46039f"
            ],
            [
             0.2222222222222222,
             "#7201a8"
            ],
            [
             0.3333333333333333,
             "#9c179e"
            ],
            [
             0.4444444444444444,
             "#bd3786"
            ],
            [
             0.5555555555555556,
             "#d8576b"
            ],
            [
             0.6666666666666666,
             "#ed7953"
            ],
            [
             0.7777777777777778,
             "#fb9f3a"
            ],
            [
             0.8888888888888888,
             "#fdca26"
            ],
            [
             1,
             "#f0f921"
            ]
           ]
          },
          "colorway": [
           "#636efa",
           "#EF553B",
           "#00cc96",
           "#ab63fa",
           "#FFA15A",
           "#19d3f3",
           "#FF6692",
           "#B6E880",
           "#FF97FF",
           "#FECB52"
          ],
          "font": {
           "color": "#2a3f5f"
          },
          "geo": {
           "bgcolor": "white",
           "lakecolor": "white",
           "landcolor": "#E5ECF6",
           "showlakes": true,
           "showland": true,
           "subunitcolor": "white"
          },
          "hoverlabel": {
           "align": "left"
          },
          "hovermode": "closest",
          "mapbox": {
           "style": "light"
          },
          "paper_bgcolor": "white",
          "plot_bgcolor": "#E5ECF6",
          "polar": {
           "angularaxis": {
            "gridcolor": "white",
            "linecolor": "white",
            "ticks": ""
           },
           "bgcolor": "#E5ECF6",
           "radialaxis": {
            "gridcolor": "white",
            "linecolor": "white",
            "ticks": ""
           }
          },
          "scene": {
           "xaxis": {
            "backgroundcolor": "#E5ECF6",
            "gridcolor": "white",
            "gridwidth": 2,
            "linecolor": "white",
            "showbackground": true,
            "ticks": "",
            "zerolinecolor": "white"
           },
           "yaxis": {
            "backgroundcolor": "#E5ECF6",
            "gridcolor": "white",
            "gridwidth": 2,
            "linecolor": "white",
            "showbackground": true,
            "ticks": "",
            "zerolinecolor": "white"
           },
           "zaxis": {
            "backgroundcolor": "#E5ECF6",
            "gridcolor": "white",
            "gridwidth": 2,
            "linecolor": "white",
            "showbackground": true,
            "ticks": "",
            "zerolinecolor": "white"
           }
          },
          "shapedefaults": {
           "line": {
            "color": "#2a3f5f"
           }
          },
          "ternary": {
           "aaxis": {
            "gridcolor": "white",
            "linecolor": "white",
            "ticks": ""
           },
           "baxis": {
            "gridcolor": "white",
            "linecolor": "white",
            "ticks": ""
           },
           "bgcolor": "#E5ECF6",
           "caxis": {
            "gridcolor": "white",
            "linecolor": "white",
            "ticks": ""
           }
          },
          "title": {
           "x": 0.05
          },
          "xaxis": {
           "automargin": true,
           "gridcolor": "white",
           "linecolor": "white",
           "ticks": "",
           "title": {
            "standoff": 15
           },
           "zerolinecolor": "white",
           "zerolinewidth": 2
          },
          "yaxis": {
           "automargin": true,
           "gridcolor": "white",
           "linecolor": "white",
           "ticks": "",
           "title": {
            "standoff": 15
           },
           "zerolinecolor": "white",
           "zerolinewidth": 2
          }
         }
        },
        "title": {
         "text": "Top 50 Songs"
        },
        "xaxis": {
         "anchor": "y",
         "domain": [
          0,
          1
         ],
         "title": {
          "text": "track_name"
         }
        },
        "yaxis": {
         "anchor": "x",
         "domain": [
          0,
          1
         ],
         "title": {
          "text": "minutes_played"
         }
        }
       }
      },
      "text/html": [
       "<div>                            <div id=\"6a79e887-96e0-4193-8f5c-01881a6fca77\" class=\"plotly-graph-div\" style=\"height:525px; width:100%;\"></div>            <script type=\"text/javascript\">                require([\"plotly\"], function(Plotly) {                    window.PLOTLYENV=window.PLOTLYENV || {};                                    if (document.getElementById(\"6a79e887-96e0-4193-8f5c-01881a6fca77\")) {                    Plotly.newPlot(                        \"6a79e887-96e0-4193-8f5c-01881a6fca77\",                        [{\"hovertemplate\": \"track_name=%{x}<br>minutes_played=%{y}<extra></extra>\", \"legendgroup\": \"\", \"marker\": {\"color\": \"#636efa\", \"symbol\": \"circle\"}, \"mode\": \"markers\", \"name\": \"\", \"orientation\": \"v\", \"showlegend\": false, \"type\": \"scatter\", \"x\": [\"Good Days\", \"Glock Six - Bonus\", \"Trisha & Ethan Do Oddly Satisfying Trends - Frenemies # 30\", \"Headaches\", \"Jake Paul, Wendy Williams, Bhad Bhabie & Dr. Phil - H3 After Dark # 31\", \"Solitaires (feat. Travis Scott)\", \"Darte Remix\", \"Satayera\", \"Mausam\", \"Moving Naughty (feat. Aitch & B Young)\", \"If Only\", \"Honey\", \"Okinawa\", \"From Time\", \"Tsunami\", \"CAN'T SAY\", \"Jealous (feat. Rico Nasty)\", \"Close\", \"Kiss Me More (feat. SZA)\", \"Protests and the Pandemic with Michele Norris\", \"Maya Ma\", \"Ordinary\", \"telepat\\u00eda\", \"It's Time To Stop James Charles - H3 Podcast # 241\", \"Sathi\", \"Stronger\", \"No Idea\", \"Baby\", \"Mystery Lady (feat. Don Toliver)\", \"Introspection\", \"GREECE (feat. Drake)\", \"STARGAZING\", \"This Universe\", \"B.S. (feat. H.E.R.)\", \"Trisha\\u2019s Epic Passover Dinner At Ethan\\u2019s - Frenemies # 29\", \"Hold On\", \"Love Affair\", \"FLEX\", \"Nonstop\", \"Good Morning\", \"Life Is Good (feat. Drake)\", \"DOLLAZ ON MY HEAD (feat. Young Thug)\", \"Jumpman\", \"10k Hours (feat. Nas)\", \"Chicago Freestyle (feat. Giveon)\", \"Dior\", \"The London (feat. J. Cole & Travis Scott)\", \"REVENGE\", \"After Party\", \"Luving U\", \"Down to Earth\"], \"xaxis\": \"x\", \"y\": [309.6950833333331, 224.37874999999974, 207.51531666666665, 201.73926666666654, 197.45346666666666, 184.76173333333332, 169.73806666666667, 169.69795000000013, 162.7831833333333, 160.47245000000012, 160.30509999999992, 159.5622166666666, 157.31636666666662, 154.52378333333337, 145.79901666666663, 134.89561666666663, 133.98081666666673, 132.09521666666663, 128.3622833333333, 124.07131666666666, 121.16208333333338, 120.3847, 119.74203333333325, 117.59815, 116.47113333333334, 115.70511666666667, 114.34225000000008, 114.04814999999996, 113.61851666666671, 111.73273333333333, 111.54796666666662, 109.91419999999995, 108.22126666666665, 106.53976666666662, 106.17945, 105.95556666666667, 103.02944999999998, 102.91988333333329, 102.57081666666667, 102.24793333333335, 102.22639999999997, 100.94006666666672, 100.53126666666665, 100.43550000000002, 98.86745000000003, 98.78285, 98.34706666666662, 96.96955000000005, 96.37663333333336, 96.21100000000001, 94.50071666666665], \"yaxis\": \"y\"}],                        {\"legend\": {\"tracegroupgap\": 0}, \"template\": {\"data\": {\"bar\": [{\"error_x\": {\"color\": \"#2a3f5f\"}, \"error_y\": {\"color\": \"#2a3f5f\"}, \"marker\": {\"line\": {\"color\": \"#E5ECF6\", \"width\": 0.5}}, \"type\": \"bar\"}], \"barpolar\": [{\"marker\": {\"line\": {\"color\": \"#E5ECF6\", \"width\": 0.5}}, \"type\": \"barpolar\"}], \"carpet\": [{\"aaxis\": {\"endlinecolor\": \"#2a3f5f\", \"gridcolor\": \"white\", \"linecolor\": \"white\", \"minorgridcolor\": \"white\", \"startlinecolor\": \"#2a3f5f\"}, \"baxis\": {\"endlinecolor\": \"#2a3f5f\", \"gridcolor\": \"white\", \"linecolor\": \"white\", \"minorgridcolor\": \"white\", \"startlinecolor\": \"#2a3f5f\"}, \"type\": \"carpet\"}], \"choropleth\": [{\"colorbar\": {\"outlinewidth\": 0, \"ticks\": \"\"}, \"type\": \"choropleth\"}], \"contour\": [{\"colorbar\": {\"outlinewidth\": 0, \"ticks\": \"\"}, \"colorscale\": [[0.0, \"#0d0887\"], [0.1111111111111111, \"#46039f\"], [0.2222222222222222, \"#7201a8\"], [0.3333333333333333, \"#9c179e\"], [0.4444444444444444, \"#bd3786\"], [0.5555555555555556, \"#d8576b\"], [0.6666666666666666, \"#ed7953\"], [0.7777777777777778, \"#fb9f3a\"], [0.8888888888888888, \"#fdca26\"], [1.0, \"#f0f921\"]], \"type\": \"contour\"}], \"contourcarpet\": [{\"colorbar\": {\"outlinewidth\": 0, \"ticks\": \"\"}, \"type\": \"contourcarpet\"}], \"heatmap\": [{\"colorbar\": {\"outlinewidth\": 0, \"ticks\": \"\"}, \"colorscale\": [[0.0, \"#0d0887\"], [0.1111111111111111, \"#46039f\"], [0.2222222222222222, \"#7201a8\"], [0.3333333333333333, \"#9c179e\"], [0.4444444444444444, \"#bd3786\"], [0.5555555555555556, \"#d8576b\"], [0.6666666666666666, \"#ed7953\"], [0.7777777777777778, \"#fb9f3a\"], [0.8888888888888888, \"#fdca26\"], [1.0, \"#f0f921\"]], \"type\": \"heatmap\"}], \"heatmapgl\": [{\"colorbar\": {\"outlinewidth\": 0, \"ticks\": \"\"}, \"colorscale\": [[0.0, \"#0d0887\"], [0.1111111111111111, \"#46039f\"], [0.2222222222222222, \"#7201a8\"], [0.3333333333333333, \"#9c179e\"], [0.4444444444444444, \"#bd3786\"], [0.5555555555555556, \"#d8576b\"], [0.6666666666666666, \"#ed7953\"], [0.7777777777777778, \"#fb9f3a\"], [0.8888888888888888, \"#fdca26\"], [1.0, \"#f0f921\"]], \"type\": \"heatmapgl\"}], \"histogram\": [{\"marker\": {\"colorbar\": {\"outlinewidth\": 0, \"ticks\": \"\"}}, \"type\": \"histogram\"}], \"histogram2d\": [{\"colorbar\": {\"outlinewidth\": 0, \"ticks\": \"\"}, \"colorscale\": [[0.0, \"#0d0887\"], [0.1111111111111111, \"#46039f\"], [0.2222222222222222, \"#7201a8\"], [0.3333333333333333, \"#9c179e\"], [0.4444444444444444, \"#bd3786\"], [0.5555555555555556, \"#d8576b\"], [0.6666666666666666, \"#ed7953\"], [0.7777777777777778, \"#fb9f3a\"], [0.8888888888888888, \"#fdca26\"], [1.0, \"#f0f921\"]], \"type\": \"histogram2d\"}], \"histogram2dcontour\": [{\"colorbar\": {\"outlinewidth\": 0, \"ticks\": \"\"}, \"colorscale\": [[0.0, \"#0d0887\"], [0.1111111111111111, \"#46039f\"], [0.2222222222222222, \"#7201a8\"], [0.3333333333333333, \"#9c179e\"], [0.4444444444444444, \"#bd3786\"], [0.5555555555555556, \"#d8576b\"], [0.6666666666666666, \"#ed7953\"], [0.7777777777777778, \"#fb9f3a\"], [0.8888888888888888, \"#fdca26\"], [1.0, \"#f0f921\"]], \"type\": \"histogram2dcontour\"}], \"mesh3d\": [{\"colorbar\": {\"outlinewidth\": 0, \"ticks\": \"\"}, \"type\": \"mesh3d\"}], \"parcoords\": [{\"line\": {\"colorbar\": {\"outlinewidth\": 0, \"ticks\": \"\"}}, \"type\": \"parcoords\"}], \"pie\": [{\"automargin\": true, \"type\": \"pie\"}], \"scatter\": [{\"marker\": {\"colorbar\": {\"outlinewidth\": 0, \"ticks\": \"\"}}, \"type\": \"scatter\"}], \"scatter3d\": [{\"line\": {\"colorbar\": {\"outlinewidth\": 0, \"ticks\": \"\"}}, \"marker\": {\"colorbar\": {\"outlinewidth\": 0, \"ticks\": \"\"}}, \"type\": \"scatter3d\"}], \"scattercarpet\": [{\"marker\": {\"colorbar\": {\"outlinewidth\": 0, \"ticks\": \"\"}}, \"type\": \"scattercarpet\"}], \"scattergeo\": [{\"marker\": {\"colorbar\": {\"outlinewidth\": 0, \"ticks\": \"\"}}, \"type\": \"scattergeo\"}], \"scattergl\": [{\"marker\": {\"colorbar\": {\"outlinewidth\": 0, \"ticks\": \"\"}}, \"type\": \"scattergl\"}], \"scattermapbox\": [{\"marker\": {\"colorbar\": {\"outlinewidth\": 0, \"ticks\": \"\"}}, \"type\": \"scattermapbox\"}], \"scatterpolar\": [{\"marker\": {\"colorbar\": {\"outlinewidth\": 0, \"ticks\": \"\"}}, \"type\": \"scatterpolar\"}], \"scatterpolargl\": [{\"marker\": {\"colorbar\": {\"outlinewidth\": 0, \"ticks\": \"\"}}, \"type\": \"scatterpolargl\"}], \"scatterternary\": [{\"marker\": {\"colorbar\": {\"outlinewidth\": 0, \"ticks\": \"\"}}, \"type\": \"scatterternary\"}], \"surface\": [{\"colorbar\": {\"outlinewidth\": 0, \"ticks\": \"\"}, \"colorscale\": [[0.0, \"#0d0887\"], [0.1111111111111111, \"#46039f\"], [0.2222222222222222, \"#7201a8\"], [0.3333333333333333, \"#9c179e\"], [0.4444444444444444, \"#bd3786\"], [0.5555555555555556, \"#d8576b\"], [0.6666666666666666, \"#ed7953\"], [0.7777777777777778, \"#fb9f3a\"], [0.8888888888888888, \"#fdca26\"], [1.0, \"#f0f921\"]], \"type\": \"surface\"}], \"table\": [{\"cells\": {\"fill\": {\"color\": \"#EBF0F8\"}, \"line\": {\"color\": \"white\"}}, \"header\": {\"fill\": {\"color\": \"#C8D4E3\"}, \"line\": {\"color\": \"white\"}}, \"type\": \"table\"}]}, \"layout\": {\"annotationdefaults\": {\"arrowcolor\": \"#2a3f5f\", \"arrowhead\": 0, \"arrowwidth\": 1}, \"autotypenumbers\": \"strict\", \"coloraxis\": {\"colorbar\": {\"outlinewidth\": 0, \"ticks\": \"\"}}, \"colorscale\": {\"diverging\": [[0, \"#8e0152\"], [0.1, \"#c51b7d\"], [0.2, \"#de77ae\"], [0.3, \"#f1b6da\"], [0.4, \"#fde0ef\"], [0.5, \"#f7f7f7\"], [0.6, \"#e6f5d0\"], [0.7, \"#b8e186\"], [0.8, \"#7fbc41\"], [0.9, \"#4d9221\"], [1, \"#276419\"]], \"sequential\": [[0.0, \"#0d0887\"], [0.1111111111111111, \"#46039f\"], [0.2222222222222222, \"#7201a8\"], [0.3333333333333333, \"#9c179e\"], [0.4444444444444444, \"#bd3786\"], [0.5555555555555556, \"#d8576b\"], [0.6666666666666666, \"#ed7953\"], [0.7777777777777778, \"#fb9f3a\"], [0.8888888888888888, \"#fdca26\"], [1.0, \"#f0f921\"]], \"sequentialminus\": [[0.0, \"#0d0887\"], [0.1111111111111111, \"#46039f\"], [0.2222222222222222, \"#7201a8\"], [0.3333333333333333, \"#9c179e\"], [0.4444444444444444, \"#bd3786\"], [0.5555555555555556, \"#d8576b\"], [0.6666666666666666, \"#ed7953\"], [0.7777777777777778, \"#fb9f3a\"], [0.8888888888888888, \"#fdca26\"], [1.0, \"#f0f921\"]]}, \"colorway\": [\"#636efa\", \"#EF553B\", \"#00cc96\", \"#ab63fa\", \"#FFA15A\", \"#19d3f3\", \"#FF6692\", \"#B6E880\", \"#FF97FF\", \"#FECB52\"], \"font\": {\"color\": \"#2a3f5f\"}, \"geo\": {\"bgcolor\": \"white\", \"lakecolor\": \"white\", \"landcolor\": \"#E5ECF6\", \"showlakes\": true, \"showland\": true, \"subunitcolor\": \"white\"}, \"hoverlabel\": {\"align\": \"left\"}, \"hovermode\": \"closest\", \"mapbox\": {\"style\": \"light\"}, \"paper_bgcolor\": \"white\", \"plot_bgcolor\": \"#E5ECF6\", \"polar\": {\"angularaxis\": {\"gridcolor\": \"white\", \"linecolor\": \"white\", \"ticks\": \"\"}, \"bgcolor\": \"#E5ECF6\", \"radialaxis\": {\"gridcolor\": \"white\", \"linecolor\": \"white\", \"ticks\": \"\"}}, \"scene\": {\"xaxis\": {\"backgroundcolor\": \"#E5ECF6\", \"gridcolor\": \"white\", \"gridwidth\": 2, \"linecolor\": \"white\", \"showbackground\": true, \"ticks\": \"\", \"zerolinecolor\": \"white\"}, \"yaxis\": {\"backgroundcolor\": \"#E5ECF6\", \"gridcolor\": \"white\", \"gridwidth\": 2, \"linecolor\": \"white\", \"showbackground\": true, \"ticks\": \"\", \"zerolinecolor\": \"white\"}, \"zaxis\": {\"backgroundcolor\": \"#E5ECF6\", \"gridcolor\": \"white\", \"gridwidth\": 2, \"linecolor\": \"white\", \"showbackground\": true, \"ticks\": \"\", \"zerolinecolor\": \"white\"}}, \"shapedefaults\": {\"line\": {\"color\": \"#2a3f5f\"}}, \"ternary\": {\"aaxis\": {\"gridcolor\": \"white\", \"linecolor\": \"white\", \"ticks\": \"\"}, \"baxis\": {\"gridcolor\": \"white\", \"linecolor\": \"white\", \"ticks\": \"\"}, \"bgcolor\": \"#E5ECF6\", \"caxis\": {\"gridcolor\": \"white\", \"linecolor\": \"white\", \"ticks\": \"\"}}, \"title\": {\"x\": 0.05}, \"xaxis\": {\"automargin\": true, \"gridcolor\": \"white\", \"linecolor\": \"white\", \"ticks\": \"\", \"title\": {\"standoff\": 15}, \"zerolinecolor\": \"white\", \"zerolinewidth\": 2}, \"yaxis\": {\"automargin\": true, \"gridcolor\": \"white\", \"linecolor\": \"white\", \"ticks\": \"\", \"title\": {\"standoff\": 15}, \"zerolinecolor\": \"white\", \"zerolinewidth\": 2}}}, \"title\": {\"text\": \"Top 50 Songs\"}, \"xaxis\": {\"anchor\": \"y\", \"domain\": [0.0, 1.0], \"title\": {\"text\": \"track_name\"}}, \"yaxis\": {\"anchor\": \"x\", \"domain\": [0.0, 1.0], \"title\": {\"text\": \"minutes_played\"}}},                        {\"responsive\": true}                    ).then(function(){\n",
       "                            \n",
       "var gd = document.getElementById('6a79e887-96e0-4193-8f5c-01881a6fca77');\n",
       "var x = new MutationObserver(function (mutations, observer) {{\n",
       "        var display = window.getComputedStyle(gd).display;\n",
       "        if (!display || display === 'none') {{\n",
       "            console.log([gd, 'removed!']);\n",
       "            Plotly.purge(gd);\n",
       "            observer.disconnect();\n",
       "        }}\n",
       "}});\n",
       "\n",
       "// Listen for the removal of the full notebook cells\n",
       "var notebookContainer = gd.closest('#notebook-container');\n",
       "if (notebookContainer) {{\n",
       "    x.observe(notebookContainer, {childList: true});\n",
       "}}\n",
       "\n",
       "// Listen for the clearing of the current output cell\n",
       "var outputEl = gd.closest('.output');\n",
       "if (outputEl) {{\n",
       "    x.observe(outputEl, {childList: true});\n",
       "}}\n",
       "\n",
       "                        })                };                });            </script>        </div>"
      ]
     },
     "metadata": {},
     "output_type": "display_data"
    }
   ],
   "source": [
    "fig = px.scatter(top_50, x=\"track_name\", y=\"minutes_played\", title=\"Top 50 Songs\")\n",
    "fig.show()"
   ]
  },
  {
   "cell_type": "code",
   "execution_count": null,
   "metadata": {},
   "outputs": [],
   "source": []
  }
 ],
 "metadata": {
  "kernelspec": {
   "display_name": "Python 3",
   "language": "python",
   "name": "python3"
  },
  "language_info": {
   "codemirror_mode": {
    "name": "ipython",
    "version": 3
   },
   "file_extension": ".py",
   "mimetype": "text/x-python",
   "name": "python",
   "nbconvert_exporter": "python",
   "pygments_lexer": "ipython3",
   "version": "3.8.3"
  }
 },
 "nbformat": 4,
 "nbformat_minor": 4
}
